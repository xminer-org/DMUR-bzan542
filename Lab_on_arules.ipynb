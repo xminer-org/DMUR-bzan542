{
 "cells": [
  {
   "cell_type": "markdown",
   "metadata": {},
   "source": [
    "BZAN 542\n",
    "\n",
    "Charles Liu"
   ]
  },
  {
   "cell_type": "markdown",
   "metadata": {},
   "source": [
    "# Packages"
   ]
  },
  {
   "cell_type": "code",
   "execution_count": 1,
   "metadata": {
    "ExecuteTime": {
     "end_time": "2021-03-30T12:53:15.551068Z",
     "start_time": "2021-03-30T12:53:14.735Z"
    }
   },
   "outputs": [
    {
     "name": "stderr",
     "output_type": "stream",
     "text": [
      "\n",
      "Attaching package: ‘dplyr’\n",
      "\n",
      "\n",
      "The following objects are masked from ‘package:stats’:\n",
      "\n",
      "    filter, lag\n",
      "\n",
      "\n",
      "The following objects are masked from ‘package:base’:\n",
      "\n",
      "    intersect, setdiff, setequal, union\n",
      "\n",
      "\n",
      "Loading required package: Matrix\n",
      "\n",
      "\n",
      "Attaching package: ‘arules’\n",
      "\n",
      "\n",
      "The following object is masked from ‘package:dplyr’:\n",
      "\n",
      "    recode\n",
      "\n",
      "\n",
      "The following objects are masked from ‘package:base’:\n",
      "\n",
      "    abbreviate, write\n",
      "\n",
      "\n"
     ]
    }
   ],
   "source": [
    "library('dplyr')\n",
    "library('arules')"
   ]
  },
  {
   "cell_type": "markdown",
   "metadata": {},
   "source": [
    "# Data"
   ]
  },
  {
   "cell_type": "markdown",
   "metadata": {},
   "source": [
    "## Read the file as data frame."
   ]
  },
  {
   "cell_type": "code",
   "execution_count": 2,
   "metadata": {
    "ExecuteTime": {
     "end_time": "2021-03-30T12:53:15.966545Z",
     "start_time": "2021-03-30T12:53:14.737Z"
    }
   },
   "outputs": [
    {
     "data": {
      "text/html": [
       "<table class=\"dataframe\">\n",
       "<caption>A data.frame: 6 × 4</caption>\n",
       "<thead>\n",
       "\t<tr><th></th><th scope=col>user</th><th scope=col>artist</th><th scope=col>sex</th><th scope=col>country</th></tr>\n",
       "\t<tr><th></th><th scope=col>&lt;int&gt;</th><th scope=col>&lt;chr&gt;</th><th scope=col>&lt;chr&gt;</th><th scope=col>&lt;chr&gt;</th></tr>\n",
       "</thead>\n",
       "<tbody>\n",
       "\t<tr><th scope=row>1</th><td>1</td><td>red hot chili peppers  </td><td>f</td><td>Germany</td></tr>\n",
       "\t<tr><th scope=row>2</th><td>1</td><td>the black dahlia murder</td><td>f</td><td>Germany</td></tr>\n",
       "\t<tr><th scope=row>3</th><td>1</td><td>goldfrapp              </td><td>f</td><td>Germany</td></tr>\n",
       "\t<tr><th scope=row>4</th><td>1</td><td>dropkick murphys       </td><td>f</td><td>Germany</td></tr>\n",
       "\t<tr><th scope=row>5</th><td>1</td><td>le tigre               </td><td>f</td><td>Germany</td></tr>\n",
       "\t<tr><th scope=row>6</th><td>1</td><td>schandmaul             </td><td>f</td><td>Germany</td></tr>\n",
       "</tbody>\n",
       "</table>\n"
      ],
      "text/latex": [
       "A data.frame: 6 × 4\n",
       "\\begin{tabular}{r|llll}\n",
       "  & user & artist & sex & country\\\\\n",
       "  & <int> & <chr> & <chr> & <chr>\\\\\n",
       "\\hline\n",
       "\t1 & 1 & red hot chili peppers   & f & Germany\\\\\n",
       "\t2 & 1 & the black dahlia murder & f & Germany\\\\\n",
       "\t3 & 1 & goldfrapp               & f & Germany\\\\\n",
       "\t4 & 1 & dropkick murphys        & f & Germany\\\\\n",
       "\t5 & 1 & le tigre                & f & Germany\\\\\n",
       "\t6 & 1 & schandmaul              & f & Germany\\\\\n",
       "\\end{tabular}\n"
      ],
      "text/markdown": [
       "\n",
       "A data.frame: 6 × 4\n",
       "\n",
       "| <!--/--> | user &lt;int&gt; | artist &lt;chr&gt; | sex &lt;chr&gt; | country &lt;chr&gt; |\n",
       "|---|---|---|---|---|\n",
       "| 1 | 1 | red hot chili peppers   | f | Germany |\n",
       "| 2 | 1 | the black dahlia murder | f | Germany |\n",
       "| 3 | 1 | goldfrapp               | f | Germany |\n",
       "| 4 | 1 | dropkick murphys        | f | Germany |\n",
       "| 5 | 1 | le tigre                | f | Germany |\n",
       "| 6 | 1 | schandmaul              | f | Germany |\n",
       "\n"
      ],
      "text/plain": [
       "  user artist                  sex country\n",
       "1 1    red hot chili peppers   f   Germany\n",
       "2 1    the black dahlia murder f   Germany\n",
       "3 1    goldfrapp               f   Germany\n",
       "4 1    dropkick murphys        f   Germany\n",
       "5 1    le tigre                f   Germany\n",
       "6 1    schandmaul              f   Germany"
      ]
     },
     "metadata": {},
     "output_type": "display_data"
    },
    {
     "data": {
      "text/html": [
       "<style>\n",
       ".list-inline {list-style: none; margin:0; padding: 0}\n",
       ".list-inline>li {display: inline-block}\n",
       ".list-inline>li:not(:last-child)::after {content: \"\\00b7\"; padding: 0 .5ex}\n",
       "</style>\n",
       "<ol class=list-inline><li>289955</li><li>4</li></ol>\n"
      ],
      "text/latex": [
       "\\begin{enumerate*}\n",
       "\\item 289955\n",
       "\\item 4\n",
       "\\end{enumerate*}\n"
      ],
      "text/markdown": [
       "1. 289955\n",
       "2. 4\n",
       "\n",
       "\n"
      ],
      "text/plain": [
       "[1] 289955      4"
      ]
     },
     "metadata": {},
     "output_type": "display_data"
    }
   ],
   "source": [
    "lastfm <- read.csv(\"lastfm.csv\")\n",
    "head(lastfm)\n",
    "dim(lastfm)"
   ]
  },
  {
   "cell_type": "code",
   "execution_count": 3,
   "metadata": {
    "ExecuteTime": {
     "end_time": "2021-03-30T12:53:16.034460Z",
     "start_time": "2021-03-30T12:53:14.738Z"
    }
   },
   "outputs": [
    {
     "data": {
      "text/html": [
       "<table class=\"dataframe\">\n",
       "<caption>A data.frame: 1 × 4</caption>\n",
       "<thead>\n",
       "\t<tr><th scope=col>user</th><th scope=col>artist</th><th scope=col>sex</th><th scope=col>country</th></tr>\n",
       "\t<tr><th scope=col>&lt;int&gt;</th><th scope=col>&lt;int&gt;</th><th scope=col>&lt;int&gt;</th><th scope=col>&lt;int&gt;</th></tr>\n",
       "</thead>\n",
       "<tbody>\n",
       "\t<tr><td>15000</td><td>1004</td><td>2</td><td>159</td></tr>\n",
       "</tbody>\n",
       "</table>\n"
      ],
      "text/latex": [
       "A data.frame: 1 × 4\n",
       "\\begin{tabular}{llll}\n",
       " user & artist & sex & country\\\\\n",
       " <int> & <int> & <int> & <int>\\\\\n",
       "\\hline\n",
       "\t 15000 & 1004 & 2 & 159\\\\\n",
       "\\end{tabular}\n"
      ],
      "text/markdown": [
       "\n",
       "A data.frame: 1 × 4\n",
       "\n",
       "| user &lt;int&gt; | artist &lt;int&gt; | sex &lt;int&gt; | country &lt;int&gt; |\n",
       "|---|---|---|---|\n",
       "| 15000 | 1004 | 2 | 159 |\n",
       "\n"
      ],
      "text/plain": [
       "  user  artist sex country\n",
       "1 15000 1004   2   159    "
      ]
     },
     "metadata": {},
     "output_type": "display_data"
    }
   ],
   "source": [
    "summarise_all(lastfm, n_distinct)"
   ]
  },
  {
   "cell_type": "code",
   "execution_count": 4,
   "metadata": {
    "ExecuteTime": {
     "end_time": "2021-03-30T12:53:16.491628Z",
     "start_time": "2021-03-30T12:53:14.740Z"
    }
   },
   "outputs": [
    {
     "data": {
      "text/html": [
       "<table class=\"dataframe\">\n",
       "<caption>A tibble: 6 × 2</caption>\n",
       "<thead>\n",
       "\t<tr><th scope=col>user</th><th scope=col>artists</th></tr>\n",
       "\t<tr><th scope=col>&lt;int&gt;</th><th scope=col>&lt;list&gt;</th></tr>\n",
       "</thead>\n",
       "<tbody>\n",
       "\t<tr><td>1</td><td>red hot chili peppers  , the black dahlia murder, goldfrapp              , dropkick murphys       , le tigre               , schandmaul             , edguy                  , jack johnson           , eluveitie              , the killers            , judas priest           , rob zombie             , john mayer             , the who                , guano apes             , the rolling stones     </td></tr>\n",
       "\t<tr><td>3</td><td>devendra banhart   , boards of canada   , cocorosie          , aphex twin         , animal collective  , atmosphere         , joanna newsom      , air                , portishead         , massive attack     , broken social scene, arcade fire        , plaid              , prefuse 73         , m83                , the flashbulb      , pavement           , goldfrapp          , amon tobin         , sage francis       , four tet           , max richter        , autechre           , radiohead          , neutral milk hotel , beastie boys       , aesop rock         , mf doom            , the books          </td></tr>\n",
       "\t<tr><td>4</td><td>tv on the radio        , tool                   , kyuss                  , dj shadow              , air                    , a tribe called quest   , the cinematic orchestra, beck                   , bon iver               , röyksopp               , bonobo                 , the decemberists       , snow patrol            , battles                , the prodigy            , pink floyd             , rjd2                   , the flaming lips       , michael jackson        , mgmt                   , the rolling stones     , late of the pier       , flight of the conchords, simian mobile disco    , muse                   , fleetwood mac          , led zeppelin           </td></tr>\n",
       "\t<tr><td>5</td><td><span style=white-space:pre-wrap>dream theater           , ac/dc                   , metallica               , iron maiden             , bob marley &amp; the wailers, megadeth                , children of bodom       , trivium                 , nightwish               , sublime                 , volbeat                 </span></td></tr>\n",
       "\t<tr><td>6</td><td>lily allen          , kanye west          , sigur rós           , pink floyd          , stevie wonder       , metallica           , thievery corporation, iron maiden         , the streets         , muse                , faith no more       , manu chao           , tenacious d         , depeche mode        , justin timberlake   , green day           , snow patrol         , dream theater       , u2                  , jay-z               , type o negative     , pearl jam           , queen               </td></tr>\n",
       "\t<tr><td>7</td><td>soundgarden        , stone temple pilots, buckethead         , dream theater      , alice in chains    , type o negative    , pink floyd         , rush               , king crimson       , camel              , ac/dc              , tool               , disturbed          , oasis              , jethro tull        , porcupine tree     , audioslave         , aerosmith          , pearl jam          , the verve          , rammstein          , led zeppelin       </td></tr>\n",
       "</tbody>\n",
       "</table>\n"
      ],
      "text/latex": [
       "A tibble: 6 × 2\n",
       "\\begin{tabular}{ll}\n",
       " user & artists\\\\\n",
       " <int> & <list>\\\\\n",
       "\\hline\n",
       "\t 1 & red hot chili peppers  , the black dahlia murder, goldfrapp              , dropkick murphys       , le tigre               , schandmaul             , edguy                  , jack johnson           , eluveitie              , the killers            , judas priest           , rob zombie             , john mayer             , the who                , guano apes             , the rolling stones     \\\\\n",
       "\t 3 & devendra banhart   , boards of canada   , cocorosie          , aphex twin         , animal collective  , atmosphere         , joanna newsom      , air                , portishead         , massive attack     , broken social scene, arcade fire        , plaid              , prefuse 73         , m83                , the flashbulb      , pavement           , goldfrapp          , amon tobin         , sage francis       , four tet           , max richter        , autechre           , radiohead          , neutral milk hotel , beastie boys       , aesop rock         , mf doom            , the books          \\\\\n",
       "\t 4 & tv on the radio        , tool                   , kyuss                  , dj shadow              , air                    , a tribe called quest   , the cinematic orchestra, beck                   , bon iver               , röyksopp               , bonobo                 , the decemberists       , snow patrol            , battles                , the prodigy            , pink floyd             , rjd2                   , the flaming lips       , michael jackson        , mgmt                   , the rolling stones     , late of the pier       , flight of the conchords, simian mobile disco    , muse                   , fleetwood mac          , led zeppelin           \\\\\n",
       "\t 5 & dream theater           , ac/dc                   , metallica               , iron maiden             , bob marley \\& the wailers, megadeth                , children of bodom       , trivium                 , nightwish               , sublime                 , volbeat                 \\\\\n",
       "\t 6 & lily allen          , kanye west          , sigur rós           , pink floyd          , stevie wonder       , metallica           , thievery corporation, iron maiden         , the streets         , muse                , faith no more       , manu chao           , tenacious d         , depeche mode        , justin timberlake   , green day           , snow patrol         , dream theater       , u2                  , jay-z               , type o negative     , pearl jam           , queen               \\\\\n",
       "\t 7 & soundgarden        , stone temple pilots, buckethead         , dream theater      , alice in chains    , type o negative    , pink floyd         , rush               , king crimson       , camel              , ac/dc              , tool               , disturbed          , oasis              , jethro tull        , porcupine tree     , audioslave         , aerosmith          , pearl jam          , the verve          , rammstein          , led zeppelin       \\\\\n",
       "\\end{tabular}\n"
      ],
      "text/markdown": [
       "\n",
       "A tibble: 6 × 2\n",
       "\n",
       "| user &lt;int&gt; | artists &lt;list&gt; |\n",
       "|---|---|\n",
       "| 1 | red hot chili peppers  , the black dahlia murder, goldfrapp              , dropkick murphys       , le tigre               , schandmaul             , edguy                  , jack johnson           , eluveitie              , the killers            , judas priest           , rob zombie             , john mayer             , the who                , guano apes             , the rolling stones      |\n",
       "| 3 | devendra banhart   , boards of canada   , cocorosie          , aphex twin         , animal collective  , atmosphere         , joanna newsom      , air                , portishead         , massive attack     , broken social scene, arcade fire        , plaid              , prefuse 73         , m83                , the flashbulb      , pavement           , goldfrapp          , amon tobin         , sage francis       , four tet           , max richter        , autechre           , radiohead          , neutral milk hotel , beastie boys       , aesop rock         , mf doom            , the books           |\n",
       "| 4 | tv on the radio        , tool                   , kyuss                  , dj shadow              , air                    , a tribe called quest   , the cinematic orchestra, beck                   , bon iver               , röyksopp               , bonobo                 , the decemberists       , snow patrol            , battles                , the prodigy            , pink floyd             , rjd2                   , the flaming lips       , michael jackson        , mgmt                   , the rolling stones     , late of the pier       , flight of the conchords, simian mobile disco    , muse                   , fleetwood mac          , led zeppelin            |\n",
       "| 5 | dream theater           , ac/dc                   , metallica               , iron maiden             , bob marley &amp; the wailers, megadeth                , children of bodom       , trivium                 , nightwish               , sublime                 , volbeat                  |\n",
       "| 6 | lily allen          , kanye west          , sigur rós           , pink floyd          , stevie wonder       , metallica           , thievery corporation, iron maiden         , the streets         , muse                , faith no more       , manu chao           , tenacious d         , depeche mode        , justin timberlake   , green day           , snow patrol         , dream theater       , u2                  , jay-z               , type o negative     , pearl jam           , queen                |\n",
       "| 7 | soundgarden        , stone temple pilots, buckethead         , dream theater      , alice in chains    , type o negative    , pink floyd         , rush               , king crimson       , camel              , ac/dc              , tool               , disturbed          , oasis              , jethro tull        , porcupine tree     , audioslave         , aerosmith          , pearl jam          , the verve          , rammstein          , led zeppelin        |\n",
       "\n"
      ],
      "text/plain": [
       "  user\n",
       "1 1   \n",
       "2 3   \n",
       "3 4   \n",
       "4 5   \n",
       "5 6   \n",
       "6 7   \n",
       "  artists                                                                                                                                                                                                                                                                                                                                                                                                                                                                                                                                                                                                                                                                                          \n",
       "1 red hot chili peppers  , the black dahlia murder, goldfrapp              , dropkick murphys       , le tigre               , schandmaul             , edguy                  , jack johnson           , eluveitie              , the killers            , judas priest           , rob zombie             , john mayer             , the who                , guano apes             , the rolling stones                                                                                                                                                                                                                                                                                        \n",
       "2 devendra banhart   , boards of canada   , cocorosie          , aphex twin         , animal collective  , atmosphere         , joanna newsom      , air                , portishead         , massive attack     , broken social scene, arcade fire        , plaid              , prefuse 73         , m83                , the flashbulb      , pavement           , goldfrapp          , amon tobin         , sage francis       , four tet           , max richter        , autechre           , radiohead          , neutral milk hotel , beastie boys       , aesop rock         , mf doom            , the books                                                                            \n",
       "3 tv on the radio        , tool                   , kyuss                  , dj shadow              , air                    , a tribe called quest   , the cinematic orchestra, beck                   , bon iver               , röyksopp               , bonobo                 , the decemberists       , snow patrol            , battles                , the prodigy            , pink floyd             , rjd2                   , the flaming lips       , michael jackson        , mgmt                   , the rolling stones     , late of the pier       , flight of the conchords, simian mobile disco    , muse                   , fleetwood mac          , led zeppelin           \n",
       "4 dream theater           , ac/dc                   , metallica               , iron maiden             , bob marley & the wailers, megadeth                , children of bodom       , trivium                 , nightwish               , sublime                 , volbeat                                                                                                                                                                                                                                                                                                                                                                                                                      \n",
       "5 lily allen          , kanye west          , sigur rós           , pink floyd          , stevie wonder       , metallica           , thievery corporation, iron maiden         , the streets         , muse                , faith no more       , manu chao           , tenacious d         , depeche mode        , justin timberlake   , green day           , snow patrol         , dream theater       , u2                  , jay-z               , type o negative     , pearl jam           , queen                                                                                                                                                                                        \n",
       "6 soundgarden        , stone temple pilots, buckethead         , dream theater      , alice in chains    , type o negative    , pink floyd         , rush               , king crimson       , camel              , ac/dc              , tool               , disturbed          , oasis              , jethro tull        , porcupine tree     , audioslave         , aerosmith          , pearl jam          , the verve          , rammstein          , led zeppelin                                                                                                                                                                                                                            "
      ]
     },
     "metadata": {},
     "output_type": "display_data"
    },
    {
     "data": {
      "text/html": [
       "<style>\n",
       ".list-inline {list-style: none; margin:0; padding: 0}\n",
       ".list-inline>li {display: inline-block}\n",
       ".list-inline>li:not(:last-child)::after {content: \"\\00b7\"; padding: 0 .5ex}\n",
       "</style>\n",
       "<ol class=list-inline><li>15000</li><li>2</li></ol>\n"
      ],
      "text/latex": [
       "\\begin{enumerate*}\n",
       "\\item 15000\n",
       "\\item 2\n",
       "\\end{enumerate*}\n"
      ],
      "text/markdown": [
       "1. 15000\n",
       "2. 2\n",
       "\n",
       "\n"
      ],
      "text/plain": [
       "[1] 15000     2"
      ]
     },
     "metadata": {},
     "output_type": "display_data"
    }
   ],
   "source": [
    "playlist=lastfm %>%\n",
    "    group_by(user) %>%\n",
    "    summarize(artists=list(unique(artist)))\n",
    "head(playlist)\n",
    "dim(playlist)"
   ]
  },
  {
   "cell_type": "markdown",
   "metadata": {},
   "source": [
    "## The package `arules` use the `transactions` data structure."
   ]
  },
  {
   "cell_type": "code",
   "execution_count": 5,
   "metadata": {
    "ExecuteTime": {
     "end_time": "2021-03-30T12:53:17.240866Z",
     "start_time": "2021-03-30T12:53:14.742Z"
    }
   },
   "outputs": [
    {
     "data": {
      "text/plain": [
       "transactions in sparse format with\n",
       " 6 transactions (rows) and\n",
       " 1004 items (columns)"
      ]
     },
     "metadata": {},
     "output_type": "display_data"
    },
    {
     "data": {
      "text/html": [
       "<style>\n",
       ".list-inline {list-style: none; margin:0; padding: 0}\n",
       ".list-inline>li {display: inline-block}\n",
       ".list-inline>li:not(:last-child)::after {content: \"\\00b7\"; padding: 0 .5ex}\n",
       "</style>\n",
       "<ol class=list-inline><li>15000</li><li>1004</li></ol>\n"
      ],
      "text/latex": [
       "\\begin{enumerate*}\n",
       "\\item 15000\n",
       "\\item 1004\n",
       "\\end{enumerate*}\n"
      ],
      "text/markdown": [
       "1. 15000\n",
       "2. 1004\n",
       "\n",
       "\n"
      ],
      "text/plain": [
       "[1] 15000  1004"
      ]
     },
     "metadata": {},
     "output_type": "display_data"
    }
   ],
   "source": [
    "playlist=as(playlist$artists, 'transactions')\n",
    "playlist"
   ]
  },
  {
   "cell_type": "code",
   "execution_count": 6,
   "metadata": {
    "ExecuteTime": {
     "end_time": "2021-03-30T12:53:17.262739Z",
     "start_time": "2021-03-30T12:53:14.744Z"
    }
   },
   "outputs": [
    {
     "name": "stdout",
     "output_type": "stream",
     "text": [
      "    items                     \n",
      "[1] {dropkick murphys,        \n",
      "     edguy,                   \n",
      "     eluveitie,               \n",
      "     goldfrapp,               \n",
      "     guano apes,              \n",
      "     jack johnson,            \n",
      "     john mayer,              \n",
      "     judas priest,            \n",
      "     le tigre,                \n",
      "     red hot chili peppers,   \n",
      "     rob zombie,              \n",
      "     schandmaul,              \n",
      "     the black dahlia murder, \n",
      "     the killers,             \n",
      "     the rolling stones,      \n",
      "     the who}                 \n",
      "[2] {aesop rock,              \n",
      "     air,                     \n",
      "     amon tobin,              \n",
      "     animal collective,       \n",
      "     aphex twin,              \n",
      "     arcade fire,             \n",
      "     atmosphere,              \n",
      "     autechre,                \n",
      "     beastie boys,            \n",
      "     boards of canada,        \n",
      "     broken social scene,     \n",
      "     cocorosie,               \n",
      "     devendra banhart,        \n",
      "     four tet,                \n",
      "     goldfrapp,               \n",
      "     joanna newsom,           \n",
      "     m83,                     \n",
      "     massive attack,          \n",
      "     max richter,             \n",
      "     mf doom,                 \n",
      "     neutral milk hotel,      \n",
      "     pavement,                \n",
      "     plaid,                   \n",
      "     portishead,              \n",
      "     prefuse 73,              \n",
      "     radiohead,               \n",
      "     sage francis,            \n",
      "     the books,               \n",
      "     the flashbulb}           \n",
      "[3] {a tribe called quest,    \n",
      "     air,                     \n",
      "     battles,                 \n",
      "     beck,                    \n",
      "     bon iver,                \n",
      "     bonobo,                  \n",
      "     dj shadow,               \n",
      "     fleetwood mac,           \n",
      "     flight of the conchords, \n",
      "     kyuss,                   \n",
      "     late of the pier,        \n",
      "     led zeppelin,            \n",
      "     mgmt,                    \n",
      "     michael jackson,         \n",
      "     muse,                    \n",
      "     pink floyd,              \n",
      "     rjd2,                    \n",
      "     röyksopp,                \n",
      "     simian mobile disco,     \n",
      "     snow patrol,             \n",
      "     the cinematic orchestra, \n",
      "     the decemberists,        \n",
      "     the flaming lips,        \n",
      "     the prodigy,             \n",
      "     the rolling stones,      \n",
      "     tool,                    \n",
      "     tv on the radio}         \n",
      "[4] {ac/dc,                   \n",
      "     bob marley & the wailers,\n",
      "     children of bodom,       \n",
      "     dream theater,           \n",
      "     iron maiden,             \n",
      "     megadeth,                \n",
      "     metallica,               \n",
      "     nightwish,               \n",
      "     sublime,                 \n",
      "     trivium,                 \n",
      "     volbeat}                 \n",
      "[5] {depeche mode,            \n",
      "     dream theater,           \n",
      "     faith no more,           \n",
      "     green day,               \n",
      "     iron maiden,             \n",
      "     jay-z,                   \n",
      "     justin timberlake,       \n",
      "     kanye west,              \n",
      "     lily allen,              \n",
      "     manu chao,               \n",
      "     metallica,               \n",
      "     muse,                    \n",
      "     pearl jam,               \n",
      "     pink floyd,              \n",
      "     queen,                   \n",
      "     sigur rós,               \n",
      "     snow patrol,             \n",
      "     stevie wonder,           \n",
      "     tenacious d,             \n",
      "     the streets,             \n",
      "     thievery corporation,    \n",
      "     type o negative,         \n",
      "     u2}                      \n",
      "[6] {ac/dc,                   \n",
      "     aerosmith,               \n",
      "     alice in chains,         \n",
      "     audioslave,              \n",
      "     buckethead,              \n",
      "     camel,                   \n",
      "     disturbed,               \n",
      "     dream theater,           \n",
      "     jethro tull,             \n",
      "     king crimson,            \n",
      "     led zeppelin,            \n",
      "     oasis,                   \n",
      "     pearl jam,               \n",
      "     pink floyd,              \n",
      "     porcupine tree,          \n",
      "     rammstein,               \n",
      "     rush,                    \n",
      "     soundgarden,             \n",
      "     stone temple pilots,     \n",
      "     the verve,               \n",
      "     tool,                    \n",
      "     type o negative}         \n"
     ]
    }
   ],
   "source": [
    "inspect(head(playlist))"
   ]
  },
  {
   "cell_type": "code",
   "execution_count": 7,
   "metadata": {
    "ExecuteTime": {
     "end_time": "2021-03-30T12:53:17.636603Z",
     "start_time": "2021-03-30T12:53:14.745Z"
    }
   },
   "outputs": [
    {
     "data": {
      "image/png": "[encoded data removed]",
      "text/plain": [
       "plot without title"
      ]
     },
     "metadata": {
      "image/png": {
       "height": 420,
       "width": 420
      }
     },
     "output_type": "display_data"
    }
   ],
   "source": [
    "itemFrequencyPlot(playlist)"
   ]
  },
  {
   "cell_type": "code",
   "execution_count": 8,
   "metadata": {
    "ExecuteTime": {
     "end_time": "2021-03-30T12:53:17.746090Z",
     "start_time": "2021-03-30T12:53:14.746Z"
    }
   },
   "outputs": [
    {
     "data": {
      "image/png": "[encoded data removed]",
      "text/plain": [
       "plot without title"
      ]
     },
     "metadata": {
      "image/png": {
       "height": 420,
       "width": 420
      }
     },
     "output_type": "display_data"
    }
   ],
   "source": [
    "itemFrequencyPlot(playlist, support=0.08)"
   ]
  },
  {
   "cell_type": "markdown",
   "metadata": {},
   "source": [
    "# Association Rules"
   ]
  },
  {
   "cell_type": "code",
   "execution_count": 9,
   "metadata": {
    "ExecuteTime": {
     "end_time": "2021-03-30T12:53:17.919527Z",
     "start_time": "2021-03-30T12:53:14.748Z"
    }
   },
   "outputs": [
    {
     "name": "stdout",
     "output_type": "stream",
     "text": [
      "Apriori\n",
      "\n",
      "Parameter specification:\n",
      " confidence minval smax arem  aval originalSupport maxtime support minlen\n",
      "        0.5    0.1    1 none FALSE            TRUE       5    0.01      1\n",
      " maxlen target  ext\n",
      "     10  rules TRUE\n",
      "\n",
      "Algorithmic control:\n",
      " filter tree heap memopt load sort verbose\n",
      "    0.1 TRUE TRUE  FALSE TRUE    2    TRUE\n",
      "\n",
      "Absolute minimum support count: 150 \n",
      "\n",
      "set item appearances ...[0 item(s)] done [0.00s].\n",
      "set transactions ...[1004 item(s), 15000 transaction(s)] done [0.07s].\n",
      "sorting and recoding items ... [655 item(s)] done [0.01s].\n",
      "creating transaction tree ... done [0.01s].\n",
      "checking subsets of size 1 2 3 4 done [0.02s].\n",
      "writing ... [50 rule(s)] done [0.00s].\n",
      "creating S4 object  ... done [0.00s].\n"
     ]
    },
    {
     "data": {
      "text/plain": [
       "set of 50 rules\n",
       "\n",
       "rule length distribution (lhs + rhs):sizes\n",
       " 2  3 \n",
       "15 35 \n",
       "\n",
       "   Min. 1st Qu.  Median    Mean 3rd Qu.    Max. \n",
       "    2.0     2.0     3.0     2.7     3.0     3.0 \n",
       "\n",
       "summary of quality measures:\n",
       "    support          confidence        coverage            lift       \n",
       " Min.   :0.01000   Min.   :0.5013   Min.   :0.01587   Min.   : 2.781  \n",
       " 1st Qu.:0.01062   1st Qu.:0.5216   1st Qu.:0.01847   1st Qu.: 3.120  \n",
       " Median :0.01147   Median :0.5430   Median :0.02150   Median : 3.283  \n",
       " Mean   :0.01296   Mean   :0.5556   Mean   :0.02359   Mean   : 3.963  \n",
       " 3rd Qu.:0.01372   3rd Qu.:0.5858   3rd Qu.:0.02655   3rd Qu.: 3.711  \n",
       " Max.   :0.02927   Max.   :0.6627   Max.   :0.05747   Max.   :13.416  \n",
       "     count      \n",
       " Min.   :150.0  \n",
       " 1st Qu.:159.2  \n",
       " Median :172.0  \n",
       " Mean   :194.4  \n",
       " 3rd Qu.:205.8  \n",
       " Max.   :439.0  \n",
       "\n",
       "mining info:\n",
       "     data ntransactions support confidence\n",
       " playlist         15000    0.01        0.5"
      ]
     },
     "metadata": {},
     "output_type": "display_data"
    }
   ],
   "source": [
    "musicrules=apriori(playlist, parameter=list(support=0.01, confidence=0.5))\n",
    "summary(musicrules)"
   ]
  },
  {
   "cell_type": "code",
   "execution_count": 10,
   "metadata": {
    "ExecuteTime": {
     "end_time": "2021-03-30T12:53:17.935159Z",
     "start_time": "2021-03-30T12:53:14.749Z"
    }
   },
   "outputs": [
    {
     "data": {
      "text/plain": [
       "set of 50 rules "
      ]
     },
     "metadata": {},
     "output_type": "display_data"
    }
   ],
   "source": [
    "musicrules"
   ]
  },
  {
   "cell_type": "code",
   "execution_count": 11,
   "metadata": {
    "ExecuteTime": {
     "end_time": "2021-03-30T12:53:17.953720Z",
     "start_time": "2021-03-30T12:53:14.750Z"
    }
   },
   "outputs": [
    {
     "name": "stdout",
     "output_type": "stream",
     "text": [
      "     lhs                                    rhs            support   \n",
      "[1]  {t.i.}                              => {kanye west}   0.01040000\n",
      "[2]  {the pussycat dolls}                => {rihanna}      0.01040000\n",
      "[3]  {the fray}                          => {coldplay}     0.01126667\n",
      "[4]  {sonata arctica}                    => {nightwish}    0.01346667\n",
      "[5]  {judas priest}                      => {iron maiden}  0.01353333\n",
      "[6]  {the kinks}                         => {the beatles}  0.01360000\n",
      "[7]  {travis}                            => {coldplay}     0.01373333\n",
      "[8]  {the flaming lips}                  => {radiohead}    0.01306667\n",
      "[9]  {megadeth}                          => {metallica}    0.01626667\n",
      "[10] {simon & garfunkel}                 => {the beatles}  0.01540000\n",
      "[11] {broken social scene}               => {radiohead}    0.01506667\n",
      "[12] {blur}                              => {radiohead}    0.01753333\n",
      "[13] {keane}                             => {coldplay}     0.02226667\n",
      "[14] {snow patrol}                       => {coldplay}     0.02646667\n",
      "[15] {beck}                              => {radiohead}    0.02926667\n",
      "[16] {snow patrol,the killers}           => {coldplay}     0.01040000\n",
      "[17] {radiohead,snow patrol}             => {coldplay}     0.01006667\n",
      "[18] {death cab for cutie,the shins}     => {radiohead}    0.01006667\n",
      "[19] {the beatles,the shins}             => {radiohead}    0.01066667\n",
      "[20] {led zeppelin,the doors}            => {pink floyd}   0.01066667\n",
      "[21] {pink floyd,the doors}              => {led zeppelin} 0.01066667\n",
      "[22] {pink floyd,the doors}              => {the beatles}  0.01000000\n",
      "[23] {the beatles,the strokes}           => {radiohead}    0.01046667\n",
      "[24] {oasis,the killers}                 => {coldplay}     0.01113333\n",
      "[25] {oasis,the beatles}                 => {coldplay}     0.01060000\n",
      "[26] {oasis,radiohead}                   => {coldplay}     0.01273333\n",
      "[27] {beck,the beatles}                  => {radiohead}    0.01300000\n",
      "[28] {bob dylan,the rolling stones}      => {the beatles}  0.01146667\n",
      "[29] {david bowie,the rolling stones}    => {the beatles}  0.01000000\n",
      "[30] {led zeppelin,the rolling stones}   => {the beatles}  0.01066667\n",
      "[31] {radiohead,the rolling stones}      => {the beatles}  0.01060000\n",
      "[32] {coldplay,the smashing pumpkins}    => {radiohead}    0.01093333\n",
      "[33] {the beatles,the smashing pumpkins} => {radiohead}    0.01146667\n",
      "[34] {radiohead,u2}                      => {coldplay}     0.01140000\n",
      "[35] {coldplay,sigur rós}                => {radiohead}    0.01206667\n",
      "[36] {sigur rós,the beatles}             => {radiohead}    0.01046667\n",
      "[37] {bob dylan,pink floyd}              => {the beatles}  0.01033333\n",
      "[38] {bob dylan,radiohead}               => {the beatles}  0.01386667\n",
      "[39] {bloc party,the killers}            => {coldplay}     0.01106667\n",
      "[40] {david bowie,pink floyd}            => {the beatles}  0.01006667\n",
      "[41] {david bowie,radiohead}             => {the beatles}  0.01393333\n",
      "[42] {placebo,radiohead}                 => {muse}         0.01366667\n",
      "[43] {led zeppelin,radiohead}            => {the beatles}  0.01306667\n",
      "[44] {death cab for cutie,the killers}   => {coldplay}     0.01086667\n",
      "[45] {death cab for cutie,the beatles}   => {radiohead}    0.01246667\n",
      "[46] {muse,the killers}                  => {coldplay}     0.01513333\n",
      "[47] {red hot chili peppers,the killers} => {coldplay}     0.01086667\n",
      "[48] {the beatles,the killers}           => {coldplay}     0.01253333\n",
      "[49] {radiohead,the killers}             => {coldplay}     0.01506667\n",
      "[50] {muse,the beatles}                  => {radiohead}    0.01380000\n",
      "     confidence coverage   lift      count\n",
      "[1]  0.5672727  0.01833333  8.854413 156  \n",
      "[2]  0.5777778  0.01800000 13.415893 156  \n",
      "[3]  0.5168196  0.02180000  3.260006 169  \n",
      "[4]  0.5101010  0.02640000  8.236292 202  \n",
      "[5]  0.5075000  0.02666667  8.562992 203  \n",
      "[6]  0.5298701  0.02566667  2.979030 204  \n",
      "[7]  0.5628415  0.02440000  3.550304 206  \n",
      "[8]  0.5297297  0.02466667  2.938589 196  \n",
      "[9]  0.5281385  0.03080000  4.743759 244  \n",
      "[10] 0.5238095  0.02940000  2.944956 231  \n",
      "[11] 0.5472155  0.02753333  3.035589 226  \n",
      "[12] 0.5228628  0.03353333  2.900496 263  \n",
      "[13] 0.6374046  0.03493333  4.020634 334  \n",
      "[14] 0.5251323  0.05040000  3.312441 397  \n",
      "[15] 0.5092807  0.05746667  2.825152 439  \n",
      "[16] 0.5954198  0.01746667  3.755802 156  \n",
      "[17] 0.6344538  0.01586667  4.002021 151  \n",
      "[18] 0.5033333  0.02000000  2.792160 151  \n",
      "[19] 0.5673759  0.01880000  3.147425 160  \n",
      "[20] 0.5970149  0.01786667  5.689469 160  \n",
      "[21] 0.5387205  0.01980000  6.802027 160  \n",
      "[22] 0.5050505  0.01980000  2.839489 150  \n",
      "[23] 0.5607143  0.01866667  3.110471 157  \n",
      "[24] 0.6626984  0.01680000  4.180183 167  \n",
      "[25] 0.5196078  0.02040000  3.277594 159  \n",
      "[26] 0.5876923  0.02166667  3.707058 191  \n",
      "[27] 0.5909091  0.02200000  3.277972 195  \n",
      "[28] 0.5910653  0.01940000  3.323081 172  \n",
      "[29] 0.5703422  0.01753333  3.206572 150  \n",
      "[30] 0.5776173  0.01846667  3.247474 160  \n",
      "[31] 0.5638298  0.01880000  3.169958 159  \n",
      "[32] 0.6283525  0.01740000  3.485683 164  \n",
      "[33] 0.6209386  0.01846667  3.444556 172  \n",
      "[34] 0.5213415  0.02186667  3.288529 171  \n",
      "[35] 0.5801282  0.02080000  3.218167 181  \n",
      "[36] 0.6434426  0.01626667  3.569393 157  \n",
      "[37] 0.6150794  0.01680000  3.458092 155  \n",
      "[38] 0.5730028  0.02420000  3.221530 208  \n",
      "[39] 0.5236593  0.02113333  3.303150 166  \n",
      "[40] 0.5741445  0.01753333  3.227949 151  \n",
      "[41] 0.5225000  0.02666667  2.937594 209  \n",
      "[42] 0.5137845  0.02660000  4.504247 205  \n",
      "[43] 0.5283019  0.02473333  2.970213 196  \n",
      "[44] 0.5884477  0.01846667  3.711823 163  \n",
      "[45] 0.5013405  0.02486667  2.781105 187  \n",
      "[46] 0.5089686  0.02973333  3.210483 227  \n",
      "[47] 0.5093750  0.02133333  3.213047 163  \n",
      "[48] 0.5340909  0.02346667  3.368950 188  \n",
      "[49] 0.5243619  0.02873333  3.307582 226  \n",
      "[50] 0.5073529  0.02720000  2.814458 207  \n"
     ]
    }
   ],
   "source": [
    "inspect(musicrules)"
   ]
  },
  {
   "cell_type": "code",
   "execution_count": 12,
   "metadata": {
    "ExecuteTime": {
     "end_time": "2021-03-30T12:53:18.039737Z",
     "start_time": "2021-03-30T12:53:14.751Z"
    }
   },
   "outputs": [
    {
     "name": "stdout",
     "output_type": "stream",
     "text": [
      "    lhs                         rhs            support    confidence coverage  \n",
      "[1] {t.i.}                   => {kanye west}   0.01040000 0.5672727  0.01833333\n",
      "[2] {the pussycat dolls}     => {rihanna}      0.01040000 0.5777778  0.01800000\n",
      "[3] {sonata arctica}         => {nightwish}    0.01346667 0.5101010  0.02640000\n",
      "[4] {judas priest}           => {iron maiden}  0.01353333 0.5075000  0.02666667\n",
      "[5] {led zeppelin,the doors} => {pink floyd}   0.01066667 0.5970149  0.01786667\n",
      "[6] {pink floyd,the doors}   => {led zeppelin} 0.01066667 0.5387205  0.01980000\n",
      "    lift      count\n",
      "[1]  8.854413 156  \n",
      "[2] 13.415893 156  \n",
      "[3]  8.236292 202  \n",
      "[4]  8.562992 203  \n",
      "[5]  5.689469 160  \n",
      "[6]  6.802027 160  \n"
     ]
    }
   ],
   "source": [
    "inspect(subset(musicrules, lift > 5))"
   ]
  },
  {
   "cell_type": "code",
   "execution_count": 13,
   "metadata": {
    "ExecuteTime": {
     "end_time": "2021-03-30T12:53:18.074364Z",
     "start_time": "2021-03-30T12:53:14.752Z"
    }
   },
   "outputs": [
    {
     "name": "stdout",
     "output_type": "stream",
     "text": [
      "    lhs                         rhs            support    confidence coverage  \n",
      "[1] {led zeppelin,the doors} => {pink floyd}   0.01066667 0.5970149  0.01786667\n",
      "[2] {the pussycat dolls}     => {rihanna}      0.01040000 0.5777778  0.01800000\n",
      "[3] {t.i.}                   => {kanye west}   0.01040000 0.5672727  0.01833333\n",
      "[4] {pink floyd,the doors}   => {led zeppelin} 0.01066667 0.5387205  0.01980000\n",
      "[5] {sonata arctica}         => {nightwish}    0.01346667 0.5101010  0.02640000\n",
      "[6] {judas priest}           => {iron maiden}  0.01353333 0.5075000  0.02666667\n",
      "    lift      count\n",
      "[1]  5.689469 160  \n",
      "[2] 13.415893 156  \n",
      "[3]  8.854413 156  \n",
      "[4]  6.802027 160  \n",
      "[5]  8.236292 202  \n",
      "[6]  8.562992 203  \n"
     ]
    }
   ],
   "source": [
    "inspect(sort(subset(musicrules, lift > 5), by=\"confidence\"))"
   ]
  }
 ],
 "metadata": {
  "hide_input": false,
  "kernelspec": {
   "display_name": "R",
   "language": "R",
   "name": "ir"
  },
  "language_info": {
   "codemirror_mode": "r",
   "file_extension": ".r",
   "mimetype": "text/x-r-source",
   "name": "R",
   "pygments_lexer": "r",
   "version": "4.0.4"
  },
  "toc": {
   "base_numbering": 1,
   "nav_menu": {},
   "number_sections": true,
   "sideBar": true,
   "skip_h1_title": false,
   "title_cell": "Table of Contents",
   "title_sidebar": "Contents",
   "toc_cell": false,
   "toc_position": {},
   "toc_section_display": true,
   "toc_window_display": false
  },
  "varInspector": {
   "cols": {
    "lenName": 16,
    "lenType": 16,
    "lenVar": 40
   },
   "kernels_config": {
    "python": {
     "delete_cmd_postfix": "",
     "delete_cmd_prefix": "del ",
     "library": "var_list.py",
     "varRefreshCmd": "print(var_dic_list())"
    },
    "r": {
     "delete_cmd_postfix": ") ",
     "delete_cmd_prefix": "rm(",
     "library": "var_list.r",
     "varRefreshCmd": "cat(var_dic_list()) "
    }
   },
   "types_to_exclude": [
    "module",
    "function",
    "builtin_function_or_method",
    "instance",
    "_Feature"
   ],
   "window_display": false
  }
 },
 "nbformat": 4,
 "nbformat_minor": 4
}
