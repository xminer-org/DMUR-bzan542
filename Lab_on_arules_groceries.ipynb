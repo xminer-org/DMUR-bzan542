{
 "cells": [
  {
   "cell_type": "markdown",
   "metadata": {},
   "source": [
    "BZAN 542\n",
    "\n",
    "Charles Liu"
   ]
  },
  {
   "cell_type": "code",
   "execution_count": 1,
   "metadata": {
    "ExecuteTime": {
     "end_time": "2021-04-07T19:07:14.042886Z",
     "start_time": "2021-04-07T19:07:12.237Z"
    }
   },
   "outputs": [
    {
     "name": "stderr",
     "output_type": "stream",
     "text": [
      "Loading required package: Matrix\n",
      "\n",
      "\n",
      "Attaching package: ‘arules’\n",
      "\n",
      "\n",
      "The following objects are masked from ‘package:base’:\n",
      "\n",
      "    abbreviate, write\n",
      "\n",
      "\n"
     ]
    }
   ],
   "source": [
    "library(arules)\n",
    "library(arulesViz)"
   ]
  },
  {
   "cell_type": "markdown",
   "metadata": {},
   "source": [
    "# Data"
   ]
  },
  {
   "cell_type": "code",
   "execution_count": 2,
   "metadata": {
    "ExecuteTime": {
     "end_time": "2021-04-07T19:07:14.100687Z",
     "start_time": "2021-04-07T19:07:12.239Z"
    }
   },
   "outputs": [
    {
     "data": {
      "text/plain": [
       "transactions in sparse format with\n",
       " 9835 transactions (rows) and\n",
       " 169 items (columns)"
      ]
     },
     "metadata": {},
     "output_type": "display_data"
    }
   ],
   "source": [
    "data(Groceries)\n",
    "Groceries"
   ]
  },
  {
   "cell_type": "code",
   "execution_count": 3,
   "metadata": {
    "ExecuteTime": {
     "end_time": "2021-04-07T19:07:14.132462Z",
     "start_time": "2021-04-07T19:07:12.240Z"
    }
   },
   "outputs": [
    {
     "data": {
      "text/plain": [
       "transactions as itemMatrix in sparse format with\n",
       " 9835 rows (elements/itemsets/transactions) and\n",
       " 169 columns (items) and a density of 0.02609146 \n",
       "\n",
       "most frequent items:\n",
       "      whole milk other vegetables       rolls/buns             soda \n",
       "            2513             1903             1809             1715 \n",
       "          yogurt          (Other) \n",
       "            1372            34055 \n",
       "\n",
       "element (itemset/transaction) length distribution:\n",
       "sizes\n",
       "   1    2    3    4    5    6    7    8    9   10   11   12   13   14   15   16 \n",
       "2159 1643 1299 1005  855  645  545  438  350  246  182  117   78   77   55   46 \n",
       "  17   18   19   20   21   22   23   24   26   27   28   29   32 \n",
       "  29   14   14    9   11    4    6    1    1    1    1    3    1 \n",
       "\n",
       "   Min. 1st Qu.  Median    Mean 3rd Qu.    Max. \n",
       "  1.000   2.000   3.000   4.409   6.000  32.000 \n",
       "\n",
       "includes extended item information - examples:\n",
       "       labels  level2           level1\n",
       "1 frankfurter sausage meat and sausage\n",
       "2     sausage sausage meat and sausage\n",
       "3  liver loaf sausage meat and sausage"
      ]
     },
     "metadata": {},
     "output_type": "display_data"
    }
   ],
   "source": [
    "summary(Groceries)"
   ]
  },
  {
   "cell_type": "code",
   "execution_count": 4,
   "metadata": {
    "ExecuteTime": {
     "end_time": "2021-04-07T19:07:14.167128Z",
     "start_time": "2021-04-07T19:07:12.242Z"
    }
   },
   "outputs": [
    {
     "name": "stdout",
     "output_type": "stream",
     "text": [
      "    items                     \n",
      "[1] {citrus fruit,            \n",
      "     semi-finished bread,     \n",
      "     margarine,               \n",
      "     ready soups}             \n",
      "[2] {tropical fruit,          \n",
      "     yogurt,                  \n",
      "     coffee}                  \n",
      "[3] {whole milk}              \n",
      "[4] {pip fruit,               \n",
      "     yogurt,                  \n",
      "     cream cheese ,           \n",
      "     meat spreads}            \n",
      "[5] {other vegetables,        \n",
      "     whole milk,              \n",
      "     condensed milk,          \n",
      "     long life bakery product}\n",
      "[6] {whole milk,              \n",
      "     butter,                  \n",
      "     yogurt,                  \n",
      "     rice,                    \n",
      "     abrasive cleaner}        \n"
     ]
    }
   ],
   "source": [
    "inspect(head(Groceries))"
   ]
  },
  {
   "cell_type": "markdown",
   "metadata": {},
   "source": [
    "# Rules"
   ]
  },
  {
   "cell_type": "code",
   "execution_count": 5,
   "metadata": {
    "ExecuteTime": {
     "end_time": "2021-04-07T19:07:14.248792Z",
     "start_time": "2021-04-07T19:07:12.243Z"
    }
   },
   "outputs": [
    {
     "name": "stdout",
     "output_type": "stream",
     "text": [
      "Apriori\n",
      "\n",
      "Parameter specification:\n",
      " confidence minval smax arem  aval originalSupport maxtime support minlen\n",
      "        0.8    0.1    1 none FALSE            TRUE       5   0.001      1\n",
      " maxlen target  ext\n",
      "     10  rules TRUE\n",
      "\n",
      "Algorithmic control:\n",
      " filter tree heap memopt load sort verbose\n",
      "    0.1 TRUE TRUE  FALSE TRUE    2    TRUE\n",
      "\n",
      "Absolute minimum support count: 9 \n",
      "\n",
      "set item appearances ...[0 item(s)] done [0.00s].\n",
      "set transactions ...[169 item(s), 9835 transaction(s)] done [0.01s].\n",
      "sorting and recoding items ... [157 item(s)] done [0.00s].\n",
      "creating transaction tree ... done [0.00s].\n",
      "checking subsets of size 1 2 3 4 5 6 done [0.01s].\n",
      "writing ... [410 rule(s)] done [0.00s].\n",
      "creating S4 object  ... done [0.00s].\n"
     ]
    },
    {
     "data": {
      "text/plain": [
       "set of 410 rules "
      ]
     },
     "metadata": {},
     "output_type": "display_data"
    }
   ],
   "source": [
    "rules <- apriori(Groceries, parameter=list(support = 0.001, confidence = 0.8))\n",
    "rules"
   ]
  },
  {
   "cell_type": "code",
   "execution_count": 6,
   "metadata": {
    "ExecuteTime": {
     "end_time": "2021-04-07T19:07:14.340432Z",
     "start_time": "2021-04-07T19:07:12.246Z"
    }
   },
   "outputs": [],
   "source": [
    "?is.redundant"
   ]
  },
  {
   "cell_type": "code",
   "execution_count": 7,
   "metadata": {
    "ExecuteTime": {
     "end_time": "2021-04-07T19:07:14.396830Z",
     "start_time": "2021-04-07T19:07:12.248Z"
    }
   },
   "outputs": [
    {
     "data": {
      "text/plain": [
       "\n",
       "FALSE  TRUE \n",
       "  392    18 "
      ]
     },
     "metadata": {},
     "output_type": "display_data"
    }
   ],
   "source": [
    "table(is.redundant(rules))"
   ]
  },
  {
   "cell_type": "code",
   "execution_count": 8,
   "metadata": {
    "ExecuteTime": {
     "end_time": "2021-04-07T19:07:14.471682Z",
     "start_time": "2021-04-07T19:07:12.249Z"
    }
   },
   "outputs": [],
   "source": [
    "?is.significant"
   ]
  },
  {
   "cell_type": "code",
   "execution_count": 9,
   "metadata": {
    "ExecuteTime": {
     "end_time": "2021-04-07T19:07:14.497093Z",
     "start_time": "2021-04-07T19:07:12.250Z"
    }
   },
   "outputs": [
    {
     "data": {
      "text/plain": [
       "\n",
       "FALSE  TRUE \n",
       "   33   377 "
      ]
     },
     "metadata": {},
     "output_type": "display_data"
    }
   ],
   "source": [
    "table(is.significant(rules, Groceries))"
   ]
  },
  {
   "cell_type": "code",
   "execution_count": 10,
   "metadata": {
    "ExecuteTime": {
     "end_time": "2021-04-07T19:07:14.550327Z",
     "start_time": "2021-04-07T19:07:12.252Z"
    }
   },
   "outputs": [
    {
     "data": {
      "text/plain": [
       "\n",
       "FALSE  TRUE \n",
       "   48   362 "
      ]
     },
     "metadata": {},
     "output_type": "display_data"
    }
   ],
   "source": [
    "table(!is.redundant(rules) & is.significant(rules, Groceries))"
   ]
  },
  {
   "cell_type": "code",
   "execution_count": 11,
   "metadata": {
    "ExecuteTime": {
     "end_time": "2021-04-07T19:07:14.610995Z",
     "start_time": "2021-04-07T19:07:12.254Z"
    }
   },
   "outputs": [
    {
     "data": {
      "text/plain": [
       "set of 362 rules "
      ]
     },
     "metadata": {},
     "output_type": "display_data"
    }
   ],
   "source": [
    "rules <- rules[!is.redundant(rules) & is.significant(rules, Groceries)]\n",
    "rules"
   ]
  },
  {
   "cell_type": "code",
   "execution_count": 12,
   "metadata": {
    "ExecuteTime": {
     "end_time": "2021-04-07T19:07:14.638319Z",
     "start_time": "2021-04-07T19:07:12.256Z"
    }
   },
   "outputs": [
    {
     "name": "stdout",
     "output_type": "stream",
     "text": [
      "    lhs                        rhs                   support confidence    coverage      lift count\n",
      "[1] {liquor,                                                                                       \n",
      "     red/blush wine}        => {bottled beer}    0.001931876  0.9047619 0.002135231 11.235269    19\n",
      "[2] {citrus fruit,                                                                                 \n",
      "     other vegetables,                                                                             \n",
      "     soda,                                                                                         \n",
      "     fruit/vegetable juice} => {root vegetables} 0.001016777  0.9090909 0.001118454  8.340400    10\n",
      "[3] {tropical fruit,                                                                               \n",
      "     other vegetables,                                                                             \n",
      "     whole milk,                                                                                   \n",
      "     yogurt,                                                                                       \n",
      "     oil}                   => {root vegetables} 0.001016777  0.9090909 0.001118454  8.340400    10\n",
      "[4] {citrus fruit,                                                                                 \n",
      "     grapes,                                                                                       \n",
      "     fruit/vegetable juice} => {tropical fruit}  0.001118454  0.8461538 0.001321810  8.063879    11\n",
      "[5] {other vegetables,                                                                             \n",
      "     whole milk,                                                                                   \n",
      "     yogurt,                                                                                       \n",
      "     rice}                  => {root vegetables} 0.001321810  0.8666667 0.001525165  7.951182    13\n",
      "[6] {tropical fruit,                                                                               \n",
      "     other vegetables,                                                                             \n",
      "     whole milk,                                                                                   \n",
      "     oil}                   => {root vegetables} 0.001321810  0.8666667 0.001525165  7.951182    13\n"
     ]
    }
   ],
   "source": [
    "inspect(head(rules, by='lift'))"
   ]
  },
  {
   "cell_type": "code",
   "execution_count": 13,
   "metadata": {
    "ExecuteTime": {
     "end_time": "2021-04-07T19:07:14.656153Z",
     "start_time": "2021-04-07T19:07:12.257Z"
    }
   },
   "outputs": [
    {
     "data": {
      "text/html": [
       "<strong>bottled beer:</strong> 0.0805287239450941"
      ],
      "text/latex": [
       "\\textbf{bottled beer:} 0.0805287239450941"
      ],
      "text/markdown": [
       "**bottled beer:** 0.0805287239450941"
      ],
      "text/plain": [
       "bottled beer \n",
       "  0.08052872 "
      ]
     },
     "metadata": {},
     "output_type": "display_data"
    }
   ],
   "source": [
    "itemFrequency(Groceries)['bottled beer']"
   ]
  },
  {
   "cell_type": "code",
   "execution_count": 14,
   "metadata": {
    "ExecuteTime": {
     "end_time": "2021-04-07T19:07:14.671094Z",
     "start_time": "2021-04-07T19:07:12.258Z"
    }
   },
   "outputs": [
    {
     "data": {
      "text/html": [
       "0.0805287261034871"
      ],
      "text/latex": [
       "0.0805287261034871"
      ],
      "text/markdown": [
       "0.0805287261034871"
      ],
      "text/plain": [
       "[1] 0.08052873"
      ]
     },
     "metadata": {},
     "output_type": "display_data"
    }
   ],
   "source": [
    "0.9047619/11.235269"
   ]
  },
  {
   "cell_type": "code",
   "execution_count": 15,
   "metadata": {
    "ExecuteTime": {
     "end_time": "2021-04-07T19:07:14.756072Z",
     "start_time": "2021-04-07T19:07:12.260Z"
    }
   },
   "outputs": [
    {
     "name": "stdout",
     "output_type": "stream",
     "text": [
      "    lhs                        rhs            support     confidence\n",
      "[1] {liquor,red/blush wine} => {bottled beer} 0.001931876 0.9047619 \n",
      "    coverage    lift     count\n",
      "[1] 0.002135231 11.23527 19   \n"
     ]
    }
   ],
   "source": [
    "inspect(subset(rules, rhs %in% 'bottled beer'))"
   ]
  },
  {
   "cell_type": "code",
   "execution_count": 16,
   "metadata": {
    "ExecuteTime": {
     "end_time": "2021-04-07T19:07:14.782423Z",
     "start_time": "2021-04-07T19:07:12.261Z"
    }
   },
   "outputs": [
    {
     "name": "stdout",
     "output_type": "stream",
     "text": [
      "    lhs                                       rhs          support    \n",
      "[1] {soups,bottled beer}                   => {whole milk} 0.001118454\n",
      "[2] {hamburger meat,bottled beer}          => {whole milk} 0.001728521\n",
      "[3] {rolls/buns,bottled beer,napkins}      => {whole milk} 0.001220132\n",
      "[4] {pork,rolls/buns,bottled beer}         => {whole milk} 0.001118454\n",
      "[5] {domestic eggs,margarine,bottled beer} => {whole milk} 0.001016777\n",
      "    confidence coverage    lift     count\n",
      "[1] 0.9166667  0.001220132 3.587512 11   \n",
      "[2] 0.8095238  0.002135231 3.168192 17   \n",
      "[3] 0.8000000  0.001525165 3.130919 12   \n",
      "[4] 0.8461538  0.001321810 3.311549 11   \n",
      "[5] 0.9090909  0.001118454 3.557863 10   \n"
     ]
    }
   ],
   "source": [
    "inspect(subset(rules, lhs %in% 'bottled beer'))"
   ]
  },
  {
   "cell_type": "code",
   "execution_count": 17,
   "metadata": {
    "ExecuteTime": {
     "end_time": "2021-04-07T19:07:14.807158Z",
     "start_time": "2021-04-07T19:07:12.263Z"
    }
   },
   "outputs": [
    {
     "name": "stdout",
     "output_type": "stream",
     "text": [
      "    lhs                        rhs                  support confidence    coverage     lift count\n",
      "[1] {citrus fruit,                                                                               \n",
      "     grapes,                                                                                     \n",
      "     fruit/vegetable juice} => {tropical fruit} 0.001118454  0.8461538 0.001321810 8.063879    11\n",
      "[2] {ham,                                                                                        \n",
      "     pip fruit,                                                                                  \n",
      "     other vegetables,                                                                           \n",
      "     yogurt}                => {tropical fruit} 0.001016777  0.8333333 0.001220132 7.941699    10\n"
     ]
    }
   ],
   "source": [
    "inspect(subset(rules, rhs %in% 'tropical fruit'))"
   ]
  }
 ],
 "metadata": {
  "hide_input": false,
  "kernelspec": {
   "display_name": "R",
   "language": "R",
   "name": "ir"
  },
  "language_info": {
   "codemirror_mode": "r",
   "file_extension": ".r",
   "mimetype": "text/x-r-source",
   "name": "R",
   "pygments_lexer": "r",
   "version": "4.0.4"
  },
  "toc": {
   "base_numbering": 1,
   "nav_menu": {},
   "number_sections": true,
   "sideBar": true,
   "skip_h1_title": false,
   "title_cell": "Table of Contents",
   "title_sidebar": "Contents",
   "toc_cell": false,
   "toc_position": {},
   "toc_section_display": true,
   "toc_window_display": false
  },
  "varInspector": {
   "cols": {
    "lenName": 16,
    "lenType": 16,
    "lenVar": 40
   },
   "kernels_config": {
    "python": {
     "delete_cmd_postfix": "",
     "delete_cmd_prefix": "del ",
     "library": "var_list.py",
     "varRefreshCmd": "print(var_dic_list())"
    },
    "r": {
     "delete_cmd_postfix": ") ",
     "delete_cmd_prefix": "rm(",
     "library": "var_list.r",
     "varRefreshCmd": "cat(var_dic_list()) "
    }
   },
   "types_to_exclude": [
    "module",
    "function",
    "builtin_function_or_method",
    "instance",
    "_Feature"
   ],
   "window_display": false
  }
 },
 "nbformat": 4,
 "nbformat_minor": 4
}
