{
 "cells": [
  {
   "cell_type": "markdown",
   "metadata": {},
   "source": [
    "BZAN 542\n",
    "\n",
    "Charles Liu"
   ]
  },
  {
   "cell_type": "code",
   "execution_count": 1,
   "metadata": {
    "ExecuteTime": {
     "end_time": "2019-04-04T01:16:10.262168Z",
     "start_time": "2019-04-04T01:16:12.894Z"
    }
   },
   "outputs": [
    {
     "name": "stderr",
     "output_type": "stream",
     "text": [
      "\n",
      "Attaching package: ‘dplyr’\n",
      "\n",
      "\n",
      "The following objects are masked from ‘package:stats’:\n",
      "\n",
      "    filter, lag\n",
      "\n",
      "\n",
      "The following objects are masked from ‘package:base’:\n",
      "\n",
      "    intersect, setdiff, setequal, union\n",
      "\n",
      "\n"
     ]
    }
   ],
   "source": [
    "library(dplyr)"
   ]
  },
  {
   "cell_type": "markdown",
   "metadata": {},
   "source": [
    "# Iris Example"
   ]
  },
  {
   "cell_type": "code",
   "execution_count": 2,
   "metadata": {
    "ExecuteTime": {
     "end_time": "2019-04-04T01:16:14.448660Z",
     "start_time": "2019-04-04T01:16:17.333Z"
    }
   },
   "outputs": [
    {
     "name": "stdout",
     "output_type": "stream",
     "text": [
      "'data.frame':\t150 obs. of  5 variables:\n",
      " $ Sepal.Length: num  5.1 4.9 4.7 4.6 5 5.4 4.6 5 4.4 4.9 ...\n",
      " $ Sepal.Width : num  3.5 3 3.2 3.1 3.6 3.9 3.4 3.4 2.9 3.1 ...\n",
      " $ Petal.Length: num  1.4 1.4 1.3 1.5 1.4 1.7 1.4 1.5 1.4 1.5 ...\n",
      " $ Petal.Width : num  0.2 0.2 0.2 0.2 0.2 0.4 0.3 0.2 0.2 0.1 ...\n",
      " $ Species     : Factor w/ 3 levels \"setosa\",\"versicolor\",..: 1 1 1 1 1 1 1 1 1 1 ...\n"
     ]
    },
    {
     "data": {
      "text/plain": [
       "c\n",
       "    setosa versicolor  virginica \n",
       "        50         50         50 "
      ]
     },
     "metadata": {},
     "output_type": "display_data"
    }
   ],
   "source": [
    "str(iris)\n",
    "x=iris$Petal.Length\n",
    "y=iris$Petal.Width\n",
    "c=iris$Species\n",
    "table(c)"
   ]
  },
  {
   "cell_type": "code",
   "execution_count": 3,
   "metadata": {
    "ExecuteTime": {
     "end_time": "2019-04-04T01:16:26.015858Z",
     "start_time": "2019-04-04T01:16:28.885Z"
    }
   },
   "outputs": [
    {
     "data": {
      "image/png": "[encoded data removed]",
      "text/plain": [
       "Plot with title “Iris”"
      ]
     },
     "metadata": {
      "image/png": {
       "height": 420,
       "width": 420
      }
     },
     "output_type": "display_data"
    }
   ],
   "source": [
    "plot(x, y, pch=as.numeric(c), xlab='Petal Length', ylab='Petal Width', main ='Iris')\n",
    "legend('topleft', pch=c(1,2,3), levels(c))\n",
    "xlimits=c(2.5, 5)\n",
    "ylimits=c(0.75, 1.75)\n",
    "for (xlimit in xlimits) {\n",
    "  abline(v=xlimit)\n",
    "}\n",
    "for (ylimit in ylimits) {\n",
    "  abline(h=ylimit)\n",
    "}"
   ]
  },
  {
   "cell_type": "markdown",
   "metadata": {
    "ExecuteTime": {
     "end_time": "2019-03-31T15:14:04.971476Z",
     "start_time": "2019-03-31T15:14:06.911Z"
    }
   },
   "source": [
    "# Transformation"
   ]
  },
  {
   "cell_type": "code",
   "execution_count": 4,
   "metadata": {
    "ExecuteTime": {
     "end_time": "2019-04-04T01:16:36.934729Z",
     "start_time": "2019-04-04T01:16:39.901Z"
    }
   },
   "outputs": [],
   "source": [
    "x1=character()\n",
    "x1[x<=2.5]='low'\n",
    "x1[2.5<x & x<=5]='medium'\n",
    "x1[x>5]='high'\n",
    "## these lines are equivalent of:\n",
    "# x1=cut(x, c(-Inf, 2.5, 5, Inf), labels=c('low','medium','high'))\n",
    "\n",
    "y1=character()\n",
    "y1[y<=0.75]='low'\n",
    "y1[0.75<y & y<=1.75]='medium'\n",
    "y1[y>1.75]='high'\n",
    "## these lines are equivalent of:\n",
    "# y1=cut(y, c(-Inf, 0.75, 1.75, Inf), labels=c('low','medium','high'))\n",
    "\n",
    "x2=cbind(x1=='low',x1=='medium',x1=='high')\n",
    "y2=cbind(y1=='low',y1=='medium',y1=='high')\n",
    "labels=c('low','medium','high')\n",
    "colnames(x2)=colnames(y2)=labels\n",
    "class(x2)='numeric'\n",
    "class(y2)='numeric'\n",
    "# these lines are equivalent of:\n",
    "# x2=model.matrix(~0+x1)\n",
    "# y2=model.matrix(~0+y1)"
   ]
  },
  {
   "cell_type": "code",
   "execution_count": 5,
   "metadata": {
    "ExecuteTime": {
     "end_time": "2019-04-04T01:16:40.018718Z",
     "start_time": "2019-04-04T01:16:42.980Z"
    },
    "scrolled": true
   },
   "outputs": [
    {
     "data": {
      "text/html": [
       "<table class=\"dataframe\">\n",
       "<caption>A matrix: 10 × 5 of type chr</caption>\n",
       "<thead>\n",
       "\t<tr><th scope=col>x</th><th scope=col>x1</th><th scope=col>low</th><th scope=col>medium</th><th scope=col>high</th></tr>\n",
       "</thead>\n",
       "<tbody>\n",
       "\t<tr><td>3.3</td><td>medium</td><td>0</td><td>1</td><td>0</td></tr>\n",
       "\t<tr><td>3.6</td><td>medium</td><td>0</td><td>1</td><td>0</td></tr>\n",
       "\t<tr><td>4.5</td><td>medium</td><td>0</td><td>1</td><td>0</td></tr>\n",
       "\t<tr><td>1.3</td><td>low   </td><td>1</td><td>0</td><td>0</td></tr>\n",
       "\t<tr><td>6.7</td><td>high  </td><td>0</td><td>0</td><td>1</td></tr>\n",
       "\t<tr><td>1.6</td><td>low   </td><td>1</td><td>0</td><td>0</td></tr>\n",
       "\t<tr><td>5.5</td><td>high  </td><td>0</td><td>0</td><td>1</td></tr>\n",
       "\t<tr><td>4.9</td><td>medium</td><td>0</td><td>1</td><td>0</td></tr>\n",
       "\t<tr><td>5.7</td><td>high  </td><td>0</td><td>0</td><td>1</td></tr>\n",
       "\t<tr><td>5.2</td><td>high  </td><td>0</td><td>0</td><td>1</td></tr>\n",
       "</tbody>\n",
       "</table>\n"
      ],
      "text/latex": [
       "A matrix: 10 × 5 of type chr\n",
       "\\begin{tabular}{lllll}\n",
       " x & x1 & low & medium & high\\\\\n",
       "\\hline\n",
       "\t 3.3 & medium & 0 & 1 & 0\\\\\n",
       "\t 3.6 & medium & 0 & 1 & 0\\\\\n",
       "\t 4.5 & medium & 0 & 1 & 0\\\\\n",
       "\t 1.3 & low    & 1 & 0 & 0\\\\\n",
       "\t 6.7 & high   & 0 & 0 & 1\\\\\n",
       "\t 1.6 & low    & 1 & 0 & 0\\\\\n",
       "\t 5.5 & high   & 0 & 0 & 1\\\\\n",
       "\t 4.9 & medium & 0 & 1 & 0\\\\\n",
       "\t 5.7 & high   & 0 & 0 & 1\\\\\n",
       "\t 5.2 & high   & 0 & 0 & 1\\\\\n",
       "\\end{tabular}\n"
      ],
      "text/markdown": [
       "\n",
       "A matrix: 10 × 5 of type chr\n",
       "\n",
       "| x | x1 | low | medium | high |\n",
       "|---|---|---|---|---|\n",
       "| 3.3 | medium | 0 | 1 | 0 |\n",
       "| 3.6 | medium | 0 | 1 | 0 |\n",
       "| 4.5 | medium | 0 | 1 | 0 |\n",
       "| 1.3 | low    | 1 | 0 | 0 |\n",
       "| 6.7 | high   | 0 | 0 | 1 |\n",
       "| 1.6 | low    | 1 | 0 | 0 |\n",
       "| 5.5 | high   | 0 | 0 | 1 |\n",
       "| 4.9 | medium | 0 | 1 | 0 |\n",
       "| 5.7 | high   | 0 | 0 | 1 |\n",
       "| 5.2 | high   | 0 | 0 | 1 |\n",
       "\n"
      ],
      "text/plain": [
       "      x   x1     low medium high\n",
       " [1,] 3.3 medium 0   1      0   \n",
       " [2,] 3.6 medium 0   1      0   \n",
       " [3,] 4.5 medium 0   1      0   \n",
       " [4,] 1.3 low    1   0      0   \n",
       " [5,] 6.7 high   0   0      1   \n",
       " [6,] 1.6 low    1   0      0   \n",
       " [7,] 5.5 high   0   0      1   \n",
       " [8,] 4.9 medium 0   1      0   \n",
       " [9,] 5.7 high   0   0      1   \n",
       "[10,] 5.2 high   0   0      1   "
      ]
     },
     "metadata": {},
     "output_type": "display_data"
    },
    {
     "data": {
      "text/html": [
       "<table class=\"dataframe\">\n",
       "<caption>A matrix: 10 × 5 of type chr</caption>\n",
       "<thead>\n",
       "\t<tr><th scope=col>y</th><th scope=col>y1</th><th scope=col>low</th><th scope=col>medium</th><th scope=col>high</th></tr>\n",
       "</thead>\n",
       "<tbody>\n",
       "\t<tr><td>1  </td><td>medium</td><td>0</td><td>1</td><td>0</td></tr>\n",
       "\t<tr><td>1.3</td><td>medium</td><td>0</td><td>1</td><td>0</td></tr>\n",
       "\t<tr><td>1.5</td><td>medium</td><td>0</td><td>1</td><td>0</td></tr>\n",
       "\t<tr><td>0.2</td><td>low   </td><td>1</td><td>0</td><td>0</td></tr>\n",
       "\t<tr><td>2.2</td><td>high  </td><td>0</td><td>0</td><td>1</td></tr>\n",
       "\t<tr><td>0.2</td><td>low   </td><td>1</td><td>0</td><td>0</td></tr>\n",
       "\t<tr><td>1.8</td><td>high  </td><td>0</td><td>0</td><td>1</td></tr>\n",
       "\t<tr><td>1.5</td><td>medium</td><td>0</td><td>1</td><td>0</td></tr>\n",
       "\t<tr><td>2.1</td><td>high  </td><td>0</td><td>0</td><td>1</td></tr>\n",
       "\t<tr><td>2.3</td><td>high  </td><td>0</td><td>0</td><td>1</td></tr>\n",
       "</tbody>\n",
       "</table>\n"
      ],
      "text/latex": [
       "A matrix: 10 × 5 of type chr\n",
       "\\begin{tabular}{lllll}\n",
       " y & y1 & low & medium & high\\\\\n",
       "\\hline\n",
       "\t 1   & medium & 0 & 1 & 0\\\\\n",
       "\t 1.3 & medium & 0 & 1 & 0\\\\\n",
       "\t 1.5 & medium & 0 & 1 & 0\\\\\n",
       "\t 0.2 & low    & 1 & 0 & 0\\\\\n",
       "\t 2.2 & high   & 0 & 0 & 1\\\\\n",
       "\t 0.2 & low    & 1 & 0 & 0\\\\\n",
       "\t 1.8 & high   & 0 & 0 & 1\\\\\n",
       "\t 1.5 & medium & 0 & 1 & 0\\\\\n",
       "\t 2.1 & high   & 0 & 0 & 1\\\\\n",
       "\t 2.3 & high   & 0 & 0 & 1\\\\\n",
       "\\end{tabular}\n"
      ],
      "text/markdown": [
       "\n",
       "A matrix: 10 × 5 of type chr\n",
       "\n",
       "| y | y1 | low | medium | high |\n",
       "|---|---|---|---|---|\n",
       "| 1   | medium | 0 | 1 | 0 |\n",
       "| 1.3 | medium | 0 | 1 | 0 |\n",
       "| 1.5 | medium | 0 | 1 | 0 |\n",
       "| 0.2 | low    | 1 | 0 | 0 |\n",
       "| 2.2 | high   | 0 | 0 | 1 |\n",
       "| 0.2 | low    | 1 | 0 | 0 |\n",
       "| 1.8 | high   | 0 | 0 | 1 |\n",
       "| 1.5 | medium | 0 | 1 | 0 |\n",
       "| 2.1 | high   | 0 | 0 | 1 |\n",
       "| 2.3 | high   | 0 | 0 | 1 |\n",
       "\n"
      ],
      "text/plain": [
       "      y   y1     low medium high\n",
       " [1,] 1   medium 0   1      0   \n",
       " [2,] 1.3 medium 0   1      0   \n",
       " [3,] 1.5 medium 0   1      0   \n",
       " [4,] 0.2 low    1   0      0   \n",
       " [5,] 2.2 high   0   0      1   \n",
       " [6,] 0.2 low    1   0      0   \n",
       " [7,] 1.8 high   0   0      1   \n",
       " [8,] 1.5 medium 0   1      0   \n",
       " [9,] 2.1 high   0   0      1   \n",
       "[10,] 2.3 high   0   0      1   "
      ]
     },
     "metadata": {},
     "output_type": "display_data"
    }
   ],
   "source": [
    "ind=sample(1:nrow(iris), 10, replace = FALSE)\n",
    "cbind(x,x1,x2)[ind,]\n",
    "cbind(y,y1,y2)[ind,]"
   ]
  },
  {
   "cell_type": "code",
   "execution_count": 6,
   "metadata": {
    "ExecuteTime": {
     "end_time": "2019-04-04T01:16:46.643364Z",
     "start_time": "2019-04-04T01:16:49.573Z"
    },
    "scrolled": true
   },
   "outputs": [
    {
     "data": {
      "text/html": [
       "<table class=\"dataframe\">\n",
       "<caption>A data.frame: 10 × 7</caption>\n",
       "<thead>\n",
       "\t<tr><th></th><th scope=col>Sepal.Length</th><th scope=col>Sepal.Width</th><th scope=col>Petal.Length</th><th scope=col>Petal.Width</th><th scope=col>Species</th><th scope=col>Petal.Length.Cut</th><th scope=col>Petal.Width.Cut</th></tr>\n",
       "\t<tr><th></th><th scope=col>&lt;dbl&gt;</th><th scope=col>&lt;dbl&gt;</th><th scope=col>&lt;dbl&gt;</th><th scope=col>&lt;dbl&gt;</th><th scope=col>&lt;fct&gt;</th><th scope=col>&lt;fct&gt;</th><th scope=col>&lt;fct&gt;</th></tr>\n",
       "</thead>\n",
       "<tbody>\n",
       "\t<tr><th scope=row>94</th><td>5.0</td><td>2.3</td><td>3.3</td><td>1.0</td><td>versicolor</td><td>medium</td><td>medium</td></tr>\n",
       "\t<tr><th scope=row>65</th><td>5.6</td><td>2.9</td><td>3.6</td><td>1.3</td><td>versicolor</td><td>medium</td><td>medium</td></tr>\n",
       "\t<tr><th scope=row>85</th><td>5.4</td><td>3.0</td><td>4.5</td><td>1.5</td><td>versicolor</td><td>medium</td><td>medium</td></tr>\n",
       "\t<tr><th scope=row>37</th><td>5.5</td><td>3.5</td><td>1.3</td><td>0.2</td><td>setosa    </td><td>low   </td><td>low   </td></tr>\n",
       "\t<tr><th scope=row>118</th><td>7.7</td><td>3.8</td><td>6.7</td><td>2.2</td><td>virginica </td><td>high  </td><td>high  </td></tr>\n",
       "\t<tr><th scope=row>26</th><td>5.0</td><td>3.0</td><td>1.6</td><td>0.2</td><td>setosa    </td><td>low   </td><td>low   </td></tr>\n",
       "\t<tr><th scope=row>138</th><td>6.4</td><td>3.1</td><td>5.5</td><td>1.8</td><td>virginica </td><td>high  </td><td>high  </td></tr>\n",
       "\t<tr><th scope=row>73</th><td>6.3</td><td>2.5</td><td>4.9</td><td>1.5</td><td>versicolor</td><td>medium</td><td>medium</td></tr>\n",
       "\t<tr><th scope=row>125</th><td>6.7</td><td>3.3</td><td>5.7</td><td>2.1</td><td>virginica </td><td>high  </td><td>high  </td></tr>\n",
       "\t<tr><th scope=row>146</th><td>6.7</td><td>3.0</td><td>5.2</td><td>2.3</td><td>virginica </td><td>high  </td><td>high  </td></tr>\n",
       "</tbody>\n",
       "</table>\n"
      ],
      "text/latex": [
       "A data.frame: 10 × 7\n",
       "\\begin{tabular}{r|lllllll}\n",
       "  & Sepal.Length & Sepal.Width & Petal.Length & Petal.Width & Species & Petal.Length.Cut & Petal.Width.Cut\\\\\n",
       "  & <dbl> & <dbl> & <dbl> & <dbl> & <fct> & <fct> & <fct>\\\\\n",
       "\\hline\n",
       "\t94 & 5.0 & 2.3 & 3.3 & 1.0 & versicolor & medium & medium\\\\\n",
       "\t65 & 5.6 & 2.9 & 3.6 & 1.3 & versicolor & medium & medium\\\\\n",
       "\t85 & 5.4 & 3.0 & 4.5 & 1.5 & versicolor & medium & medium\\\\\n",
       "\t37 & 5.5 & 3.5 & 1.3 & 0.2 & setosa     & low    & low   \\\\\n",
       "\t118 & 7.7 & 3.8 & 6.7 & 2.2 & virginica  & high   & high  \\\\\n",
       "\t26 & 5.0 & 3.0 & 1.6 & 0.2 & setosa     & low    & low   \\\\\n",
       "\t138 & 6.4 & 3.1 & 5.5 & 1.8 & virginica  & high   & high  \\\\\n",
       "\t73 & 6.3 & 2.5 & 4.9 & 1.5 & versicolor & medium & medium\\\\\n",
       "\t125 & 6.7 & 3.3 & 5.7 & 2.1 & virginica  & high   & high  \\\\\n",
       "\t146 & 6.7 & 3.0 & 5.2 & 2.3 & virginica  & high   & high  \\\\\n",
       "\\end{tabular}\n"
      ],
      "text/markdown": [
       "\n",
       "A data.frame: 10 × 7\n",
       "\n",
       "| <!--/--> | Sepal.Length &lt;dbl&gt; | Sepal.Width &lt;dbl&gt; | Petal.Length &lt;dbl&gt; | Petal.Width &lt;dbl&gt; | Species &lt;fct&gt; | Petal.Length.Cut &lt;fct&gt; | Petal.Width.Cut &lt;fct&gt; |\n",
       "|---|---|---|---|---|---|---|---|\n",
       "| 94 | 5.0 | 2.3 | 3.3 | 1.0 | versicolor | medium | medium |\n",
       "| 65 | 5.6 | 2.9 | 3.6 | 1.3 | versicolor | medium | medium |\n",
       "| 85 | 5.4 | 3.0 | 4.5 | 1.5 | versicolor | medium | medium |\n",
       "| 37 | 5.5 | 3.5 | 1.3 | 0.2 | setosa     | low    | low    |\n",
       "| 118 | 7.7 | 3.8 | 6.7 | 2.2 | virginica  | high   | high   |\n",
       "| 26 | 5.0 | 3.0 | 1.6 | 0.2 | setosa     | low    | low    |\n",
       "| 138 | 6.4 | 3.1 | 5.5 | 1.8 | virginica  | high   | high   |\n",
       "| 73 | 6.3 | 2.5 | 4.9 | 1.5 | versicolor | medium | medium |\n",
       "| 125 | 6.7 | 3.3 | 5.7 | 2.1 | virginica  | high   | high   |\n",
       "| 146 | 6.7 | 3.0 | 5.2 | 2.3 | virginica  | high   | high   |\n",
       "\n"
      ],
      "text/plain": [
       "    Sepal.Length Sepal.Width Petal.Length Petal.Width Species   \n",
       "94  5.0          2.3         3.3          1.0         versicolor\n",
       "65  5.6          2.9         3.6          1.3         versicolor\n",
       "85  5.4          3.0         4.5          1.5         versicolor\n",
       "37  5.5          3.5         1.3          0.2         setosa    \n",
       "118 7.7          3.8         6.7          2.2         virginica \n",
       "26  5.0          3.0         1.6          0.2         setosa    \n",
       "138 6.4          3.1         5.5          1.8         virginica \n",
       "73  6.3          2.5         4.9          1.5         versicolor\n",
       "125 6.7          3.3         5.7          2.1         virginica \n",
       "146 6.7          3.0         5.2          2.3         virginica \n",
       "    Petal.Length.Cut Petal.Width.Cut\n",
       "94  medium           medium         \n",
       "65  medium           medium         \n",
       "85  medium           medium         \n",
       "37  low              low            \n",
       "118 high             high           \n",
       "26  low              low            \n",
       "138 high             high           \n",
       "73  medium           medium         \n",
       "125 high             high           \n",
       "146 high             high           "
      ]
     },
     "metadata": {},
     "output_type": "display_data"
    }
   ],
   "source": [
    "# transformation with dplyr\n",
    "iris = iris %>%\n",
    "mutate(\n",
    "    Petal.Length.Cut=cut(Petal.Length, c(-Inf, 2.5, 5, Inf), labels=labels)\n",
    "    ,\n",
    "    Petal.Width.Cut=cut(Petal.Width, c(-Inf, 0.75, 1.75, Inf), labels=labels)\n",
    ")\n",
    "iris[ind,]"
   ]
  },
  {
   "cell_type": "code",
   "execution_count": 7,
   "metadata": {},
   "outputs": [
    {
     "data": {
      "text/html": [
       "<table class=\"dataframe\">\n",
       "<caption>A matrix: 10 × 3 of type dbl</caption>\n",
       "<thead>\n",
       "\t<tr><th></th><th scope=col>Petal.Length.Cutlow</th><th scope=col>Petal.Length.Cutmedium</th><th scope=col>Petal.Length.Cuthigh</th></tr>\n",
       "</thead>\n",
       "<tbody>\n",
       "\t<tr><th scope=row>94</th><td>0</td><td>1</td><td>0</td></tr>\n",
       "\t<tr><th scope=row>65</th><td>0</td><td>1</td><td>0</td></tr>\n",
       "\t<tr><th scope=row>85</th><td>0</td><td>1</td><td>0</td></tr>\n",
       "\t<tr><th scope=row>37</th><td>1</td><td>0</td><td>0</td></tr>\n",
       "\t<tr><th scope=row>118</th><td>0</td><td>0</td><td>1</td></tr>\n",
       "\t<tr><th scope=row>26</th><td>1</td><td>0</td><td>0</td></tr>\n",
       "\t<tr><th scope=row>138</th><td>0</td><td>0</td><td>1</td></tr>\n",
       "\t<tr><th scope=row>73</th><td>0</td><td>1</td><td>0</td></tr>\n",
       "\t<tr><th scope=row>125</th><td>0</td><td>0</td><td>1</td></tr>\n",
       "\t<tr><th scope=row>146</th><td>0</td><td>0</td><td>1</td></tr>\n",
       "</tbody>\n",
       "</table>\n"
      ],
      "text/latex": [
       "A matrix: 10 × 3 of type dbl\n",
       "\\begin{tabular}{r|lll}\n",
       "  & Petal.Length.Cutlow & Petal.Length.Cutmedium & Petal.Length.Cuthigh\\\\\n",
       "\\hline\n",
       "\t94 & 0 & 1 & 0\\\\\n",
       "\t65 & 0 & 1 & 0\\\\\n",
       "\t85 & 0 & 1 & 0\\\\\n",
       "\t37 & 1 & 0 & 0\\\\\n",
       "\t118 & 0 & 0 & 1\\\\\n",
       "\t26 & 1 & 0 & 0\\\\\n",
       "\t138 & 0 & 0 & 1\\\\\n",
       "\t73 & 0 & 1 & 0\\\\\n",
       "\t125 & 0 & 0 & 1\\\\\n",
       "\t146 & 0 & 0 & 1\\\\\n",
       "\\end{tabular}\n"
      ],
      "text/markdown": [
       "\n",
       "A matrix: 10 × 3 of type dbl\n",
       "\n",
       "| <!--/--> | Petal.Length.Cutlow | Petal.Length.Cutmedium | Petal.Length.Cuthigh |\n",
       "|---|---|---|---|\n",
       "| 94 | 0 | 1 | 0 |\n",
       "| 65 | 0 | 1 | 0 |\n",
       "| 85 | 0 | 1 | 0 |\n",
       "| 37 | 1 | 0 | 0 |\n",
       "| 118 | 0 | 0 | 1 |\n",
       "| 26 | 1 | 0 | 0 |\n",
       "| 138 | 0 | 0 | 1 |\n",
       "| 73 | 0 | 1 | 0 |\n",
       "| 125 | 0 | 0 | 1 |\n",
       "| 146 | 0 | 0 | 1 |\n",
       "\n"
      ],
      "text/plain": [
       "    Petal.Length.Cutlow Petal.Length.Cutmedium Petal.Length.Cuthigh\n",
       "94  0                   1                      0                   \n",
       "65  0                   1                      0                   \n",
       "85  0                   1                      0                   \n",
       "37  1                   0                      0                   \n",
       "118 0                   0                      1                   \n",
       "26  1                   0                      0                   \n",
       "138 0                   0                      1                   \n",
       "73  0                   1                      0                   \n",
       "125 0                   0                      1                   \n",
       "146 0                   0                      1                   "
      ]
     },
     "metadata": {},
     "output_type": "display_data"
    }
   ],
   "source": [
    "model.matrix(~0+Petal.Length.Cut, data=iris)[ind,]"
   ]
  },
  {
   "cell_type": "code",
   "execution_count": 8,
   "metadata": {},
   "outputs": [
    {
     "data": {
      "text/html": [
       "<table class=\"dataframe\">\n",
       "<caption>A matrix: 10 × 3 of type dbl</caption>\n",
       "<thead>\n",
       "\t<tr><th></th><th scope=col>Petal.Width.Cutlow</th><th scope=col>Petal.Width.Cutmedium</th><th scope=col>Petal.Width.Cuthigh</th></tr>\n",
       "</thead>\n",
       "<tbody>\n",
       "\t<tr><th scope=row>94</th><td>0</td><td>1</td><td>0</td></tr>\n",
       "\t<tr><th scope=row>65</th><td>0</td><td>1</td><td>0</td></tr>\n",
       "\t<tr><th scope=row>85</th><td>0</td><td>1</td><td>0</td></tr>\n",
       "\t<tr><th scope=row>37</th><td>1</td><td>0</td><td>0</td></tr>\n",
       "\t<tr><th scope=row>118</th><td>0</td><td>0</td><td>1</td></tr>\n",
       "\t<tr><th scope=row>26</th><td>1</td><td>0</td><td>0</td></tr>\n",
       "\t<tr><th scope=row>138</th><td>0</td><td>0</td><td>1</td></tr>\n",
       "\t<tr><th scope=row>73</th><td>0</td><td>1</td><td>0</td></tr>\n",
       "\t<tr><th scope=row>125</th><td>0</td><td>0</td><td>1</td></tr>\n",
       "\t<tr><th scope=row>146</th><td>0</td><td>0</td><td>1</td></tr>\n",
       "</tbody>\n",
       "</table>\n"
      ],
      "text/latex": [
       "A matrix: 10 × 3 of type dbl\n",
       "\\begin{tabular}{r|lll}\n",
       "  & Petal.Width.Cutlow & Petal.Width.Cutmedium & Petal.Width.Cuthigh\\\\\n",
       "\\hline\n",
       "\t94 & 0 & 1 & 0\\\\\n",
       "\t65 & 0 & 1 & 0\\\\\n",
       "\t85 & 0 & 1 & 0\\\\\n",
       "\t37 & 1 & 0 & 0\\\\\n",
       "\t118 & 0 & 0 & 1\\\\\n",
       "\t26 & 1 & 0 & 0\\\\\n",
       "\t138 & 0 & 0 & 1\\\\\n",
       "\t73 & 0 & 1 & 0\\\\\n",
       "\t125 & 0 & 0 & 1\\\\\n",
       "\t146 & 0 & 0 & 1\\\\\n",
       "\\end{tabular}\n"
      ],
      "text/markdown": [
       "\n",
       "A matrix: 10 × 3 of type dbl\n",
       "\n",
       "| <!--/--> | Petal.Width.Cutlow | Petal.Width.Cutmedium | Petal.Width.Cuthigh |\n",
       "|---|---|---|---|\n",
       "| 94 | 0 | 1 | 0 |\n",
       "| 65 | 0 | 1 | 0 |\n",
       "| 85 | 0 | 1 | 0 |\n",
       "| 37 | 1 | 0 | 0 |\n",
       "| 118 | 0 | 0 | 1 |\n",
       "| 26 | 1 | 0 | 0 |\n",
       "| 138 | 0 | 0 | 1 |\n",
       "| 73 | 0 | 1 | 0 |\n",
       "| 125 | 0 | 0 | 1 |\n",
       "| 146 | 0 | 0 | 1 |\n",
       "\n"
      ],
      "text/plain": [
       "    Petal.Width.Cutlow Petal.Width.Cutmedium Petal.Width.Cuthigh\n",
       "94  0                  1                     0                  \n",
       "65  0                  1                     0                  \n",
       "85  0                  1                     0                  \n",
       "37  1                  0                     0                  \n",
       "118 0                  0                     1                  \n",
       "26  1                  0                     0                  \n",
       "138 0                  0                     1                  \n",
       "73  0                  1                     0                  \n",
       "125 0                  0                     1                  \n",
       "146 0                  0                     1                  "
      ]
     },
     "metadata": {},
     "output_type": "display_data"
    }
   ],
   "source": [
    "model.matrix(~0+Petal.Width.Cut, data=iris)[ind,]"
   ]
  },
  {
   "cell_type": "markdown",
   "metadata": {},
   "source": [
    "# Distance"
   ]
  },
  {
   "cell_type": "code",
   "execution_count": 9,
   "metadata": {
    "ExecuteTime": {
     "end_time": "2019-04-04T01:16:51.684530Z",
     "start_time": "2019-04-04T01:16:54.643Z"
    }
   },
   "outputs": [
    {
     "data": {
      "text/html": [
       "<table class=\"dataframe\">\n",
       "<caption>A matrix: 4 × 2 of type dbl</caption>\n",
       "<thead>\n",
       "\t<tr><th scope=col>x</th><th scope=col>y</th></tr>\n",
       "</thead>\n",
       "<tbody>\n",
       "\t<tr><td>0</td><td>2</td></tr>\n",
       "\t<tr><td>2</td><td>0</td></tr>\n",
       "\t<tr><td>3</td><td>1</td></tr>\n",
       "\t<tr><td>5</td><td>1</td></tr>\n",
       "</tbody>\n",
       "</table>\n"
      ],
      "text/latex": [
       "A matrix: 4 × 2 of type dbl\n",
       "\\begin{tabular}{ll}\n",
       " x & y\\\\\n",
       "\\hline\n",
       "\t 0 & 2\\\\\n",
       "\t 2 & 0\\\\\n",
       "\t 3 & 1\\\\\n",
       "\t 5 & 1\\\\\n",
       "\\end{tabular}\n"
      ],
      "text/markdown": [
       "\n",
       "A matrix: 4 × 2 of type dbl\n",
       "\n",
       "| x | y |\n",
       "|---|---|\n",
       "| 0 | 2 |\n",
       "| 2 | 0 |\n",
       "| 3 | 1 |\n",
       "| 5 | 1 |\n",
       "\n"
      ],
      "text/plain": [
       "     x y\n",
       "[1,] 0 2\n",
       "[2,] 2 0\n",
       "[3,] 3 1\n",
       "[4,] 5 1"
      ]
     },
     "metadata": {},
     "output_type": "display_data"
    }
   ],
   "source": [
    "data=cbind(x=c(0,2,3,5),y=c(2,0,1,1))\n",
    "data"
   ]
  },
  {
   "cell_type": "code",
   "execution_count": 10,
   "metadata": {
    "ExecuteTime": {
     "end_time": "2019-04-04T01:16:54.525682Z",
     "start_time": "2019-04-04T01:16:57.460Z"
    }
   },
   "outputs": [
    {
     "data": {
      "text/plain": [
       "         1        2        3\n",
       "2 2.828427                  \n",
       "3 3.162278 1.414214         \n",
       "4 5.099020 3.162278 2.000000"
      ]
     },
     "metadata": {},
     "output_type": "display_data"
    },
    {
     "data": {
      "text/plain": [
       "  1 2 3\n",
       "2 4    \n",
       "3 4 2  \n",
       "4 6 4 2"
      ]
     },
     "metadata": {},
     "output_type": "display_data"
    },
    {
     "data": {
      "text/plain": [
       "  1 2 3\n",
       "2 4    \n",
       "3 4 2  \n",
       "4 6 4 2"
      ]
     },
     "metadata": {},
     "output_type": "display_data"
    },
    {
     "data": {
      "text/plain": [
       "         1        2        3\n",
       "2 2.828427                  \n",
       "3 3.162278 1.414214         \n",
       "4 5.099020 3.162278 2.000000"
      ]
     },
     "metadata": {},
     "output_type": "display_data"
    },
    {
     "data": {
      "text/plain": [
       "         1        2        3\n",
       "2 2.070530                  \n",
       "3 3.000000 1.035265         \n",
       "4 5.000000 3.000000 2.000000"
      ]
     },
     "metadata": {},
     "output_type": "display_data"
    },
    {
     "data": {
      "text/plain": [
       "         1        2        3\n",
       "2 2.006943                  \n",
       "3 3.000000 1.003472         \n",
       "4 5.000000 3.000000 2.000000"
      ]
     },
     "metadata": {},
     "output_type": "display_data"
    },
    {
     "data": {
      "text/plain": [
       "  1 2 3\n",
       "2 2    \n",
       "3 3 1  \n",
       "4 5 3 2"
      ]
     },
     "metadata": {},
     "output_type": "display_data"
    },
    {
     "data": {
      "text/plain": [
       "    1   2   3\n",
       "2 1.0        \n",
       "3 0.5 0.5    \n",
       "4 0.5 0.5 0.0"
      ]
     },
     "metadata": {},
     "output_type": "display_data"
    }
   ],
   "source": [
    "dist(data, method=\"euclidean\")\n",
    "dist(data, method=\"manhattan\")\n",
    "dist(data, method=\"minkowski\", p=1)\n",
    "dist(data, method=\"minkowski\", p=2)\n",
    "dist(data, method=\"minkowski\", p=20)\n",
    "dist(data, method=\"minkowski\", p=200)\n",
    "dist(data, method=\"maximum\")\n",
    "dist(data, method=\"binary\")"
   ]
  },
  {
   "cell_type": "code",
   "execution_count": 11,
   "metadata": {
    "ExecuteTime": {
     "end_time": "2019-04-04T01:16:56.805730Z",
     "start_time": "2019-04-04T01:16:59.750Z"
    }
   },
   "outputs": [
    {
     "data": {
      "text/html": [
       "<style>\n",
       ".dl-inline {width: auto; margin:0; padding: 0}\n",
       ".dl-inline>dt, .dl-inline>dd {float: none; width: auto; display: inline-block}\n",
       ".dl-inline>dt::after {content: \":\\0020\"; padding-right: .5ex}\n",
       ".dl-inline>dt:not(:first-of-type) {padding-left: .5ex}\n",
       "</style><dl class=dl-inline><dt>x</dt><dd>2.5</dd><dt>y</dt><dd>1</dd></dl>\n"
      ],
      "text/latex": [
       "\\begin{description*}\n",
       "\\item[x] 2.5\n",
       "\\item[y] 1\n",
       "\\end{description*}\n"
      ],
      "text/markdown": [
       "x\n",
       ":   2.5y\n",
       ":   1\n",
       "\n"
      ],
      "text/plain": [
       "  x   y \n",
       "2.5 1.0 "
      ]
     },
     "metadata": {},
     "output_type": "display_data"
    },
    {
     "data": {
      "text/html": [
       "<style>\n",
       ".dl-inline {width: auto; margin:0; padding: 0}\n",
       ".dl-inline>dt, .dl-inline>dd {float: none; width: auto; display: inline-block}\n",
       ".dl-inline>dt::after {content: \":\\0020\"; padding-right: .5ex}\n",
       ".dl-inline>dt:not(:first-of-type) {padding-left: .5ex}\n",
       "</style><dl class=dl-inline><dt>x</dt><dd>2.08166599946613</dd><dt>y</dt><dd>0.816496580927726</dd></dl>\n"
      ],
      "text/latex": [
       "\\begin{description*}\n",
       "\\item[x] 2.08166599946613\n",
       "\\item[y] 0.816496580927726\n",
       "\\end{description*}\n"
      ],
      "text/markdown": [
       "x\n",
       ":   2.08166599946613y\n",
       ":   0.816496580927726\n",
       "\n"
      ],
      "text/plain": [
       "        x         y \n",
       "2.0816660 0.8164966 "
      ]
     },
     "metadata": {},
     "output_type": "display_data"
    },
    {
     "data": {
      "text/html": [
       "<style>\n",
       ".dl-inline {width: auto; margin:0; padding: 0}\n",
       ".dl-inline>dt, .dl-inline>dd {float: none; width: auto; display: inline-block}\n",
       ".dl-inline>dt::after {content: \":\\0020\"; padding-right: .5ex}\n",
       ".dl-inline>dt:not(:first-of-type) {padding-left: .5ex}\n",
       "</style><dl class=dl-inline><dt>x</dt><dd>0</dd><dt>y</dt><dd>0</dd></dl>\n"
      ],
      "text/latex": [
       "\\begin{description*}\n",
       "\\item[x] 0\n",
       "\\item[y] 0\n",
       "\\end{description*}\n"
      ],
      "text/markdown": [
       "x\n",
       ":   0y\n",
       ":   0\n",
       "\n"
      ],
      "text/plain": [
       "x y \n",
       "0 0 "
      ]
     },
     "metadata": {},
     "output_type": "display_data"
    },
    {
     "data": {
      "text/html": [
       "<style>\n",
       ".dl-inline {width: auto; margin:0; padding: 0}\n",
       ".dl-inline>dt, .dl-inline>dd {float: none; width: auto; display: inline-block}\n",
       ".dl-inline>dt::after {content: \":\\0020\"; padding-right: .5ex}\n",
       ".dl-inline>dt:not(:first-of-type) {padding-left: .5ex}\n",
       "</style><dl class=dl-inline><dt>x</dt><dd>1</dd><dt>y</dt><dd>1</dd></dl>\n"
      ],
      "text/latex": [
       "\\begin{description*}\n",
       "\\item[x] 1\n",
       "\\item[y] 1\n",
       "\\end{description*}\n"
      ],
      "text/markdown": [
       "x\n",
       ":   1y\n",
       ":   1\n",
       "\n"
      ],
      "text/plain": [
       "x y \n",
       "1 1 "
      ]
     },
     "metadata": {},
     "output_type": "display_data"
    },
    {
     "data": {
      "text/html": [
       "<table class=\"dataframe\">\n",
       "<caption>A matrix: 4 × 2 of type dbl</caption>\n",
       "<thead>\n",
       "\t<tr><th scope=col>x</th><th scope=col>y</th></tr>\n",
       "</thead>\n",
       "<tbody>\n",
       "\t<tr><td>-1.2009612</td><td> 1.224745</td></tr>\n",
       "\t<tr><td>-0.2401922</td><td>-1.224745</td></tr>\n",
       "\t<tr><td> 0.2401922</td><td> 0.000000</td></tr>\n",
       "\t<tr><td> 1.2009612</td><td> 0.000000</td></tr>\n",
       "</tbody>\n",
       "</table>\n"
      ],
      "text/latex": [
       "A matrix: 4 × 2 of type dbl\n",
       "\\begin{tabular}{ll}\n",
       " x & y\\\\\n",
       "\\hline\n",
       "\t -1.2009612 &  1.224745\\\\\n",
       "\t -0.2401922 & -1.224745\\\\\n",
       "\t  0.2401922 &  0.000000\\\\\n",
       "\t  1.2009612 &  0.000000\\\\\n",
       "\\end{tabular}\n"
      ],
      "text/markdown": [
       "\n",
       "A matrix: 4 × 2 of type dbl\n",
       "\n",
       "| x | y |\n",
       "|---|---|\n",
       "| -1.2009612 |  1.224745 |\n",
       "| -0.2401922 | -1.224745 |\n",
       "|  0.2401922 |  0.000000 |\n",
       "|  1.2009612 |  0.000000 |\n",
       "\n"
      ],
      "text/plain": [
       "     x          y        \n",
       "[1,] -1.2009612  1.224745\n",
       "[2,] -0.2401922 -1.224745\n",
       "[3,]  0.2401922  0.000000\n",
       "[4,]  1.2009612  0.000000"
      ]
     },
     "metadata": {},
     "output_type": "display_data"
    },
    {
     "data": {
      "text/plain": [
       "          1         2         3\n",
       "2 2.6311741                    \n",
       "3 1.8912755 1.3155870          \n",
       "4 2.6961511 1.8912755 0.9607689"
      ]
     },
     "metadata": {},
     "output_type": "display_data"
    }
   ],
   "source": [
    "apply(data, 2, mean)\n",
    "apply(data, 2, sd)\n",
    "data=scale(data)\n",
    "apply(data, 2, mean)\n",
    "apply(data, 2, sd)\n",
    "data\n",
    "dist(data, method=\"euclidean\")"
   ]
  },
  {
   "cell_type": "markdown",
   "metadata": {},
   "source": [
    "# PCA"
   ]
  },
  {
   "cell_type": "code",
   "execution_count": 12,
   "metadata": {
    "ExecuteTime": {
     "end_time": "2019-04-04T01:17:00.295905Z",
     "start_time": "2019-04-04T01:17:03.228Z"
    }
   },
   "outputs": [
    {
     "data": {
      "text/html": [
       "<table class=\"dataframe\">\n",
       "<caption>A data.frame: 25 × 10</caption>\n",
       "<thead>\n",
       "\t<tr><th scope=col>Country</th><th scope=col>RedMeat</th><th scope=col>WhiteMeat</th><th scope=col>Eggs</th><th scope=col>Milk</th><th scope=col>Fish</th><th scope=col>Cereals</th><th scope=col>Starch</th><th scope=col>Nuts</th><th scope=col>Fr.Veg</th></tr>\n",
       "\t<tr><th scope=col>&lt;chr&gt;</th><th scope=col>&lt;dbl&gt;</th><th scope=col>&lt;dbl&gt;</th><th scope=col>&lt;dbl&gt;</th><th scope=col>&lt;dbl&gt;</th><th scope=col>&lt;dbl&gt;</th><th scope=col>&lt;dbl&gt;</th><th scope=col>&lt;dbl&gt;</th><th scope=col>&lt;dbl&gt;</th><th scope=col>&lt;dbl&gt;</th></tr>\n",
       "</thead>\n",
       "<tbody>\n",
       "\t<tr><td>Albania       </td><td>10.1</td><td> 1.4</td><td>0.5</td><td> 8.9</td><td> 0.2</td><td>42.3</td><td>0.6</td><td>5.5</td><td>1.7</td></tr>\n",
       "\t<tr><td>Austria       </td><td> 8.9</td><td>14.0</td><td>4.3</td><td>19.9</td><td> 2.1</td><td>28.0</td><td>3.6</td><td>1.3</td><td>4.3</td></tr>\n",
       "\t<tr><td>Belgium       </td><td>13.5</td><td> 9.3</td><td>4.1</td><td>17.5</td><td> 4.5</td><td>26.6</td><td>5.7</td><td>2.1</td><td>4.0</td></tr>\n",
       "\t<tr><td>Bulgaria      </td><td> 7.8</td><td> 6.0</td><td>1.6</td><td> 8.3</td><td> 1.2</td><td>56.7</td><td>1.1</td><td>3.7</td><td>4.2</td></tr>\n",
       "\t<tr><td>Czechoslovakia</td><td> 9.7</td><td>11.4</td><td>2.8</td><td>12.5</td><td> 2.0</td><td>34.3</td><td>5.0</td><td>1.1</td><td>4.0</td></tr>\n",
       "\t<tr><td>Denmark       </td><td>10.6</td><td>10.8</td><td>3.7</td><td>25.0</td><td> 9.9</td><td>21.9</td><td>4.8</td><td>0.7</td><td>2.4</td></tr>\n",
       "\t<tr><td>E Germany     </td><td> 8.4</td><td>11.6</td><td>3.7</td><td>11.1</td><td> 5.4</td><td>24.6</td><td>6.5</td><td>0.8</td><td>3.6</td></tr>\n",
       "\t<tr><td>Finland       </td><td> 9.5</td><td> 4.9</td><td>2.7</td><td>33.7</td><td> 5.8</td><td>26.3</td><td>5.1</td><td>1.0</td><td>1.4</td></tr>\n",
       "\t<tr><td>France        </td><td>18.0</td><td> 9.9</td><td>3.3</td><td>19.5</td><td> 5.7</td><td>28.1</td><td>4.8</td><td>2.4</td><td>6.5</td></tr>\n",
       "\t<tr><td>Greece        </td><td>10.2</td><td> 3.0</td><td>2.8</td><td>17.6</td><td> 5.9</td><td>41.7</td><td>2.2</td><td>7.8</td><td>6.5</td></tr>\n",
       "\t<tr><td>Hungary       </td><td> 5.3</td><td>12.4</td><td>2.9</td><td> 9.7</td><td> 0.3</td><td>40.1</td><td>4.0</td><td>5.4</td><td>4.2</td></tr>\n",
       "\t<tr><td>Ireland       </td><td>13.9</td><td>10.0</td><td>4.7</td><td>25.8</td><td> 2.2</td><td>24.0</td><td>6.2</td><td>1.6</td><td>2.9</td></tr>\n",
       "\t<tr><td>Italy         </td><td> 9.0</td><td> 5.1</td><td>2.9</td><td>13.7</td><td> 3.4</td><td>36.8</td><td>2.1</td><td>4.3</td><td>6.7</td></tr>\n",
       "\t<tr><td>Netherlands   </td><td> 9.5</td><td>13.6</td><td>3.6</td><td>23.4</td><td> 2.5</td><td>22.4</td><td>4.2</td><td>1.8</td><td>3.7</td></tr>\n",
       "\t<tr><td>Norway        </td><td> 9.4</td><td> 4.7</td><td>2.7</td><td>23.3</td><td> 9.7</td><td>23.0</td><td>4.6</td><td>1.6</td><td>2.7</td></tr>\n",
       "\t<tr><td>Poland        </td><td> 6.9</td><td>10.2</td><td>2.7</td><td>19.3</td><td> 3.0</td><td>36.1</td><td>5.9</td><td>2.0</td><td>6.6</td></tr>\n",
       "\t<tr><td>Portugal      </td><td> 6.2</td><td> 3.7</td><td>1.1</td><td> 4.9</td><td>14.2</td><td>27.0</td><td>5.9</td><td>4.7</td><td>7.9</td></tr>\n",
       "\t<tr><td>Romania       </td><td> 6.2</td><td> 6.3</td><td>1.5</td><td>11.1</td><td> 1.0</td><td>49.6</td><td>3.1</td><td>5.3</td><td>2.8</td></tr>\n",
       "\t<tr><td>Spain         </td><td> 7.1</td><td> 3.4</td><td>3.1</td><td> 8.6</td><td> 7.0</td><td>29.2</td><td>5.7</td><td>5.9</td><td>7.2</td></tr>\n",
       "\t<tr><td>Sweden        </td><td> 9.9</td><td> 7.8</td><td>3.5</td><td>24.7</td><td> 7.5</td><td>19.5</td><td>3.7</td><td>1.4</td><td>2.0</td></tr>\n",
       "\t<tr><td>Switzerland   </td><td>13.1</td><td>10.1</td><td>3.1</td><td>23.8</td><td> 2.3</td><td>25.6</td><td>2.8</td><td>2.4</td><td>4.9</td></tr>\n",
       "\t<tr><td>UK            </td><td>17.4</td><td> 5.7</td><td>4.7</td><td>20.6</td><td> 4.3</td><td>24.3</td><td>4.7</td><td>3.4</td><td>3.3</td></tr>\n",
       "\t<tr><td>USSR          </td><td> 9.3</td><td> 4.6</td><td>2.1</td><td>16.6</td><td> 3.0</td><td>43.6</td><td>6.4</td><td>3.4</td><td>2.9</td></tr>\n",
       "\t<tr><td>W Germany     </td><td>11.4</td><td>12.5</td><td>4.1</td><td>18.8</td><td> 3.4</td><td>18.6</td><td>5.2</td><td>1.5</td><td>3.8</td></tr>\n",
       "\t<tr><td>Yugoslavia    </td><td> 4.4</td><td> 5.0</td><td>1.2</td><td> 9.5</td><td> 0.6</td><td>55.9</td><td>3.0</td><td>5.7</td><td>3.2</td></tr>\n",
       "</tbody>\n",
       "</table>\n"
      ],
      "text/latex": [
       "A data.frame: 25 × 10\n",
       "\\begin{tabular}{llllllllll}\n",
       " Country & RedMeat & WhiteMeat & Eggs & Milk & Fish & Cereals & Starch & Nuts & Fr.Veg\\\\\n",
       " <chr> & <dbl> & <dbl> & <dbl> & <dbl> & <dbl> & <dbl> & <dbl> & <dbl> & <dbl>\\\\\n",
       "\\hline\n",
       "\t Albania        & 10.1 &  1.4 & 0.5 &  8.9 &  0.2 & 42.3 & 0.6 & 5.5 & 1.7\\\\\n",
       "\t Austria        &  8.9 & 14.0 & 4.3 & 19.9 &  2.1 & 28.0 & 3.6 & 1.3 & 4.3\\\\\n",
       "\t Belgium        & 13.5 &  9.3 & 4.1 & 17.5 &  4.5 & 26.6 & 5.7 & 2.1 & 4.0\\\\\n",
       "\t Bulgaria       &  7.8 &  6.0 & 1.6 &  8.3 &  1.2 & 56.7 & 1.1 & 3.7 & 4.2\\\\\n",
       "\t Czechoslovakia &  9.7 & 11.4 & 2.8 & 12.5 &  2.0 & 34.3 & 5.0 & 1.1 & 4.0\\\\\n",
       "\t Denmark        & 10.6 & 10.8 & 3.7 & 25.0 &  9.9 & 21.9 & 4.8 & 0.7 & 2.4\\\\\n",
       "\t E Germany      &  8.4 & 11.6 & 3.7 & 11.1 &  5.4 & 24.6 & 6.5 & 0.8 & 3.6\\\\\n",
       "\t Finland        &  9.5 &  4.9 & 2.7 & 33.7 &  5.8 & 26.3 & 5.1 & 1.0 & 1.4\\\\\n",
       "\t France         & 18.0 &  9.9 & 3.3 & 19.5 &  5.7 & 28.1 & 4.8 & 2.4 & 6.5\\\\\n",
       "\t Greece         & 10.2 &  3.0 & 2.8 & 17.6 &  5.9 & 41.7 & 2.2 & 7.8 & 6.5\\\\\n",
       "\t Hungary        &  5.3 & 12.4 & 2.9 &  9.7 &  0.3 & 40.1 & 4.0 & 5.4 & 4.2\\\\\n",
       "\t Ireland        & 13.9 & 10.0 & 4.7 & 25.8 &  2.2 & 24.0 & 6.2 & 1.6 & 2.9\\\\\n",
       "\t Italy          &  9.0 &  5.1 & 2.9 & 13.7 &  3.4 & 36.8 & 2.1 & 4.3 & 6.7\\\\\n",
       "\t Netherlands    &  9.5 & 13.6 & 3.6 & 23.4 &  2.5 & 22.4 & 4.2 & 1.8 & 3.7\\\\\n",
       "\t Norway         &  9.4 &  4.7 & 2.7 & 23.3 &  9.7 & 23.0 & 4.6 & 1.6 & 2.7\\\\\n",
       "\t Poland         &  6.9 & 10.2 & 2.7 & 19.3 &  3.0 & 36.1 & 5.9 & 2.0 & 6.6\\\\\n",
       "\t Portugal       &  6.2 &  3.7 & 1.1 &  4.9 & 14.2 & 27.0 & 5.9 & 4.7 & 7.9\\\\\n",
       "\t Romania        &  6.2 &  6.3 & 1.5 & 11.1 &  1.0 & 49.6 & 3.1 & 5.3 & 2.8\\\\\n",
       "\t Spain          &  7.1 &  3.4 & 3.1 &  8.6 &  7.0 & 29.2 & 5.7 & 5.9 & 7.2\\\\\n",
       "\t Sweden         &  9.9 &  7.8 & 3.5 & 24.7 &  7.5 & 19.5 & 3.7 & 1.4 & 2.0\\\\\n",
       "\t Switzerland    & 13.1 & 10.1 & 3.1 & 23.8 &  2.3 & 25.6 & 2.8 & 2.4 & 4.9\\\\\n",
       "\t UK             & 17.4 &  5.7 & 4.7 & 20.6 &  4.3 & 24.3 & 4.7 & 3.4 & 3.3\\\\\n",
       "\t USSR           &  9.3 &  4.6 & 2.1 & 16.6 &  3.0 & 43.6 & 6.4 & 3.4 & 2.9\\\\\n",
       "\t W Germany      & 11.4 & 12.5 & 4.1 & 18.8 &  3.4 & 18.6 & 5.2 & 1.5 & 3.8\\\\\n",
       "\t Yugoslavia     &  4.4 &  5.0 & 1.2 &  9.5 &  0.6 & 55.9 & 3.0 & 5.7 & 3.2\\\\\n",
       "\\end{tabular}\n"
      ],
      "text/markdown": [
       "\n",
       "A data.frame: 25 × 10\n",
       "\n",
       "| Country &lt;chr&gt; | RedMeat &lt;dbl&gt; | WhiteMeat &lt;dbl&gt; | Eggs &lt;dbl&gt; | Milk &lt;dbl&gt; | Fish &lt;dbl&gt; | Cereals &lt;dbl&gt; | Starch &lt;dbl&gt; | Nuts &lt;dbl&gt; | Fr.Veg &lt;dbl&gt; |\n",
       "|---|---|---|---|---|---|---|---|---|---|\n",
       "| Albania        | 10.1 |  1.4 | 0.5 |  8.9 |  0.2 | 42.3 | 0.6 | 5.5 | 1.7 |\n",
       "| Austria        |  8.9 | 14.0 | 4.3 | 19.9 |  2.1 | 28.0 | 3.6 | 1.3 | 4.3 |\n",
       "| Belgium        | 13.5 |  9.3 | 4.1 | 17.5 |  4.5 | 26.6 | 5.7 | 2.1 | 4.0 |\n",
       "| Bulgaria       |  7.8 |  6.0 | 1.6 |  8.3 |  1.2 | 56.7 | 1.1 | 3.7 | 4.2 |\n",
       "| Czechoslovakia |  9.7 | 11.4 | 2.8 | 12.5 |  2.0 | 34.3 | 5.0 | 1.1 | 4.0 |\n",
       "| Denmark        | 10.6 | 10.8 | 3.7 | 25.0 |  9.9 | 21.9 | 4.8 | 0.7 | 2.4 |\n",
       "| E Germany      |  8.4 | 11.6 | 3.7 | 11.1 |  5.4 | 24.6 | 6.5 | 0.8 | 3.6 |\n",
       "| Finland        |  9.5 |  4.9 | 2.7 | 33.7 |  5.8 | 26.3 | 5.1 | 1.0 | 1.4 |\n",
       "| France         | 18.0 |  9.9 | 3.3 | 19.5 |  5.7 | 28.1 | 4.8 | 2.4 | 6.5 |\n",
       "| Greece         | 10.2 |  3.0 | 2.8 | 17.6 |  5.9 | 41.7 | 2.2 | 7.8 | 6.5 |\n",
       "| Hungary        |  5.3 | 12.4 | 2.9 |  9.7 |  0.3 | 40.1 | 4.0 | 5.4 | 4.2 |\n",
       "| Ireland        | 13.9 | 10.0 | 4.7 | 25.8 |  2.2 | 24.0 | 6.2 | 1.6 | 2.9 |\n",
       "| Italy          |  9.0 |  5.1 | 2.9 | 13.7 |  3.4 | 36.8 | 2.1 | 4.3 | 6.7 |\n",
       "| Netherlands    |  9.5 | 13.6 | 3.6 | 23.4 |  2.5 | 22.4 | 4.2 | 1.8 | 3.7 |\n",
       "| Norway         |  9.4 |  4.7 | 2.7 | 23.3 |  9.7 | 23.0 | 4.6 | 1.6 | 2.7 |\n",
       "| Poland         |  6.9 | 10.2 | 2.7 | 19.3 |  3.0 | 36.1 | 5.9 | 2.0 | 6.6 |\n",
       "| Portugal       |  6.2 |  3.7 | 1.1 |  4.9 | 14.2 | 27.0 | 5.9 | 4.7 | 7.9 |\n",
       "| Romania        |  6.2 |  6.3 | 1.5 | 11.1 |  1.0 | 49.6 | 3.1 | 5.3 | 2.8 |\n",
       "| Spain          |  7.1 |  3.4 | 3.1 |  8.6 |  7.0 | 29.2 | 5.7 | 5.9 | 7.2 |\n",
       "| Sweden         |  9.9 |  7.8 | 3.5 | 24.7 |  7.5 | 19.5 | 3.7 | 1.4 | 2.0 |\n",
       "| Switzerland    | 13.1 | 10.1 | 3.1 | 23.8 |  2.3 | 25.6 | 2.8 | 2.4 | 4.9 |\n",
       "| UK             | 17.4 |  5.7 | 4.7 | 20.6 |  4.3 | 24.3 | 4.7 | 3.4 | 3.3 |\n",
       "| USSR           |  9.3 |  4.6 | 2.1 | 16.6 |  3.0 | 43.6 | 6.4 | 3.4 | 2.9 |\n",
       "| W Germany      | 11.4 | 12.5 | 4.1 | 18.8 |  3.4 | 18.6 | 5.2 | 1.5 | 3.8 |\n",
       "| Yugoslavia     |  4.4 |  5.0 | 1.2 |  9.5 |  0.6 | 55.9 | 3.0 | 5.7 | 3.2 |\n",
       "\n"
      ],
      "text/plain": [
       "   Country        RedMeat WhiteMeat Eggs Milk Fish Cereals Starch Nuts Fr.Veg\n",
       "1  Albania        10.1     1.4      0.5   8.9  0.2 42.3    0.6    5.5  1.7   \n",
       "2  Austria         8.9    14.0      4.3  19.9  2.1 28.0    3.6    1.3  4.3   \n",
       "3  Belgium        13.5     9.3      4.1  17.5  4.5 26.6    5.7    2.1  4.0   \n",
       "4  Bulgaria        7.8     6.0      1.6   8.3  1.2 56.7    1.1    3.7  4.2   \n",
       "5  Czechoslovakia  9.7    11.4      2.8  12.5  2.0 34.3    5.0    1.1  4.0   \n",
       "6  Denmark        10.6    10.8      3.7  25.0  9.9 21.9    4.8    0.7  2.4   \n",
       "7  E Germany       8.4    11.6      3.7  11.1  5.4 24.6    6.5    0.8  3.6   \n",
       "8  Finland         9.5     4.9      2.7  33.7  5.8 26.3    5.1    1.0  1.4   \n",
       "9  France         18.0     9.9      3.3  19.5  5.7 28.1    4.8    2.4  6.5   \n",
       "10 Greece         10.2     3.0      2.8  17.6  5.9 41.7    2.2    7.8  6.5   \n",
       "11 Hungary         5.3    12.4      2.9   9.7  0.3 40.1    4.0    5.4  4.2   \n",
       "12 Ireland        13.9    10.0      4.7  25.8  2.2 24.0    6.2    1.6  2.9   \n",
       "13 Italy           9.0     5.1      2.9  13.7  3.4 36.8    2.1    4.3  6.7   \n",
       "14 Netherlands     9.5    13.6      3.6  23.4  2.5 22.4    4.2    1.8  3.7   \n",
       "15 Norway          9.4     4.7      2.7  23.3  9.7 23.0    4.6    1.6  2.7   \n",
       "16 Poland          6.9    10.2      2.7  19.3  3.0 36.1    5.9    2.0  6.6   \n",
       "17 Portugal        6.2     3.7      1.1   4.9 14.2 27.0    5.9    4.7  7.9   \n",
       "18 Romania         6.2     6.3      1.5  11.1  1.0 49.6    3.1    5.3  2.8   \n",
       "19 Spain           7.1     3.4      3.1   8.6  7.0 29.2    5.7    5.9  7.2   \n",
       "20 Sweden          9.9     7.8      3.5  24.7  7.5 19.5    3.7    1.4  2.0   \n",
       "21 Switzerland    13.1    10.1      3.1  23.8  2.3 25.6    2.8    2.4  4.9   \n",
       "22 UK             17.4     5.7      4.7  20.6  4.3 24.3    4.7    3.4  3.3   \n",
       "23 USSR            9.3     4.6      2.1  16.6  3.0 43.6    6.4    3.4  2.9   \n",
       "24 W Germany      11.4    12.5      4.1  18.8  3.4 18.6    5.2    1.5  3.8   \n",
       "25 Yugoslavia      4.4     5.0      1.2   9.5  0.6 55.9    3.0    5.7  3.2   "
      ]
     },
     "metadata": {},
     "output_type": "display_data"
    },
    {
     "data": {
      "text/html": [
       "<table class=\"dataframe\">\n",
       "<caption>A matrix: 9 × 9 of type dbl</caption>\n",
       "<thead>\n",
       "\t<tr><th></th><th scope=col>RedMeat</th><th scope=col>WhiteMeat</th><th scope=col>Eggs</th><th scope=col>Milk</th><th scope=col>Fish</th><th scope=col>Cereals</th><th scope=col>Starch</th><th scope=col>Nuts</th><th scope=col>Fr.Veg</th></tr>\n",
       "</thead>\n",
       "<tbody>\n",
       "\t<tr><th scope=row>RedMeat</th><td> 1.00000000</td><td> 0.1530027</td><td> 0.58560895</td><td> 0.5029311</td><td> 0.06095745</td><td>-0.49987746</td><td> 0.13542594</td><td>-0.3494486</td><td>-0.07422123</td></tr>\n",
       "\t<tr><th scope=row>WhiteMeat</th><td> 0.15300271</td><td> 1.0000000</td><td> 0.62040916</td><td> 0.2814839</td><td>-0.23400923</td><td>-0.41379691</td><td> 0.31377205</td><td>-0.6349618</td><td>-0.06131670</td></tr>\n",
       "\t<tr><th scope=row>Eggs</th><td> 0.58560895</td><td> 0.6204092</td><td> 1.00000000</td><td> 0.5755331</td><td> 0.06557136</td><td>-0.71243682</td><td> 0.45223071</td><td>-0.5597810</td><td>-0.04551755</td></tr>\n",
       "\t<tr><th scope=row>Milk</th><td> 0.50293110</td><td> 0.2814839</td><td> 0.57553312</td><td> 1.0000000</td><td> 0.13788370</td><td>-0.59273662</td><td> 0.22241118</td><td>-0.6210875</td><td>-0.40836414</td></tr>\n",
       "\t<tr><th scope=row>Fish</th><td> 0.06095745</td><td>-0.2340092</td><td> 0.06557136</td><td> 0.1378837</td><td> 1.00000000</td><td>-0.52423080</td><td> 0.40385286</td><td>-0.1471529</td><td> 0.26613865</td></tr>\n",
       "\t<tr><th scope=row>Cereals</th><td>-0.49987746</td><td>-0.4137969</td><td>-0.71243682</td><td>-0.5927366</td><td>-0.52423080</td><td> 1.00000000</td><td>-0.53326231</td><td> 0.6509973</td><td> 0.04654808</td></tr>\n",
       "\t<tr><th scope=row>Starch</th><td> 0.13542594</td><td> 0.3137721</td><td> 0.45223071</td><td> 0.2224112</td><td> 0.40385286</td><td>-0.53326231</td><td> 1.00000000</td><td>-0.4743116</td><td> 0.08440956</td></tr>\n",
       "\t<tr><th scope=row>Nuts</th><td>-0.34944855</td><td>-0.6349618</td><td>-0.55978097</td><td>-0.6210875</td><td>-0.14715294</td><td> 0.65099727</td><td>-0.47431155</td><td> 1.0000000</td><td> 0.37496971</td></tr>\n",
       "\t<tr><th scope=row>Fr.Veg</th><td>-0.07422123</td><td>-0.0613167</td><td>-0.04551755</td><td>-0.4083641</td><td> 0.26613865</td><td> 0.04654808</td><td> 0.08440956</td><td> 0.3749697</td><td> 1.00000000</td></tr>\n",
       "</tbody>\n",
       "</table>\n"
      ],
      "text/latex": [
       "A matrix: 9 × 9 of type dbl\n",
       "\\begin{tabular}{r|lllllllll}\n",
       "  & RedMeat & WhiteMeat & Eggs & Milk & Fish & Cereals & Starch & Nuts & Fr.Veg\\\\\n",
       "\\hline\n",
       "\tRedMeat &  1.00000000 &  0.1530027 &  0.58560895 &  0.5029311 &  0.06095745 & -0.49987746 &  0.13542594 & -0.3494486 & -0.07422123\\\\\n",
       "\tWhiteMeat &  0.15300271 &  1.0000000 &  0.62040916 &  0.2814839 & -0.23400923 & -0.41379691 &  0.31377205 & -0.6349618 & -0.06131670\\\\\n",
       "\tEggs &  0.58560895 &  0.6204092 &  1.00000000 &  0.5755331 &  0.06557136 & -0.71243682 &  0.45223071 & -0.5597810 & -0.04551755\\\\\n",
       "\tMilk &  0.50293110 &  0.2814839 &  0.57553312 &  1.0000000 &  0.13788370 & -0.59273662 &  0.22241118 & -0.6210875 & -0.40836414\\\\\n",
       "\tFish &  0.06095745 & -0.2340092 &  0.06557136 &  0.1378837 &  1.00000000 & -0.52423080 &  0.40385286 & -0.1471529 &  0.26613865\\\\\n",
       "\tCereals & -0.49987746 & -0.4137969 & -0.71243682 & -0.5927366 & -0.52423080 &  1.00000000 & -0.53326231 &  0.6509973 &  0.04654808\\\\\n",
       "\tStarch &  0.13542594 &  0.3137721 &  0.45223071 &  0.2224112 &  0.40385286 & -0.53326231 &  1.00000000 & -0.4743116 &  0.08440956\\\\\n",
       "\tNuts & -0.34944855 & -0.6349618 & -0.55978097 & -0.6210875 & -0.14715294 &  0.65099727 & -0.47431155 &  1.0000000 &  0.37496971\\\\\n",
       "\tFr.Veg & -0.07422123 & -0.0613167 & -0.04551755 & -0.4083641 &  0.26613865 &  0.04654808 &  0.08440956 &  0.3749697 &  1.00000000\\\\\n",
       "\\end{tabular}\n"
      ],
      "text/markdown": [
       "\n",
       "A matrix: 9 × 9 of type dbl\n",
       "\n",
       "| <!--/--> | RedMeat | WhiteMeat | Eggs | Milk | Fish | Cereals | Starch | Nuts | Fr.Veg |\n",
       "|---|---|---|---|---|---|---|---|---|---|\n",
       "| RedMeat |  1.00000000 |  0.1530027 |  0.58560895 |  0.5029311 |  0.06095745 | -0.49987746 |  0.13542594 | -0.3494486 | -0.07422123 |\n",
       "| WhiteMeat |  0.15300271 |  1.0000000 |  0.62040916 |  0.2814839 | -0.23400923 | -0.41379691 |  0.31377205 | -0.6349618 | -0.06131670 |\n",
       "| Eggs |  0.58560895 |  0.6204092 |  1.00000000 |  0.5755331 |  0.06557136 | -0.71243682 |  0.45223071 | -0.5597810 | -0.04551755 |\n",
       "| Milk |  0.50293110 |  0.2814839 |  0.57553312 |  1.0000000 |  0.13788370 | -0.59273662 |  0.22241118 | -0.6210875 | -0.40836414 |\n",
       "| Fish |  0.06095745 | -0.2340092 |  0.06557136 |  0.1378837 |  1.00000000 | -0.52423080 |  0.40385286 | -0.1471529 |  0.26613865 |\n",
       "| Cereals | -0.49987746 | -0.4137969 | -0.71243682 | -0.5927366 | -0.52423080 |  1.00000000 | -0.53326231 |  0.6509973 |  0.04654808 |\n",
       "| Starch |  0.13542594 |  0.3137721 |  0.45223071 |  0.2224112 |  0.40385286 | -0.53326231 |  1.00000000 | -0.4743116 |  0.08440956 |\n",
       "| Nuts | -0.34944855 | -0.6349618 | -0.55978097 | -0.6210875 | -0.14715294 |  0.65099727 | -0.47431155 |  1.0000000 |  0.37496971 |\n",
       "| Fr.Veg | -0.07422123 | -0.0613167 | -0.04551755 | -0.4083641 |  0.26613865 |  0.04654808 |  0.08440956 |  0.3749697 |  1.00000000 |\n",
       "\n"
      ],
      "text/plain": [
       "          RedMeat     WhiteMeat  Eggs        Milk       Fish        Cereals    \n",
       "RedMeat    1.00000000  0.1530027  0.58560895  0.5029311  0.06095745 -0.49987746\n",
       "WhiteMeat  0.15300271  1.0000000  0.62040916  0.2814839 -0.23400923 -0.41379691\n",
       "Eggs       0.58560895  0.6204092  1.00000000  0.5755331  0.06557136 -0.71243682\n",
       "Milk       0.50293110  0.2814839  0.57553312  1.0000000  0.13788370 -0.59273662\n",
       "Fish       0.06095745 -0.2340092  0.06557136  0.1378837  1.00000000 -0.52423080\n",
       "Cereals   -0.49987746 -0.4137969 -0.71243682 -0.5927366 -0.52423080  1.00000000\n",
       "Starch     0.13542594  0.3137721  0.45223071  0.2224112  0.40385286 -0.53326231\n",
       "Nuts      -0.34944855 -0.6349618 -0.55978097 -0.6210875 -0.14715294  0.65099727\n",
       "Fr.Veg    -0.07422123 -0.0613167 -0.04551755 -0.4083641  0.26613865  0.04654808\n",
       "          Starch      Nuts       Fr.Veg     \n",
       "RedMeat    0.13542594 -0.3494486 -0.07422123\n",
       "WhiteMeat  0.31377205 -0.6349618 -0.06131670\n",
       "Eggs       0.45223071 -0.5597810 -0.04551755\n",
       "Milk       0.22241118 -0.6210875 -0.40836414\n",
       "Fish       0.40385286 -0.1471529  0.26613865\n",
       "Cereals   -0.53326231  0.6509973  0.04654808\n",
       "Starch     1.00000000 -0.4743116  0.08440956\n",
       "Nuts      -0.47431155  1.0000000  0.37496971\n",
       "Fr.Veg     0.08440956  0.3749697  1.00000000"
      ]
     },
     "metadata": {},
     "output_type": "display_data"
    }
   ],
   "source": [
    "food <- read.csv(\"protein.csv\")\n",
    "food\n",
    "## correlation matrix\n",
    "## we strip the first column (country labels)\n",
    "cor(food[,-1])"
   ]
  },
  {
   "cell_type": "code",
   "execution_count": 13,
   "metadata": {
    "ExecuteTime": {
     "end_time": "2019-04-04T01:17:02.934861Z",
     "start_time": "2019-04-04T01:17:05.884Z"
    }
   },
   "outputs": [
    {
     "data": {
      "text/plain": [
       "Standard deviations (1, .., p=9):\n",
       "[1] 2.0016087 1.2786710 1.0620355 0.9770691 0.6810568 0.5702026 0.5211586\n",
       "[8] 0.3410160 0.3148204\n",
       "\n",
       "Rotation (n x k) = (9 x 9):\n",
       "                 PC1         PC2         PC3          PC4         PC5\n",
       "RedMeat   -0.3026094 -0.05625165 -0.29757957 -0.646476536  0.32216008\n",
       "WhiteMeat -0.3105562 -0.23685334  0.62389724  0.036992271 -0.30016494\n",
       "Eggs      -0.4266785 -0.03533576  0.18152828 -0.313163873  0.07911048\n",
       "Milk      -0.3777273 -0.18458877 -0.38565773  0.003318279 -0.20041361\n",
       "Fish      -0.1356499  0.64681970 -0.32127431  0.215955001 -0.29003065\n",
       "Cereals    0.4377434 -0.23348508  0.09591750  0.006204117  0.23816783\n",
       "Starch    -0.2972477  0.35282564  0.24297503  0.336684733  0.73597332\n",
       "Nuts       0.4203344  0.14331056 -0.05438778 -0.330287545  0.15053689\n",
       "Fr.Veg     0.1104199  0.53619004  0.40755612 -0.462055746 -0.23351666\n",
       "                  PC6         PC7         PC8        PC9\n",
       "RedMeat   -0.45986989  0.15033385 -0.01985770  0.2459995\n",
       "WhiteMeat -0.12100707 -0.01966356 -0.02787648  0.5923966\n",
       "Eggs       0.36124872 -0.44327151 -0.49120023 -0.3333861\n",
       "Milk       0.61843780  0.46209500  0.08142193  0.1780841\n",
       "Fish      -0.13679059 -0.10639350 -0.44873197  0.3128262\n",
       "Cereals    0.08075842  0.40496408 -0.70299504  0.1522596\n",
       "Starch     0.14766670  0.15275311  0.11453956  0.1218582\n",
       "Nuts       0.44701001 -0.40726235  0.18379989  0.5182749\n",
       "Fr.Veg     0.11854972  0.44997782  0.09196337 -0.2029503"
      ]
     },
     "metadata": {},
     "output_type": "display_data"
    }
   ],
   "source": [
    "## scale = TRUE: variables are first standardized\n",
    "pcafood <- prcomp(food[,-1], scale=TRUE)\n",
    "pcafood"
   ]
  },
  {
   "cell_type": "code",
   "execution_count": 14,
   "metadata": {
    "ExecuteTime": {
     "end_time": "2019-04-04T01:17:05.229374Z",
     "start_time": "2019-04-04T01:17:08.182Z"
    }
   },
   "outputs": [
    {
     "data": {
      "text/html": [
       "<table class=\"dataframe\">\n",
       "<caption>A matrix: 25 × 9 of type dbl</caption>\n",
       "<thead>\n",
       "\t<tr><th scope=col>PC1</th><th scope=col>PC2</th><th scope=col>PC3</th><th scope=col>PC4</th><th scope=col>PC5</th><th scope=col>PC6</th><th scope=col>PC7</th><th scope=col>PC8</th><th scope=col>PC9</th></tr>\n",
       "</thead>\n",
       "<tbody>\n",
       "\t<tr><td> 3.4853673</td><td>-1.63047985</td><td>-1.76123326</td><td>-0.2296580</td><td> 0.02325397</td><td>-1.03426476</td><td>-0.47174197</td><td> 0.76155126</td><td>-0.10325325</td></tr>\n",
       "\t<tr><td>-1.4226694</td><td>-1.04123130</td><td> 1.33780391</td><td>-0.1680973</td><td>-0.93344658</td><td> 0.21842810</td><td>-0.18115417</td><td>-0.25100249</td><td>-0.21744631</td></tr>\n",
       "\t<tr><td>-1.6220323</td><td> 0.15949557</td><td> 0.21653445</td><td>-0.5207260</td><td> 0.75509039</td><td>-0.28980510</td><td>-0.19559674</td><td>-0.20331176</td><td>-0.03317146</td></tr>\n",
       "\t<tr><td> 3.1340813</td><td>-1.30106563</td><td> 0.15128956</td><td>-0.2141894</td><td>-0.48474537</td><td>-0.69557793</td><td> 0.46478244</td><td>-0.80824466</td><td>-0.29986287</td></tr>\n",
       "\t<tr><td>-0.3704646</td><td>-0.60266842</td><td> 1.19594183</td><td> 0.4639821</td><td> 0.25682380</td><td>-0.82309047</td><td> 0.31494841</td><td> 0.01229809</td><td>-0.14944825</td></tr>\n",
       "\t<tr><td>-2.3652688</td><td> 0.28544582</td><td>-0.75226337</td><td> 0.9673412</td><td>-0.75243310</td><td>-0.17032964</td><td>-0.22581590</td><td>-0.62102079</td><td> 0.48027941</td></tr>\n",
       "\t<tr><td>-1.4222108</td><td> 0.45030085</td><td> 1.30254017</td><td> 1.1359613</td><td> 0.42294279</td><td>-0.64831247</td><td>-0.55478278</td><td>-0.16317720</td><td>-0.25990129</td></tr>\n",
       "\t<tr><td>-1.5638563</td><td>-0.59600255</td><td>-2.04950734</td><td> 1.4153084</td><td> 0.03720310</td><td> 0.83420035</td><td> 0.72623047</td><td> 0.22591749</td><td>-0.13308980</td></tr>\n",
       "\t<tr><td>-1.4879824</td><td> 0.78536517</td><td> 0.00188261</td><td>-1.9574576</td><td> 0.25045870</td><td>-0.89894837</td><td> 0.94647514</td><td>-0.02222005</td><td> 0.54360773</td></tr>\n",
       "\t<tr><td> 2.2397000</td><td> 1.00105887</td><td>-0.88260339</td><td>-1.7943200</td><td>-0.40497731</td><td> 1.14447671</td><td>-0.14739068</td><td>-0.30583067</td><td> 0.38796520</td></tr>\n",
       "\t<tr><td> 1.4574398</td><td>-0.81595115</td><td> 1.91416751</td><td> 0.2173883</td><td>-0.04139773</td><td> 0.53910843</td><td>-0.76810179</td><td> 0.14561849</td><td> 0.53694446</td></tr>\n",
       "\t<tr><td>-2.6634775</td><td>-0.76370648</td><td>-0.01988068</td><td>-0.4347281</td><td> 1.01438731</td><td> 0.48232591</td><td>-0.02866861</td><td> 0.02299904</td><td>-0.07946587</td></tr>\n",
       "\t<tr><td> 1.5345653</td><td> 0.39898708</td><td> 0.12608962</td><td>-1.2224605</td><td>-0.80354036</td><td> 0.21408555</td><td> 0.14999185</td><td>-0.08040607</td><td>-0.73235148</td></tr>\n",
       "\t<tr><td>-1.6414454</td><td>-0.91199089</td><td> 0.76648819</td><td> 0.1261517</td><td>-0.76127751</td><td> 0.29752197</td><td>-0.06209574</td><td> 0.45992565</td><td> 0.26087199</td></tr>\n",
       "\t<tr><td>-0.9747029</td><td> 0.82202867</td><td>-1.70407650</td><td> 1.1376216</td><td>-0.41487370</td><td>-0.05645162</td><td>-0.04278766</td><td>-0.10734586</td><td>-0.14732974</td></tr>\n",
       "\t<tr><td>-0.1218695</td><td> 0.53174194</td><td> 1.47478926</td><td> 0.4582224</td><td>-0.02321953</td><td> 0.58830002</td><td> 1.26072252</td><td> 0.19159633</td><td>-0.22099984</td></tr>\n",
       "\t<tr><td> 1.7058540</td><td> 4.28893399</td><td> 0.04363280</td><td> 0.8935596</td><td>-0.38528872</td><td>-0.69709651</td><td> 0.04649963</td><td> 0.20502225</td><td> 0.26348804</td></tr>\n",
       "\t<tr><td> 2.7568124</td><td>-1.11878536</td><td> 0.07008085</td><td> 0.6150113</td><td> 0.31709607</td><td> 0.13051679</td><td>-0.13307908</td><td>-0.02689368</td><td> 0.33803173</td></tr>\n",
       "\t<tr><td> 1.3118074</td><td> 2.55352416</td><td> 0.51528370</td><td>-0.3592043</td><td> 0.51590218</td><td> 0.66928818</td><td>-0.59721082</td><td> 0.23532802</td><td>-0.47673575</td></tr>\n",
       "\t<tr><td>-1.6337300</td><td>-0.20738445</td><td>-1.28037195</td><td> 0.7341013</td><td>-0.81982482</td><td> 0.04407662</td><td>-0.54116219</td><td>-0.07221780</td><td>-0.10839228</td></tr>\n",
       "\t<tr><td>-0.9123182</td><td>-0.75105865</td><td>-0.15425409</td><td>-1.1704447</td><td>-0.83095955</td><td>-0.09024236</td><td> 0.51229089</td><td> 0.52929748</td><td> 0.06656513</td></tr>\n",
       "\t<tr><td>-1.7353682</td><td>-0.09397944</td><td>-1.15268145</td><td>-1.7336921</td><td> 1.08393948</td><td>-0.09656499</td><td>-0.65096941</td><td>-0.23920906</td><td>-0.13193590</td></tr>\n",
       "\t<tr><td> 0.7825965</td><td>-0.11077014</td><td>-0.36967910</td><td> 0.9275729</td><td> 1.66955744</td><td> 0.18542992</td><td> 0.57410168</td><td>-0.05202711</td><td> 0.09168518</td></tr>\n",
       "\t<tr><td>-2.0938353</td><td>-0.29377901</td><td> 0.80397944</td><td>-0.1087951</td><td>-0.06836077</td><td>-0.20099295</td><td>-0.45677673</td><td> 0.35662909</td><td>-0.02527918</td></tr>\n",
       "\t<tr><td> 3.6230077</td><td>-1.03802883</td><td> 0.20604724</td><td> 0.8215511</td><td> 0.37768982</td><td> 0.35391862</td><td> 0.06129122</td><td>-0.19327598</td><td> 0.14922442</td></tr>\n",
       "</tbody>\n",
       "</table>\n"
      ],
      "text/latex": [
       "A matrix: 25 × 9 of type dbl\n",
       "\\begin{tabular}{lllllllll}\n",
       " PC1 & PC2 & PC3 & PC4 & PC5 & PC6 & PC7 & PC8 & PC9\\\\\n",
       "\\hline\n",
       "\t  3.4853673 & -1.63047985 & -1.76123326 & -0.2296580 &  0.02325397 & -1.03426476 & -0.47174197 &  0.76155126 & -0.10325325\\\\\n",
       "\t -1.4226694 & -1.04123130 &  1.33780391 & -0.1680973 & -0.93344658 &  0.21842810 & -0.18115417 & -0.25100249 & -0.21744631\\\\\n",
       "\t -1.6220323 &  0.15949557 &  0.21653445 & -0.5207260 &  0.75509039 & -0.28980510 & -0.19559674 & -0.20331176 & -0.03317146\\\\\n",
       "\t  3.1340813 & -1.30106563 &  0.15128956 & -0.2141894 & -0.48474537 & -0.69557793 &  0.46478244 & -0.80824466 & -0.29986287\\\\\n",
       "\t -0.3704646 & -0.60266842 &  1.19594183 &  0.4639821 &  0.25682380 & -0.82309047 &  0.31494841 &  0.01229809 & -0.14944825\\\\\n",
       "\t -2.3652688 &  0.28544582 & -0.75226337 &  0.9673412 & -0.75243310 & -0.17032964 & -0.22581590 & -0.62102079 &  0.48027941\\\\\n",
       "\t -1.4222108 &  0.45030085 &  1.30254017 &  1.1359613 &  0.42294279 & -0.64831247 & -0.55478278 & -0.16317720 & -0.25990129\\\\\n",
       "\t -1.5638563 & -0.59600255 & -2.04950734 &  1.4153084 &  0.03720310 &  0.83420035 &  0.72623047 &  0.22591749 & -0.13308980\\\\\n",
       "\t -1.4879824 &  0.78536517 &  0.00188261 & -1.9574576 &  0.25045870 & -0.89894837 &  0.94647514 & -0.02222005 &  0.54360773\\\\\n",
       "\t  2.2397000 &  1.00105887 & -0.88260339 & -1.7943200 & -0.40497731 &  1.14447671 & -0.14739068 & -0.30583067 &  0.38796520\\\\\n",
       "\t  1.4574398 & -0.81595115 &  1.91416751 &  0.2173883 & -0.04139773 &  0.53910843 & -0.76810179 &  0.14561849 &  0.53694446\\\\\n",
       "\t -2.6634775 & -0.76370648 & -0.01988068 & -0.4347281 &  1.01438731 &  0.48232591 & -0.02866861 &  0.02299904 & -0.07946587\\\\\n",
       "\t  1.5345653 &  0.39898708 &  0.12608962 & -1.2224605 & -0.80354036 &  0.21408555 &  0.14999185 & -0.08040607 & -0.73235148\\\\\n",
       "\t -1.6414454 & -0.91199089 &  0.76648819 &  0.1261517 & -0.76127751 &  0.29752197 & -0.06209574 &  0.45992565 &  0.26087199\\\\\n",
       "\t -0.9747029 &  0.82202867 & -1.70407650 &  1.1376216 & -0.41487370 & -0.05645162 & -0.04278766 & -0.10734586 & -0.14732974\\\\\n",
       "\t -0.1218695 &  0.53174194 &  1.47478926 &  0.4582224 & -0.02321953 &  0.58830002 &  1.26072252 &  0.19159633 & -0.22099984\\\\\n",
       "\t  1.7058540 &  4.28893399 &  0.04363280 &  0.8935596 & -0.38528872 & -0.69709651 &  0.04649963 &  0.20502225 &  0.26348804\\\\\n",
       "\t  2.7568124 & -1.11878536 &  0.07008085 &  0.6150113 &  0.31709607 &  0.13051679 & -0.13307908 & -0.02689368 &  0.33803173\\\\\n",
       "\t  1.3118074 &  2.55352416 &  0.51528370 & -0.3592043 &  0.51590218 &  0.66928818 & -0.59721082 &  0.23532802 & -0.47673575\\\\\n",
       "\t -1.6337300 & -0.20738445 & -1.28037195 &  0.7341013 & -0.81982482 &  0.04407662 & -0.54116219 & -0.07221780 & -0.10839228\\\\\n",
       "\t -0.9123182 & -0.75105865 & -0.15425409 & -1.1704447 & -0.83095955 & -0.09024236 &  0.51229089 &  0.52929748 &  0.06656513\\\\\n",
       "\t -1.7353682 & -0.09397944 & -1.15268145 & -1.7336921 &  1.08393948 & -0.09656499 & -0.65096941 & -0.23920906 & -0.13193590\\\\\n",
       "\t  0.7825965 & -0.11077014 & -0.36967910 &  0.9275729 &  1.66955744 &  0.18542992 &  0.57410168 & -0.05202711 &  0.09168518\\\\\n",
       "\t -2.0938353 & -0.29377901 &  0.80397944 & -0.1087951 & -0.06836077 & -0.20099295 & -0.45677673 &  0.35662909 & -0.02527918\\\\\n",
       "\t  3.6230077 & -1.03802883 &  0.20604724 &  0.8215511 &  0.37768982 &  0.35391862 &  0.06129122 & -0.19327598 &  0.14922442\\\\\n",
       "\\end{tabular}\n"
      ],
      "text/markdown": [
       "\n",
       "A matrix: 25 × 9 of type dbl\n",
       "\n",
       "| PC1 | PC2 | PC3 | PC4 | PC5 | PC6 | PC7 | PC8 | PC9 |\n",
       "|---|---|---|---|---|---|---|---|---|\n",
       "|  3.4853673 | -1.63047985 | -1.76123326 | -0.2296580 |  0.02325397 | -1.03426476 | -0.47174197 |  0.76155126 | -0.10325325 |\n",
       "| -1.4226694 | -1.04123130 |  1.33780391 | -0.1680973 | -0.93344658 |  0.21842810 | -0.18115417 | -0.25100249 | -0.21744631 |\n",
       "| -1.6220323 |  0.15949557 |  0.21653445 | -0.5207260 |  0.75509039 | -0.28980510 | -0.19559674 | -0.20331176 | -0.03317146 |\n",
       "|  3.1340813 | -1.30106563 |  0.15128956 | -0.2141894 | -0.48474537 | -0.69557793 |  0.46478244 | -0.80824466 | -0.29986287 |\n",
       "| -0.3704646 | -0.60266842 |  1.19594183 |  0.4639821 |  0.25682380 | -0.82309047 |  0.31494841 |  0.01229809 | -0.14944825 |\n",
       "| -2.3652688 |  0.28544582 | -0.75226337 |  0.9673412 | -0.75243310 | -0.17032964 | -0.22581590 | -0.62102079 |  0.48027941 |\n",
       "| -1.4222108 |  0.45030085 |  1.30254017 |  1.1359613 |  0.42294279 | -0.64831247 | -0.55478278 | -0.16317720 | -0.25990129 |\n",
       "| -1.5638563 | -0.59600255 | -2.04950734 |  1.4153084 |  0.03720310 |  0.83420035 |  0.72623047 |  0.22591749 | -0.13308980 |\n",
       "| -1.4879824 |  0.78536517 |  0.00188261 | -1.9574576 |  0.25045870 | -0.89894837 |  0.94647514 | -0.02222005 |  0.54360773 |\n",
       "|  2.2397000 |  1.00105887 | -0.88260339 | -1.7943200 | -0.40497731 |  1.14447671 | -0.14739068 | -0.30583067 |  0.38796520 |\n",
       "|  1.4574398 | -0.81595115 |  1.91416751 |  0.2173883 | -0.04139773 |  0.53910843 | -0.76810179 |  0.14561849 |  0.53694446 |\n",
       "| -2.6634775 | -0.76370648 | -0.01988068 | -0.4347281 |  1.01438731 |  0.48232591 | -0.02866861 |  0.02299904 | -0.07946587 |\n",
       "|  1.5345653 |  0.39898708 |  0.12608962 | -1.2224605 | -0.80354036 |  0.21408555 |  0.14999185 | -0.08040607 | -0.73235148 |\n",
       "| -1.6414454 | -0.91199089 |  0.76648819 |  0.1261517 | -0.76127751 |  0.29752197 | -0.06209574 |  0.45992565 |  0.26087199 |\n",
       "| -0.9747029 |  0.82202867 | -1.70407650 |  1.1376216 | -0.41487370 | -0.05645162 | -0.04278766 | -0.10734586 | -0.14732974 |\n",
       "| -0.1218695 |  0.53174194 |  1.47478926 |  0.4582224 | -0.02321953 |  0.58830002 |  1.26072252 |  0.19159633 | -0.22099984 |\n",
       "|  1.7058540 |  4.28893399 |  0.04363280 |  0.8935596 | -0.38528872 | -0.69709651 |  0.04649963 |  0.20502225 |  0.26348804 |\n",
       "|  2.7568124 | -1.11878536 |  0.07008085 |  0.6150113 |  0.31709607 |  0.13051679 | -0.13307908 | -0.02689368 |  0.33803173 |\n",
       "|  1.3118074 |  2.55352416 |  0.51528370 | -0.3592043 |  0.51590218 |  0.66928818 | -0.59721082 |  0.23532802 | -0.47673575 |\n",
       "| -1.6337300 | -0.20738445 | -1.28037195 |  0.7341013 | -0.81982482 |  0.04407662 | -0.54116219 | -0.07221780 | -0.10839228 |\n",
       "| -0.9123182 | -0.75105865 | -0.15425409 | -1.1704447 | -0.83095955 | -0.09024236 |  0.51229089 |  0.52929748 |  0.06656513 |\n",
       "| -1.7353682 | -0.09397944 | -1.15268145 | -1.7336921 |  1.08393948 | -0.09656499 | -0.65096941 | -0.23920906 | -0.13193590 |\n",
       "|  0.7825965 | -0.11077014 | -0.36967910 |  0.9275729 |  1.66955744 |  0.18542992 |  0.57410168 | -0.05202711 |  0.09168518 |\n",
       "| -2.0938353 | -0.29377901 |  0.80397944 | -0.1087951 | -0.06836077 | -0.20099295 | -0.45677673 |  0.35662909 | -0.02527918 |\n",
       "|  3.6230077 | -1.03802883 |  0.20604724 |  0.8215511 |  0.37768982 |  0.35391862 |  0.06129122 | -0.19327598 |  0.14922442 |\n",
       "\n"
      ],
      "text/plain": [
       "      PC1        PC2         PC3         PC4        PC5         PC6        \n",
       " [1,]  3.4853673 -1.63047985 -1.76123326 -0.2296580  0.02325397 -1.03426476\n",
       " [2,] -1.4226694 -1.04123130  1.33780391 -0.1680973 -0.93344658  0.21842810\n",
       " [3,] -1.6220323  0.15949557  0.21653445 -0.5207260  0.75509039 -0.28980510\n",
       " [4,]  3.1340813 -1.30106563  0.15128956 -0.2141894 -0.48474537 -0.69557793\n",
       " [5,] -0.3704646 -0.60266842  1.19594183  0.4639821  0.25682380 -0.82309047\n",
       " [6,] -2.3652688  0.28544582 -0.75226337  0.9673412 -0.75243310 -0.17032964\n",
       " [7,] -1.4222108  0.45030085  1.30254017  1.1359613  0.42294279 -0.64831247\n",
       " [8,] -1.5638563 -0.59600255 -2.04950734  1.4153084  0.03720310  0.83420035\n",
       " [9,] -1.4879824  0.78536517  0.00188261 -1.9574576  0.25045870 -0.89894837\n",
       "[10,]  2.2397000  1.00105887 -0.88260339 -1.7943200 -0.40497731  1.14447671\n",
       "[11,]  1.4574398 -0.81595115  1.91416751  0.2173883 -0.04139773  0.53910843\n",
       "[12,] -2.6634775 -0.76370648 -0.01988068 -0.4347281  1.01438731  0.48232591\n",
       "[13,]  1.5345653  0.39898708  0.12608962 -1.2224605 -0.80354036  0.21408555\n",
       "[14,] -1.6414454 -0.91199089  0.76648819  0.1261517 -0.76127751  0.29752197\n",
       "[15,] -0.9747029  0.82202867 -1.70407650  1.1376216 -0.41487370 -0.05645162\n",
       "[16,] -0.1218695  0.53174194  1.47478926  0.4582224 -0.02321953  0.58830002\n",
       "[17,]  1.7058540  4.28893399  0.04363280  0.8935596 -0.38528872 -0.69709651\n",
       "[18,]  2.7568124 -1.11878536  0.07008085  0.6150113  0.31709607  0.13051679\n",
       "[19,]  1.3118074  2.55352416  0.51528370 -0.3592043  0.51590218  0.66928818\n",
       "[20,] -1.6337300 -0.20738445 -1.28037195  0.7341013 -0.81982482  0.04407662\n",
       "[21,] -0.9123182 -0.75105865 -0.15425409 -1.1704447 -0.83095955 -0.09024236\n",
       "[22,] -1.7353682 -0.09397944 -1.15268145 -1.7336921  1.08393948 -0.09656499\n",
       "[23,]  0.7825965 -0.11077014 -0.36967910  0.9275729  1.66955744  0.18542992\n",
       "[24,] -2.0938353 -0.29377901  0.80397944 -0.1087951 -0.06836077 -0.20099295\n",
       "[25,]  3.6230077 -1.03802883  0.20604724  0.8215511  0.37768982  0.35391862\n",
       "      PC7         PC8         PC9        \n",
       " [1,] -0.47174197  0.76155126 -0.10325325\n",
       " [2,] -0.18115417 -0.25100249 -0.21744631\n",
       " [3,] -0.19559674 -0.20331176 -0.03317146\n",
       " [4,]  0.46478244 -0.80824466 -0.29986287\n",
       " [5,]  0.31494841  0.01229809 -0.14944825\n",
       " [6,] -0.22581590 -0.62102079  0.48027941\n",
       " [7,] -0.55478278 -0.16317720 -0.25990129\n",
       " [8,]  0.72623047  0.22591749 -0.13308980\n",
       " [9,]  0.94647514 -0.02222005  0.54360773\n",
       "[10,] -0.14739068 -0.30583067  0.38796520\n",
       "[11,] -0.76810179  0.14561849  0.53694446\n",
       "[12,] -0.02866861  0.02299904 -0.07946587\n",
       "[13,]  0.14999185 -0.08040607 -0.73235148\n",
       "[14,] -0.06209574  0.45992565  0.26087199\n",
       "[15,] -0.04278766 -0.10734586 -0.14732974\n",
       "[16,]  1.26072252  0.19159633 -0.22099984\n",
       "[17,]  0.04649963  0.20502225  0.26348804\n",
       "[18,] -0.13307908 -0.02689368  0.33803173\n",
       "[19,] -0.59721082  0.23532802 -0.47673575\n",
       "[20,] -0.54116219 -0.07221780 -0.10839228\n",
       "[21,]  0.51229089  0.52929748  0.06656513\n",
       "[22,] -0.65096941 -0.23920906 -0.13193590\n",
       "[23,]  0.57410168 -0.05202711  0.09168518\n",
       "[24,] -0.45677673  0.35662909 -0.02527918\n",
       "[25,]  0.06129122 -0.19327598  0.14922442"
      ]
     },
     "metadata": {},
     "output_type": "display_data"
    }
   ],
   "source": [
    "foodpc <- predict(pcafood)\n",
    "foodpc"
   ]
  },
  {
   "cell_type": "code",
   "execution_count": 15,
   "metadata": {
    "ExecuteTime": {
     "end_time": "2019-04-04T01:17:07.857932Z",
     "start_time": "2019-04-04T01:17:10.739Z"
    }
   },
   "outputs": [
    {
     "data": {
      "image/png": "[encoded data removed]",
      "text/plain": [
       "Plot with title “Principal Components of European Protein”"
      ]
     },
     "metadata": {
      "image/png": {
       "height": 420,
       "width": 420
      }
     },
     "output_type": "display_data"
    }
   ],
   "source": [
    "## how many principal components do we need?\n",
    "plot(pcafood, main=\"Principal Components of European Protein\")"
   ]
  },
  {
   "cell_type": "code",
   "execution_count": 16,
   "metadata": {},
   "outputs": [
    {
     "data": {
      "image/png": "[encoded data removed]",
      "text/plain": [
       "Plot with title “Principal Components of European Protein”"
      ]
     },
     "metadata": {
      "image/png": {
       "height": 420,
       "width": 420
      }
     },
     "output_type": "display_data"
    }
   ],
   "source": [
    "biplot(pcafood, main=\"Principal Components of European Protein\")"
   ]
  },
  {
   "cell_type": "markdown",
   "metadata": {},
   "source": [
    "## how do the PCs look?"
   ]
  },
  {
   "cell_type": "code",
   "execution_count": 17,
   "metadata": {
    "ExecuteTime": {
     "end_time": "2019-04-04T01:17:10.813580Z",
     "start_time": "2019-04-04T01:17:13.724Z"
    }
   },
   "outputs": [
    {
     "data": {
      "image/png": "[encoded data removed]",
      "text/plain": [
       "plot without title"
      ]
     },
     "metadata": {
      "image/png": {
       "height": 420,
       "width": 420
      }
     },
     "output_type": "display_data"
    }
   ],
   "source": [
    "plot(foodpc[,1:2], type=\"n\", xlim=c(-4,5))\n",
    "text(x=foodpc[,1], y=foodpc[,2], labels=food$Country)"
   ]
  },
  {
   "cell_type": "code",
   "execution_count": 18,
   "metadata": {},
   "outputs": [
    {
     "data": {
      "image/png": "[encoded data removed]",
      "text/plain": [
       "plot without title"
      ]
     },
     "metadata": {
      "image/png": {
       "height": 420,
       "width": 420
      }
     },
     "output_type": "display_data"
    }
   ],
   "source": [
    "plot(foodpc[,3:4], type=\"n\", xlim=c(-3,3))\n",
    "text(x=foodpc[,3], y=foodpc[,4], labels=food$Country)"
   ]
  },
  {
   "cell_type": "markdown",
   "metadata": {},
   "source": [
    "## how do the original variables look?"
   ]
  },
  {
   "cell_type": "code",
   "execution_count": 19,
   "metadata": {
    "ExecuteTime": {
     "end_time": "2019-04-04T01:17:14.993010Z",
     "start_time": "2019-04-04T01:17:17.893Z"
    }
   },
   "outputs": [
    {
     "data": {
      "image/png": "[encoded data removed]",
      "text/plain": [
       "plot without title"
      ]
     },
     "metadata": {
      "image/png": {
       "height": 420,
       "width": 420
      }
     },
     "output_type": "display_data"
    }
   ],
   "source": [
    "plot(food$RedMeat, y=food$WhiteMeat, type=\"n\")\n",
    "text(x=food$RedMeat, y=food$WhiteMeat, labels=food$Country)"
   ]
  },
  {
   "cell_type": "code",
   "execution_count": 20,
   "metadata": {},
   "outputs": [
    {
     "data": {
      "image/png": "[encoded data removed]",
      "text/plain": [
       "plot without title"
      ]
     },
     "metadata": {
      "image/png": {
       "height": 420,
       "width": 420
      }
     },
     "output_type": "display_data"
    }
   ],
   "source": [
    "plot(food$Eggs, y=food$Milk, type=\"n\")\n",
    "text(x=food$Eggs, y=food$Milk, labels=food$Country)"
   ]
  },
  {
   "cell_type": "markdown",
   "metadata": {},
   "source": [
    "# High Dimensional Distance"
   ]
  },
  {
   "cell_type": "code",
   "execution_count": 21,
   "metadata": {},
   "outputs": [],
   "source": [
    "N <- 100\n",
    "D_min <- c()\n",
    "D_max <- c()\n",
    "M_dim <- c(1, 2, 5, 10, 20, 50, 100, 200, 500, 1000)\n",
    "for (M in M_dim){\n",
    "    X <- matrix( rnorm(N*M), N, M )\n",
    "    D <- dist(X)\n",
    "    D_min <- append(D_min, min(D))\n",
    "    D_max <- append(D_max, max(D))\n",
    "}"
   ]
  },
  {
   "cell_type": "code",
   "execution_count": 22,
   "metadata": {},
   "outputs": [
    {
     "data": {
      "image/png": "[encoded data removed]",
      "text/plain": [
       "plot without title"
      ]
     },
     "metadata": {
      "image/png": {
       "height": 420,
       "width": 420
      }
     },
     "output_type": "display_data"
    }
   ],
   "source": [
    "plot(M_dim, D_min/D_max, 'l')"
   ]
  }
 ],
 "metadata": {
  "hide_input": false,
  "kernelspec": {
   "display_name": "R",
   "language": "R",
   "name": "ir"
  },
  "language_info": {
   "codemirror_mode": "r",
   "file_extension": ".r",
   "mimetype": "text/x-r-source",
   "name": "R",
   "pygments_lexer": "r",
   "version": "4.0.4"
  },
  "toc": {
   "base_numbering": 1,
   "nav_menu": {},
   "number_sections": true,
   "sideBar": true,
   "skip_h1_title": false,
   "title_cell": "Table of Contents",
   "title_sidebar": "Contents",
   "toc_cell": false,
   "toc_position": {},
   "toc_section_display": true,
   "toc_window_display": false
  },
  "varInspector": {
   "cols": {
    "lenName": 16,
    "lenType": 16,
    "lenVar": 40
   },
   "kernels_config": {
    "python": {
     "delete_cmd_postfix": "",
     "delete_cmd_prefix": "del ",
     "library": "var_list.py",
     "varRefreshCmd": "print(var_dic_list())"
    },
    "r": {
     "delete_cmd_postfix": ") ",
     "delete_cmd_prefix": "rm(",
     "library": "var_list.r",
     "varRefreshCmd": "cat(var_dic_list()) "
    }
   },
   "position": {
    "height": "568px",
    "left": "908px",
    "right": "20px",
    "top": "120px",
    "width": "350px"
   },
   "types_to_exclude": [
    "module",
    "function",
    "builtin_function_or_method",
    "instance",
    "_Feature"
   ],
   "window_display": false
  }
 },
 "nbformat": 4,
 "nbformat_minor": 4
}
