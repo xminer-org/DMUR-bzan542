{
 "cells": [
  {
   "cell_type": "markdown",
   "metadata": {},
   "source": [
    "BZAN 542\n",
    "\n",
    "Charles Liu"
   ]
  },
  {
   "cell_type": "code",
   "execution_count": 1,
   "metadata": {
    "ExecuteTime": {
     "end_time": "2021-09-23T16:04:07.684402Z",
     "start_time": "2021-09-23T16:04:02.721Z"
    }
   },
   "outputs": [
    {
     "name": "stderr",
     "output_type": "stream",
     "text": [
      "── \u001b[1mAttaching packages\u001b[22m ─────────────────────────────────────── tidyverse 1.3.0 ──\n",
      "\n",
      "\u001b[32m✔\u001b[39m \u001b[34mggplot2\u001b[39m 3.3.3     \u001b[32m✔\u001b[39m \u001b[34mpurrr  \u001b[39m 0.3.4\n",
      "\u001b[32m✔\u001b[39m \u001b[34mtibble \u001b[39m 3.1.0     \u001b[32m✔\u001b[39m \u001b[34mdplyr  \u001b[39m 1.0.4\n",
      "\u001b[32m✔\u001b[39m \u001b[34mtidyr  \u001b[39m 1.1.3     \u001b[32m✔\u001b[39m \u001b[34mstringr\u001b[39m 1.4.0\n",
      "\u001b[32m✔\u001b[39m \u001b[34mreadr  \u001b[39m 1.4.0     \u001b[32m✔\u001b[39m \u001b[34mforcats\u001b[39m 0.5.1\n",
      "\n",
      "── \u001b[1mConflicts\u001b[22m ────────────────────────────────────────── tidyverse_conflicts() ──\n",
      "\u001b[31m✖\u001b[39m \u001b[34mdplyr\u001b[39m::\u001b[32mfilter()\u001b[39m masks \u001b[34mstats\u001b[39m::filter()\n",
      "\u001b[31m✖\u001b[39m \u001b[34mdplyr\u001b[39m::\u001b[32mlag()\u001b[39m    masks \u001b[34mstats\u001b[39m::lag()\n",
      "\n",
      "Loading required package: lattice\n",
      "\n",
      "\n",
      "Attaching package: ‘caret’\n",
      "\n",
      "\n",
      "The following object is masked from ‘package:purrr’:\n",
      "\n",
      "    lift\n",
      "\n",
      "\n"
     ]
    }
   ],
   "source": [
    "library(tidyverse)\n",
    "library(caret)\n",
    "#set.seed(1) # if fixed randomization is desired"
   ]
  },
  {
   "cell_type": "markdown",
   "metadata": {},
   "source": [
    "# Example: Flight Delays"
   ]
  },
  {
   "cell_type": "code",
   "execution_count": 2,
   "metadata": {
    "ExecuteTime": {
     "end_time": "2021-09-23T16:04:07.751214Z",
     "start_time": "2021-09-23T16:04:02.743Z"
    }
   },
   "outputs": [
    {
     "data": {
      "text/html": [
       "<table class=\"dataframe\">\n",
       "<caption>A data.frame: 6 × 13</caption>\n",
       "<thead>\n",
       "\t<tr><th></th><th scope=col>schedtime</th><th scope=col>carrier</th><th scope=col>deptime</th><th scope=col>dest</th><th scope=col>distance</th><th scope=col>date</th><th scope=col>flightnumber</th><th scope=col>origin</th><th scope=col>weather</th><th scope=col>dayweek</th><th scope=col>daymonth</th><th scope=col>tailnu</th><th scope=col>delay</th></tr>\n",
       "\t<tr><th></th><th scope=col>&lt;int&gt;</th><th scope=col>&lt;chr&gt;</th><th scope=col>&lt;int&gt;</th><th scope=col>&lt;chr&gt;</th><th scope=col>&lt;int&gt;</th><th scope=col>&lt;chr&gt;</th><th scope=col>&lt;int&gt;</th><th scope=col>&lt;chr&gt;</th><th scope=col>&lt;int&gt;</th><th scope=col>&lt;int&gt;</th><th scope=col>&lt;int&gt;</th><th scope=col>&lt;chr&gt;</th><th scope=col>&lt;chr&gt;</th></tr>\n",
       "</thead>\n",
       "<tbody>\n",
       "\t<tr><th scope=row>1</th><td>1455</td><td>OH</td><td>1455</td><td>JFK</td><td>184</td><td>1/1/2004</td><td>5935</td><td>BWI</td><td>0</td><td>4</td><td>1</td><td>N940CA</td><td>ontime</td></tr>\n",
       "\t<tr><th scope=row>2</th><td>1640</td><td>DH</td><td>1640</td><td>JFK</td><td>213</td><td>1/1/2004</td><td>6155</td><td>DCA</td><td>0</td><td>4</td><td>1</td><td>N405FJ</td><td>ontime</td></tr>\n",
       "\t<tr><th scope=row>3</th><td>1245</td><td>DH</td><td>1245</td><td>LGA</td><td>229</td><td>1/1/2004</td><td>7208</td><td>IAD</td><td>0</td><td>4</td><td>1</td><td>N695BR</td><td>ontime</td></tr>\n",
       "\t<tr><th scope=row>4</th><td>1715</td><td>DH</td><td>1709</td><td>LGA</td><td>229</td><td>1/1/2004</td><td>7215</td><td>IAD</td><td>0</td><td>4</td><td>1</td><td>N662BR</td><td>ontime</td></tr>\n",
       "\t<tr><th scope=row>5</th><td>1039</td><td>DH</td><td>1035</td><td>LGA</td><td>229</td><td>1/1/2004</td><td>7792</td><td>IAD</td><td>0</td><td>4</td><td>1</td><td>N698BR</td><td>ontime</td></tr>\n",
       "\t<tr><th scope=row>6</th><td> 840</td><td>DH</td><td> 839</td><td>JFK</td><td>228</td><td>1/1/2004</td><td>7800</td><td>IAD</td><td>0</td><td>4</td><td>1</td><td>N687BR</td><td>ontime</td></tr>\n",
       "</tbody>\n",
       "</table>\n"
      ],
      "text/latex": [
       "A data.frame: 6 × 13\n",
       "\\begin{tabular}{r|lllllllllllll}\n",
       "  & schedtime & carrier & deptime & dest & distance & date & flightnumber & origin & weather & dayweek & daymonth & tailnu & delay\\\\\n",
       "  & <int> & <chr> & <int> & <chr> & <int> & <chr> & <int> & <chr> & <int> & <int> & <int> & <chr> & <chr>\\\\\n",
       "\\hline\n",
       "\t1 & 1455 & OH & 1455 & JFK & 184 & 1/1/2004 & 5935 & BWI & 0 & 4 & 1 & N940CA & ontime\\\\\n",
       "\t2 & 1640 & DH & 1640 & JFK & 213 & 1/1/2004 & 6155 & DCA & 0 & 4 & 1 & N405FJ & ontime\\\\\n",
       "\t3 & 1245 & DH & 1245 & LGA & 229 & 1/1/2004 & 7208 & IAD & 0 & 4 & 1 & N695BR & ontime\\\\\n",
       "\t4 & 1715 & DH & 1709 & LGA & 229 & 1/1/2004 & 7215 & IAD & 0 & 4 & 1 & N662BR & ontime\\\\\n",
       "\t5 & 1039 & DH & 1035 & LGA & 229 & 1/1/2004 & 7792 & IAD & 0 & 4 & 1 & N698BR & ontime\\\\\n",
       "\t6 &  840 & DH &  839 & JFK & 228 & 1/1/2004 & 7800 & IAD & 0 & 4 & 1 & N687BR & ontime\\\\\n",
       "\\end{tabular}\n"
      ],
      "text/markdown": [
       "\n",
       "A data.frame: 6 × 13\n",
       "\n",
       "| <!--/--> | schedtime &lt;int&gt; | carrier &lt;chr&gt; | deptime &lt;int&gt; | dest &lt;chr&gt; | distance &lt;int&gt; | date &lt;chr&gt; | flightnumber &lt;int&gt; | origin &lt;chr&gt; | weather &lt;int&gt; | dayweek &lt;int&gt; | daymonth &lt;int&gt; | tailnu &lt;chr&gt; | delay &lt;chr&gt; |\n",
       "|---|---|---|---|---|---|---|---|---|---|---|---|---|---|\n",
       "| 1 | 1455 | OH | 1455 | JFK | 184 | 1/1/2004 | 5935 | BWI | 0 | 4 | 1 | N940CA | ontime |\n",
       "| 2 | 1640 | DH | 1640 | JFK | 213 | 1/1/2004 | 6155 | DCA | 0 | 4 | 1 | N405FJ | ontime |\n",
       "| 3 | 1245 | DH | 1245 | LGA | 229 | 1/1/2004 | 7208 | IAD | 0 | 4 | 1 | N695BR | ontime |\n",
       "| 4 | 1715 | DH | 1709 | LGA | 229 | 1/1/2004 | 7215 | IAD | 0 | 4 | 1 | N662BR | ontime |\n",
       "| 5 | 1039 | DH | 1035 | LGA | 229 | 1/1/2004 | 7792 | IAD | 0 | 4 | 1 | N698BR | ontime |\n",
       "| 6 |  840 | DH |  839 | JFK | 228 | 1/1/2004 | 7800 | IAD | 0 | 4 | 1 | N687BR | ontime |\n",
       "\n"
      ],
      "text/plain": [
       "  schedtime carrier deptime dest distance date     flightnumber origin weather\n",
       "1 1455      OH      1455    JFK  184      1/1/2004 5935         BWI    0      \n",
       "2 1640      DH      1640    JFK  213      1/1/2004 6155         DCA    0      \n",
       "3 1245      DH      1245    LGA  229      1/1/2004 7208         IAD    0      \n",
       "4 1715      DH      1709    LGA  229      1/1/2004 7215         IAD    0      \n",
       "5 1039      DH      1035    LGA  229      1/1/2004 7792         IAD    0      \n",
       "6  840      DH       839    JFK  228      1/1/2004 7800         IAD    0      \n",
       "  dayweek daymonth tailnu delay \n",
       "1 4       1        N940CA ontime\n",
       "2 4       1        N405FJ ontime\n",
       "3 4       1        N695BR ontime\n",
       "4 4       1        N662BR ontime\n",
       "5 4       1        N698BR ontime\n",
       "6 4       1        N687BR ontime"
      ]
     },
     "metadata": {},
     "output_type": "display_data"
    }
   ],
   "source": [
    "## reading the data\n",
    "data <- read.csv(\"FlightDelays.csv\")\n",
    "head(data)"
   ]
  },
  {
   "cell_type": "code",
   "execution_count": 3,
   "metadata": {
    "ExecuteTime": {
     "end_time": "2021-09-23T16:04:07.782311Z",
     "start_time": "2021-09-23T16:04:02.746Z"
    }
   },
   "outputs": [
    {
     "data": {
      "text/html": [
       "<table class=\"dataframe\">\n",
       "<caption>A data.frame: 6 × 6</caption>\n",
       "<thead>\n",
       "\t<tr><th></th><th scope=col>schedtime</th><th scope=col>carrier</th><th scope=col>dest</th><th scope=col>origin</th><th scope=col>weather</th><th scope=col>dayweek</th></tr>\n",
       "\t<tr><th></th><th scope=col>&lt;fct&gt;</th><th scope=col>&lt;chr&gt;</th><th scope=col>&lt;chr&gt;</th><th scope=col>&lt;chr&gt;</th><th scope=col>&lt;fct&gt;</th><th scope=col>&lt;fct&gt;</th></tr>\n",
       "</thead>\n",
       "<tbody>\n",
       "\t<tr><th scope=row>1</th><td>14</td><td>OH</td><td>JFK</td><td>BWI</td><td>0</td><td>4</td></tr>\n",
       "\t<tr><th scope=row>2</th><td>16</td><td>DH</td><td>JFK</td><td>DCA</td><td>0</td><td>4</td></tr>\n",
       "\t<tr><th scope=row>3</th><td>12</td><td>DH</td><td>LGA</td><td>IAD</td><td>0</td><td>4</td></tr>\n",
       "\t<tr><th scope=row>4</th><td>17</td><td>DH</td><td>LGA</td><td>IAD</td><td>0</td><td>4</td></tr>\n",
       "\t<tr><th scope=row>5</th><td>10</td><td>DH</td><td>LGA</td><td>IAD</td><td>0</td><td>4</td></tr>\n",
       "\t<tr><th scope=row>6</th><td>8 </td><td>DH</td><td>JFK</td><td>IAD</td><td>0</td><td>4</td></tr>\n",
       "</tbody>\n",
       "</table>\n"
      ],
      "text/latex": [
       "A data.frame: 6 × 6\n",
       "\\begin{tabular}{r|llllll}\n",
       "  & schedtime & carrier & dest & origin & weather & dayweek\\\\\n",
       "  & <fct> & <chr> & <chr> & <chr> & <fct> & <fct>\\\\\n",
       "\\hline\n",
       "\t1 & 14 & OH & JFK & BWI & 0 & 4\\\\\n",
       "\t2 & 16 & DH & JFK & DCA & 0 & 4\\\\\n",
       "\t3 & 12 & DH & LGA & IAD & 0 & 4\\\\\n",
       "\t4 & 17 & DH & LGA & IAD & 0 & 4\\\\\n",
       "\t5 & 10 & DH & LGA & IAD & 0 & 4\\\\\n",
       "\t6 & 8  & DH & JFK & IAD & 0 & 4\\\\\n",
       "\\end{tabular}\n"
      ],
      "text/markdown": [
       "\n",
       "A data.frame: 6 × 6\n",
       "\n",
       "| <!--/--> | schedtime &lt;fct&gt; | carrier &lt;chr&gt; | dest &lt;chr&gt; | origin &lt;chr&gt; | weather &lt;fct&gt; | dayweek &lt;fct&gt; |\n",
       "|---|---|---|---|---|---|---|\n",
       "| 1 | 14 | OH | JFK | BWI | 0 | 4 |\n",
       "| 2 | 16 | DH | JFK | DCA | 0 | 4 |\n",
       "| 3 | 12 | DH | LGA | IAD | 0 | 4 |\n",
       "| 4 | 17 | DH | LGA | IAD | 0 | 4 |\n",
       "| 5 | 10 | DH | LGA | IAD | 0 | 4 |\n",
       "| 6 | 8  | DH | JFK | IAD | 0 | 4 |\n",
       "\n"
      ],
      "text/plain": [
       "  schedtime carrier dest origin weather dayweek\n",
       "1 14        OH      JFK  BWI    0       4      \n",
       "2 16        DH      JFK  DCA    0       4      \n",
       "3 12        DH      LGA  IAD    0       4      \n",
       "4 17        DH      LGA  IAD    0       4      \n",
       "5 10        DH      LGA  IAD    0       4      \n",
       "6 8         DH      JFK  IAD    0       4      "
      ]
     },
     "metadata": {},
     "output_type": "display_data"
    }
   ],
   "source": [
    "x <- data[,c('schedtime','carrier','dest','origin','weather','dayweek')]\n",
    "x$schedtime <- factor(floor(x$schedtime/100))\n",
    "x$weather <- factor(x$weather)\n",
    "x$dayweek <- factor(x$dayweek)\n",
    "head(x)"
   ]
  },
  {
   "cell_type": "code",
   "execution_count": 4,
   "metadata": {
    "ExecuteTime": {
     "end_time": "2021-09-23T16:04:07.848285Z",
     "start_time": "2021-09-23T16:04:02.748Z"
    }
   },
   "outputs": [
    {
     "data": {
      "text/plain": [
       "y\n",
       "delayed  ontime \n",
       "    428    1773 "
      ]
     },
     "metadata": {},
     "output_type": "display_data"
    },
    {
     "data": {
      "image/png": "[encoded data removed]",
      "text/plain": [
       "plot without title"
      ]
     },
     "metadata": {
      "image/png": {
       "height": 420,
       "width": 420
      }
     },
     "output_type": "display_data"
    }
   ],
   "source": [
    "y <- data$delay\n",
    "y.table <- table(y)\n",
    "y.table\n",
    "barplot(y.table)"
   ]
  },
  {
   "cell_type": "markdown",
   "metadata": {},
   "source": [
    "__Warning!!!__\n",
    "\n",
    "The `ontime` class is significantly larger than the `delayed` class. If we simply `classify` all flights as `ontime`, the accuracy would be 1773/2201 = 0.8055! Does it still make sense to continue? Anyway, let's try if some models can perform better."
   ]
  },
  {
   "cell_type": "code",
   "execution_count": 5,
   "metadata": {
    "ExecuteTime": {
     "end_time": "2021-09-23T16:04:09.155434Z",
     "start_time": "2021-09-23T16:04:02.775Z"
    },
    "scrolled": true
   },
   "outputs": [
    {
     "data": {
      "text/plain": [
       "Naive Bayes \n",
       "\n",
       "2201 samples\n",
       "   6 predictor\n",
       "   2 classes: 'delayed', 'ontime' \n",
       "\n",
       "No pre-processing\n",
       "Resampling: Cross-Validated (10 fold) \n",
       "Summary of sample sizes: 1981, 1980, 1981, 1982, 1981, 1981, ... \n",
       "Resampling results:\n",
       "\n",
       "  Accuracy   Kappa    \n",
       "  0.8159989  0.1833186\n",
       "\n",
       "Tuning parameter 'fL' was held constant at a value of 0\n",
       "Tuning\n",
       " parameter 'usekernel' was held constant at a value of FALSE\n",
       "Tuning\n",
       " parameter 'adjust' was held constant at a value of 1"
      ]
     },
     "metadata": {},
     "output_type": "display_data"
    }
   ],
   "source": [
    "# please use features (x) and classes (y) directly for nb (method)\n",
    "train(x, y, method='nb', \n",
    "      tuneGrid = data.frame(usekernel = FALSE, fL = 0, adjust = 1),\n",
    "      trControl = trainControl(method = \"cv\", number = 10)\n",
    ")"
   ]
  },
  {
   "cell_type": "code",
   "execution_count": 6,
   "metadata": {
    "ExecuteTime": {
     "end_time": "2021-09-23T16:04:09.179375Z",
     "start_time": "2021-09-23T16:04:02.777Z"
    }
   },
   "outputs": [],
   "source": [
    "# training and testing data sets\n",
    "nTotal=nrow(x)\n",
    "nTrain=floor(nTotal*(0.9))\n",
    "\n",
    "train=sample(nTotal, nTrain)\n",
    "\n",
    "x.train = x[train,]\n",
    "y.train = y[train]\n",
    "x.test = x[-train,]\n",
    "y.test = y[-train]"
   ]
  },
  {
   "cell_type": "code",
   "execution_count": 7,
   "metadata": {
    "ExecuteTime": {
     "end_time": "2021-09-23T16:04:10.267533Z",
     "start_time": "2021-09-23T16:04:02.780Z"
    }
   },
   "outputs": [
    {
     "data": {
      "text/plain": [
       "Naive Bayes \n",
       "\n",
       "1980 samples\n",
       "   6 predictor\n",
       "   2 classes: 'delayed', 'ontime' \n",
       "\n",
       "No pre-processing\n",
       "Resampling: Cross-Validated (10 fold) \n",
       "Summary of sample sizes: 1781, 1782, 1782, 1782, 1783, 1782, ... \n",
       "Resampling results:\n",
       "\n",
       "  Accuracy   Kappa    \n",
       "  0.8111092  0.1628345\n",
       "\n",
       "Tuning parameter 'fL' was held constant at a value of 0\n",
       "Tuning\n",
       " parameter 'usekernel' was held constant at a value of FALSE\n",
       "Tuning\n",
       " parameter 'adjust' was held constant at a value of 1"
      ]
     },
     "metadata": {},
     "output_type": "display_data"
    }
   ],
   "source": [
    "fit <- train(x.train, y.train, method='nb', \n",
    "      tuneGrid = data.frame(usekernel = FALSE, fL = 0, adjust = 1),\n",
    "      trControl = trainControl(method = \"cv\", number = 10)\n",
    ")\n",
    "fit"
   ]
  },
  {
   "cell_type": "code",
   "execution_count": 8,
   "metadata": {
    "ExecuteTime": {
     "end_time": "2021-09-23T16:04:10.335946Z",
     "start_time": "2021-09-23T16:04:02.781Z"
    }
   },
   "outputs": [
    {
     "data": {
      "text/plain": [
       "         y.pred\n",
       "y.test    delayed ontime\n",
       "  delayed       3     33\n",
       "  ontime        2    183"
      ]
     },
     "metadata": {},
     "output_type": "display_data"
    },
    {
     "data": {
      "text/html": [
       "0.841628959276018"
      ],
      "text/latex": [
       "0.841628959276018"
      ],
      "text/markdown": [
       "0.841628959276018"
      ],
      "text/plain": [
       "[1] 0.841629"
      ]
     },
     "metadata": {},
     "output_type": "display_data"
    }
   ],
   "source": [
    "y.pred=predict(fit, newdata=x.test)\n",
    "table(y.test, y.pred) # confusion matrix\n",
    "sum(y.test==y.pred)/length(y.test) # prediction accuracy"
   ]
  },
  {
   "cell_type": "code",
   "execution_count": 9,
   "metadata": {
    "ExecuteTime": {
     "end_time": "2021-09-23T16:04:10.350742Z",
     "start_time": "2021-09-23T16:04:02.783Z"
    }
   },
   "outputs": [
    {
     "data": {
      "text/plain": [
       "grouping\n",
       "  delayed    ontime \n",
       "0.1979798 0.8020202 "
      ]
     },
     "metadata": {},
     "output_type": "display_data"
    }
   ],
   "source": [
    "fit$finalModel$apriori"
   ]
  },
  {
   "cell_type": "code",
   "execution_count": 10,
   "metadata": {
    "ExecuteTime": {
     "end_time": "2021-09-23T16:04:10.366835Z",
     "start_time": "2021-09-23T16:04:02.785Z"
    }
   },
   "outputs": [
    {
     "data": {
      "text/plain": [
       "$schedtime\n",
       "         var\n",
       "grouping           6          7          8          9         10         11\n",
       "  delayed 0.04081633 0.05867347 0.06377551 0.02806122 0.02295918 0.01530612\n",
       "  ontime  0.06045340 0.06675063 0.07619647 0.05604534 0.04974811 0.03337531\n",
       "         var\n",
       "grouping          12         13         14         15         16         17\n",
       "  delayed 0.05102041 0.05102041 0.15306122 0.08673469 0.07397959 0.14795918\n",
       "  ontime  0.06738035 0.07934509 0.09319899 0.06738035 0.07997481 0.10264484\n",
       "         var\n",
       "grouping          18         19         20         21\n",
       "  delayed 0.03061224 0.08418367 0.01785714 0.07397959\n",
       "  ontime  0.04219144 0.04596977 0.02204030 0.05730479\n",
       "\n",
       "$carrier\n",
       "         var\n",
       "grouping          CO         DH         DL         MQ         OH         RU\n",
       "  delayed 0.06122449 0.30612245 0.11224490 0.18622449 0.01020408 0.22448980\n",
       "  ontime  0.04030227 0.23677582 0.18765743 0.11460957 0.01322418 0.17884131\n",
       "         var\n",
       "grouping          UA         US\n",
       "  delayed 0.01275510 0.08673469\n",
       "  ontime  0.01574307 0.21284635\n",
       "\n",
       "$dest\n",
       "         var\n",
       "grouping        EWR       JFK       LGA\n",
       "  delayed 0.3750000 0.1938776 0.4311224\n",
       "  ontime  0.2896725 0.1649874 0.5453401\n",
       "\n",
       "$origin\n",
       "         var\n",
       "grouping         BWI        DCA        IAD\n",
       "  delayed 0.08673469 0.52295918 0.39030612\n",
       "  ontime  0.05919395 0.64357683 0.29722922\n",
       "\n",
       "$weather\n",
       "         var\n",
       "grouping           0          1\n",
       "  delayed 0.92346939 0.07653061\n",
       "  ontime  1.00000000 0.00000000\n",
       "\n",
       "$dayweek\n",
       "         var\n",
       "grouping           1          2          3          4          5          6\n",
       "  delayed 0.19642857 0.14285714 0.13010204 0.13520408 0.17857143 0.05612245\n",
       "  ontime  0.12216625 0.13727960 0.14861461 0.17884131 0.18261965 0.12468514\n",
       "         var\n",
       "grouping           7\n",
       "  delayed 0.16071429\n",
       "  ontime  0.10579345\n"
      ]
     },
     "metadata": {},
     "output_type": "display_data"
    }
   ],
   "source": [
    "fit$finalModel$tables"
   ]
  },
  {
   "cell_type": "markdown",
   "metadata": {
    "heading_collapsed": true
   },
   "source": [
    "# Example: Zoo"
   ]
  },
  {
   "cell_type": "code",
   "execution_count": 11,
   "metadata": {
    "ExecuteTime": {
     "end_time": "2021-09-23T16:04:10.396086Z",
     "start_time": "2021-09-23T16:04:02.813Z"
    },
    "hidden": true
   },
   "outputs": [
    {
     "data": {
      "text/html": [
       "<table class=\"dataframe\">\n",
       "<caption>A data.frame: 6 × 17</caption>\n",
       "<thead>\n",
       "\t<tr><th></th><th scope=col>hair</th><th scope=col>feathers</th><th scope=col>eggs</th><th scope=col>milk</th><th scope=col>airborne</th><th scope=col>aquatic</th><th scope=col>predator</th><th scope=col>toothed</th><th scope=col>backbone</th><th scope=col>breathes</th><th scope=col>venomous</th><th scope=col>fins</th><th scope=col>legs</th><th scope=col>tail</th><th scope=col>domestic</th><th scope=col>catsize</th><th scope=col>type</th></tr>\n",
       "\t<tr><th></th><th scope=col>&lt;lgl&gt;</th><th scope=col>&lt;lgl&gt;</th><th scope=col>&lt;lgl&gt;</th><th scope=col>&lt;lgl&gt;</th><th scope=col>&lt;lgl&gt;</th><th scope=col>&lt;lgl&gt;</th><th scope=col>&lt;lgl&gt;</th><th scope=col>&lt;lgl&gt;</th><th scope=col>&lt;lgl&gt;</th><th scope=col>&lt;lgl&gt;</th><th scope=col>&lt;lgl&gt;</th><th scope=col>&lt;lgl&gt;</th><th scope=col>&lt;int&gt;</th><th scope=col>&lt;lgl&gt;</th><th scope=col>&lt;lgl&gt;</th><th scope=col>&lt;lgl&gt;</th><th scope=col>&lt;fct&gt;</th></tr>\n",
       "</thead>\n",
       "<tbody>\n",
       "\t<tr><th scope=row>aardvark</th><td> TRUE</td><td>FALSE</td><td>FALSE</td><td> TRUE</td><td>FALSE</td><td>FALSE</td><td> TRUE</td><td>TRUE</td><td>TRUE</td><td> TRUE</td><td>FALSE</td><td>FALSE</td><td>4</td><td>FALSE</td><td>FALSE</td><td> TRUE</td><td>mammal</td></tr>\n",
       "\t<tr><th scope=row>antelope</th><td> TRUE</td><td>FALSE</td><td>FALSE</td><td> TRUE</td><td>FALSE</td><td>FALSE</td><td>FALSE</td><td>TRUE</td><td>TRUE</td><td> TRUE</td><td>FALSE</td><td>FALSE</td><td>4</td><td> TRUE</td><td>FALSE</td><td> TRUE</td><td>mammal</td></tr>\n",
       "\t<tr><th scope=row>bass</th><td>FALSE</td><td>FALSE</td><td> TRUE</td><td>FALSE</td><td>FALSE</td><td> TRUE</td><td> TRUE</td><td>TRUE</td><td>TRUE</td><td>FALSE</td><td>FALSE</td><td> TRUE</td><td>0</td><td> TRUE</td><td>FALSE</td><td>FALSE</td><td>fish  </td></tr>\n",
       "\t<tr><th scope=row>bear</th><td> TRUE</td><td>FALSE</td><td>FALSE</td><td> TRUE</td><td>FALSE</td><td>FALSE</td><td> TRUE</td><td>TRUE</td><td>TRUE</td><td> TRUE</td><td>FALSE</td><td>FALSE</td><td>4</td><td>FALSE</td><td>FALSE</td><td> TRUE</td><td>mammal</td></tr>\n",
       "\t<tr><th scope=row>boar</th><td> TRUE</td><td>FALSE</td><td>FALSE</td><td> TRUE</td><td>FALSE</td><td>FALSE</td><td> TRUE</td><td>TRUE</td><td>TRUE</td><td> TRUE</td><td>FALSE</td><td>FALSE</td><td>4</td><td> TRUE</td><td>FALSE</td><td> TRUE</td><td>mammal</td></tr>\n",
       "\t<tr><th scope=row>buffalo</th><td> TRUE</td><td>FALSE</td><td>FALSE</td><td> TRUE</td><td>FALSE</td><td>FALSE</td><td>FALSE</td><td>TRUE</td><td>TRUE</td><td> TRUE</td><td>FALSE</td><td>FALSE</td><td>4</td><td> TRUE</td><td>FALSE</td><td> TRUE</td><td>mammal</td></tr>\n",
       "</tbody>\n",
       "</table>\n"
      ],
      "text/latex": [
       "A data.frame: 6 × 17\n",
       "\\begin{tabular}{r|lllllllllllllllll}\n",
       "  & hair & feathers & eggs & milk & airborne & aquatic & predator & toothed & backbone & breathes & venomous & fins & legs & tail & domestic & catsize & type\\\\\n",
       "  & <lgl> & <lgl> & <lgl> & <lgl> & <lgl> & <lgl> & <lgl> & <lgl> & <lgl> & <lgl> & <lgl> & <lgl> & <int> & <lgl> & <lgl> & <lgl> & <fct>\\\\\n",
       "\\hline\n",
       "\taardvark &  TRUE & FALSE & FALSE &  TRUE & FALSE & FALSE &  TRUE & TRUE & TRUE &  TRUE & FALSE & FALSE & 4 & FALSE & FALSE &  TRUE & mammal\\\\\n",
       "\tantelope &  TRUE & FALSE & FALSE &  TRUE & FALSE & FALSE & FALSE & TRUE & TRUE &  TRUE & FALSE & FALSE & 4 &  TRUE & FALSE &  TRUE & mammal\\\\\n",
       "\tbass & FALSE & FALSE &  TRUE & FALSE & FALSE &  TRUE &  TRUE & TRUE & TRUE & FALSE & FALSE &  TRUE & 0 &  TRUE & FALSE & FALSE & fish  \\\\\n",
       "\tbear &  TRUE & FALSE & FALSE &  TRUE & FALSE & FALSE &  TRUE & TRUE & TRUE &  TRUE & FALSE & FALSE & 4 & FALSE & FALSE &  TRUE & mammal\\\\\n",
       "\tboar &  TRUE & FALSE & FALSE &  TRUE & FALSE & FALSE &  TRUE & TRUE & TRUE &  TRUE & FALSE & FALSE & 4 &  TRUE & FALSE &  TRUE & mammal\\\\\n",
       "\tbuffalo &  TRUE & FALSE & FALSE &  TRUE & FALSE & FALSE & FALSE & TRUE & TRUE &  TRUE & FALSE & FALSE & 4 &  TRUE & FALSE &  TRUE & mammal\\\\\n",
       "\\end{tabular}\n"
      ],
      "text/markdown": [
       "\n",
       "A data.frame: 6 × 17\n",
       "\n",
       "| <!--/--> | hair &lt;lgl&gt; | feathers &lt;lgl&gt; | eggs &lt;lgl&gt; | milk &lt;lgl&gt; | airborne &lt;lgl&gt; | aquatic &lt;lgl&gt; | predator &lt;lgl&gt; | toothed &lt;lgl&gt; | backbone &lt;lgl&gt; | breathes &lt;lgl&gt; | venomous &lt;lgl&gt; | fins &lt;lgl&gt; | legs &lt;int&gt; | tail &lt;lgl&gt; | domestic &lt;lgl&gt; | catsize &lt;lgl&gt; | type &lt;fct&gt; |\n",
       "|---|---|---|---|---|---|---|---|---|---|---|---|---|---|---|---|---|---|\n",
       "| aardvark |  TRUE | FALSE | FALSE |  TRUE | FALSE | FALSE |  TRUE | TRUE | TRUE |  TRUE | FALSE | FALSE | 4 | FALSE | FALSE |  TRUE | mammal |\n",
       "| antelope |  TRUE | FALSE | FALSE |  TRUE | FALSE | FALSE | FALSE | TRUE | TRUE |  TRUE | FALSE | FALSE | 4 |  TRUE | FALSE |  TRUE | mammal |\n",
       "| bass | FALSE | FALSE |  TRUE | FALSE | FALSE |  TRUE |  TRUE | TRUE | TRUE | FALSE | FALSE |  TRUE | 0 |  TRUE | FALSE | FALSE | fish   |\n",
       "| bear |  TRUE | FALSE | FALSE |  TRUE | FALSE | FALSE |  TRUE | TRUE | TRUE |  TRUE | FALSE | FALSE | 4 | FALSE | FALSE |  TRUE | mammal |\n",
       "| boar |  TRUE | FALSE | FALSE |  TRUE | FALSE | FALSE |  TRUE | TRUE | TRUE |  TRUE | FALSE | FALSE | 4 |  TRUE | FALSE |  TRUE | mammal |\n",
       "| buffalo |  TRUE | FALSE | FALSE |  TRUE | FALSE | FALSE | FALSE | TRUE | TRUE |  TRUE | FALSE | FALSE | 4 |  TRUE | FALSE |  TRUE | mammal |\n",
       "\n"
      ],
      "text/plain": [
       "         hair  feathers eggs  milk  airborne aquatic predator toothed backbone\n",
       "aardvark  TRUE FALSE    FALSE  TRUE FALSE    FALSE    TRUE    TRUE    TRUE    \n",
       "antelope  TRUE FALSE    FALSE  TRUE FALSE    FALSE   FALSE    TRUE    TRUE    \n",
       "bass     FALSE FALSE     TRUE FALSE FALSE     TRUE    TRUE    TRUE    TRUE    \n",
       "bear      TRUE FALSE    FALSE  TRUE FALSE    FALSE    TRUE    TRUE    TRUE    \n",
       "boar      TRUE FALSE    FALSE  TRUE FALSE    FALSE    TRUE    TRUE    TRUE    \n",
       "buffalo   TRUE FALSE    FALSE  TRUE FALSE    FALSE   FALSE    TRUE    TRUE    \n",
       "         breathes venomous fins  legs tail  domestic catsize type  \n",
       "aardvark  TRUE    FALSE    FALSE 4    FALSE FALSE     TRUE   mammal\n",
       "antelope  TRUE    FALSE    FALSE 4     TRUE FALSE     TRUE   mammal\n",
       "bass     FALSE    FALSE     TRUE 0     TRUE FALSE    FALSE   fish  \n",
       "bear      TRUE    FALSE    FALSE 4    FALSE FALSE     TRUE   mammal\n",
       "boar      TRUE    FALSE    FALSE 4     TRUE FALSE     TRUE   mammal\n",
       "buffalo   TRUE    FALSE    FALSE 4     TRUE FALSE     TRUE   mammal"
      ]
     },
     "metadata": {},
     "output_type": "display_data"
    }
   ],
   "source": [
    "data(Zoo, package=\"mlbench\")\n",
    "head(Zoo)"
   ]
  },
  {
   "cell_type": "code",
   "execution_count": 12,
   "metadata": {
    "ExecuteTime": {
     "end_time": "2021-09-23T16:04:10.416751Z",
     "start_time": "2021-09-23T16:04:02.815Z"
    },
    "hidden": true
   },
   "outputs": [
    {
     "data": {
      "text/plain": [
       "    hair          feathers          eggs            milk        \n",
       " Mode :logical   Mode :logical   Mode :logical   Mode :logical  \n",
       " FALSE:58        FALSE:81        FALSE:42        FALSE:60       \n",
       " TRUE :43        TRUE :20        TRUE :59        TRUE :41       \n",
       "                                                                \n",
       "                                                                \n",
       "                                                                \n",
       "                                                                \n",
       "  airborne        aquatic         predator        toothed       \n",
       " Mode :logical   Mode :logical   Mode :logical   Mode :logical  \n",
       " FALSE:77        FALSE:65        FALSE:45        FALSE:40       \n",
       " TRUE :24        TRUE :36        TRUE :56        TRUE :61       \n",
       "                                                                \n",
       "                                                                \n",
       "                                                                \n",
       "                                                                \n",
       "  backbone        breathes        venomous          fins        \n",
       " Mode :logical   Mode :logical   Mode :logical   Mode :logical  \n",
       " FALSE:18        FALSE:21        FALSE:93        FALSE:84       \n",
       " TRUE :83        TRUE :80        TRUE :8         TRUE :17       \n",
       "                                                                \n",
       "                                                                \n",
       "                                                                \n",
       "                                                                \n",
       "      legs          tail          domestic        catsize       \n",
       " Min.   :0.000   Mode :logical   Mode :logical   Mode :logical  \n",
       " 1st Qu.:2.000   FALSE:26        FALSE:88        FALSE:57       \n",
       " Median :4.000   TRUE :75        TRUE :13        TRUE :44       \n",
       " Mean   :2.842                                                  \n",
       " 3rd Qu.:4.000                                                  \n",
       " Max.   :8.000                                                  \n",
       "                                                                \n",
       "            type   \n",
       " mammal       :41  \n",
       " bird         :20  \n",
       " reptile      : 5  \n",
       " fish         :13  \n",
       " amphibian    : 4  \n",
       " insect       : 8  \n",
       " mollusc.et.al:10  "
      ]
     },
     "metadata": {},
     "output_type": "display_data"
    }
   ],
   "source": [
    "summary(Zoo)"
   ]
  },
  {
   "cell_type": "markdown",
   "metadata": {},
   "source": [
    "# Example: SVM"
   ]
  },
  {
   "cell_type": "code",
   "execution_count": 13,
   "metadata": {
    "ExecuteTime": {
     "end_time": "2021-09-23T16:04:12.497298Z",
     "start_time": "2021-09-23T16:04:02.880Z"
    }
   },
   "outputs": [
    {
     "data": {
      "text/plain": [
       "Support Vector Machines with Linear Kernel \n",
       "\n",
       "101 samples\n",
       " 16 predictor\n",
       "  7 classes: 'mammal', 'bird', 'reptile', 'fish', 'amphibian', 'insect', 'mollusc.et.al' \n",
       "\n",
       "No pre-processing\n",
       "Resampling: Cross-Validated (10 fold) \n",
       "Summary of sample sizes: 92, 92, 91, 92, 90, 91, ... \n",
       "Resampling results:\n",
       "\n",
       "  Accuracy   Kappa    \n",
       "  0.9625758  0.9510103\n",
       "\n",
       "Tuning parameter 'C' was held constant at a value of 1"
      ]
     },
     "metadata": {},
     "output_type": "display_data"
    }
   ],
   "source": [
    "svmFit <- train(type ~., data = Zoo, method = \"svmLinear\",\n",
    "    trControl = trainControl(method = \"cv\", number = 10)\n",
    ")\n",
    "svmFit"
   ]
  },
  {
   "cell_type": "markdown",
   "metadata": {},
   "source": [
    "## The final model"
   ]
  },
  {
   "cell_type": "code",
   "execution_count": 14,
   "metadata": {
    "ExecuteTime": {
     "end_time": "2021-09-23T16:04:12.514591Z",
     "start_time": "2021-09-23T16:04:02.913Z"
    }
   },
   "outputs": [
    {
     "data": {
      "text/plain": [
       "Support Vector Machine object of class \"ksvm\" \n",
       "\n",
       "SV type: C-svc  (classification) \n",
       " parameter : cost C = 1 \n",
       "\n",
       "Linear (vanilla) kernel function. \n",
       "\n",
       "Number of Support Vectors : 47 \n",
       "\n",
       "Objective Function Value : -0.1448 -0.218 -0.1484 -0.1754 -0.0936 -0.1033 -0.297 -0.0819 -0.1556 -0.0907 -0.1135 -0.182 -0.5763 -0.13 -0.1833 -0.118 -0.0474 -0.0823 -0.1236 -0.1481 -0.5666 \n",
       "Training error : 0 "
      ]
     },
     "metadata": {},
     "output_type": "display_data"
    }
   ],
   "source": [
    "svmFinal <- svmFit$finalModel\n",
    "svmFinal"
   ]
  },
  {
   "cell_type": "markdown",
   "metadata": {},
   "source": [
    "## The support vectors"
   ]
  },
  {
   "cell_type": "code",
   "execution_count": 15,
   "metadata": {
    "ExecuteTime": {
     "end_time": "2021-09-23T16:04:12.528867Z",
     "start_time": "2021-09-23T16:04:02.947Z"
    }
   },
   "outputs": [
    {
     "data": {
      "text/html": [
       "47"
      ],
      "text/latex": [
       "47"
      ],
      "text/markdown": [
       "47"
      ],
      "text/plain": [
       "[1] 47"
      ]
     },
     "metadata": {},
     "output_type": "display_data"
    }
   ],
   "source": [
    "svmFinal@nSV"
   ]
  },
  {
   "cell_type": "code",
   "execution_count": 16,
   "metadata": {
    "ExecuteTime": {
     "end_time": "2021-09-23T16:04:12.549638Z",
     "start_time": "2021-09-23T16:04:02.948Z"
    }
   },
   "outputs": [
    {
     "data": {
      "text/html": [
       "<ol>\n",
       "\t<li><style>\n",
       ".list-inline {list-style: none; margin:0; padding: 0}\n",
       ".list-inline>li {display: inline-block}\n",
       ".list-inline>li:not(:last-child)::after {content: \"\\00b7\"; padding: 0 .5ex}\n",
       "</style>\n",
       "<ol class=list-inline><li>59</li><li>64</li><li>67</li><li>96</li></ol>\n",
       "</li>\n",
       "\t<li><style>\n",
       ".list-inline {list-style: none; margin:0; padding: 0}\n",
       ".list-inline>li {display: inline-block}\n",
       ".list-inline>li:not(:last-child)::after {content: \"\\00b7\"; padding: 0 .5ex}\n",
       "</style>\n",
       "<ol class=list-inline><li>64</li><li>67</li><li>77</li><li>85</li><li>91</li><li>92</li><li>95</li></ol>\n",
       "</li>\n",
       "\t<li><style>\n",
       ".list-inline {list-style: none; margin:0; padding: 0}\n",
       ".list-inline>li {display: inline-block}\n",
       ".list-inline>li:not(:last-child)::after {content: \"\\00b7\"; padding: 0 .5ex}\n",
       "</style>\n",
       "<ol class=list-inline><li>62</li><li>64</li><li>67</li><li>87</li><li>93</li></ol>\n",
       "</li>\n",
       "\t<li><style>\n",
       ".list-inline {list-style: none; margin:0; padding: 0}\n",
       ".list-inline>li {display: inline-block}\n",
       ".list-inline>li:not(:last-child)::after {content: \"\\00b7\"; padding: 0 .5ex}\n",
       "</style>\n",
       "<ol class=list-inline><li>10</li><li>50</li><li>53</li><li>55</li><li>64</li><li>67</li><li>90</li><li>95</li></ol>\n",
       "</li>\n",
       "\t<li><style>\n",
       ".list-inline {list-style: none; margin:0; padding: 0}\n",
       ".list-inline>li {display: inline-block}\n",
       ".list-inline>li:not(:last-child)::after {content: \"\\00b7\"; padding: 0 .5ex}\n",
       "</style>\n",
       "<ol class=list-inline><li>10</li><li>40</li><li>52</li><li>64</li><li>89</li><li>94</li></ol>\n",
       "</li>\n",
       "\t<li><style>\n",
       ".list-inline {list-style: none; margin:0; padding: 0}\n",
       ".list-inline>li {display: inline-block}\n",
       ".list-inline>li:not(:last-child)::after {content: \"\\00b7\"; padding: 0 .5ex}\n",
       "</style>\n",
       "<ol class=list-inline><li>4</li><li>10</li><li>33</li><li>54</li><li>64</li><li>67</li><li>73</li><li>100</li></ol>\n",
       "</li>\n",
       "\t<li><style>\n",
       ".list-inline {list-style: none; margin:0; padding: 0}\n",
       ".list-inline>li {display: inline-block}\n",
       ".list-inline>li:not(:last-child)::after {content: \"\\00b7\"; padding: 0 .5ex}\n",
       "</style>\n",
       "<ol class=list-inline><li>42</li><li>57</li><li>63</li><li>81</li><li>91</li></ol>\n",
       "</li>\n",
       "\t<li><style>\n",
       ".list-inline {list-style: none; margin:0; padding: 0}\n",
       ".list-inline>li {display: inline-block}\n",
       ".list-inline>li:not(:last-child)::after {content: \"\\00b7\"; padding: 0 .5ex}\n",
       "</style>\n",
       "<ol class=list-inline><li>59</li><li>93</li></ol>\n",
       "</li>\n",
       "\t<li><style>\n",
       ".list-inline {list-style: none; margin:0; padding: 0}\n",
       ".list-inline>li {display: inline-block}\n",
       ".list-inline>li:not(:last-child)::after {content: \"\\00b7\"; padding: 0 .5ex}\n",
       "</style>\n",
       "<ol class=list-inline><li>22</li><li>42</li><li>53</li><li>59</li><li>79</li><li>80</li><li>90</li></ol>\n",
       "</li>\n",
       "\t<li><style>\n",
       ".list-inline {list-style: none; margin:0; padding: 0}\n",
       ".list-inline>li {display: inline-block}\n",
       ".list-inline>li:not(:last-child)::after {content: \"\\00b7\"; padding: 0 .5ex}\n",
       "</style>\n",
       "<ol class=list-inline><li>31</li><li>42</li><li>43</li><li>89</li><li>101</li></ol>\n",
       "</li>\n",
       "\t<li><style>\n",
       ".list-inline {list-style: none; margin:0; padding: 0}\n",
       ".list-inline>li {display: inline-block}\n",
       ".list-inline>li:not(:last-child)::after {content: \"\\00b7\"; padding: 0 .5ex}\n",
       "</style>\n",
       "<ol class=list-inline><li>14</li><li>22</li><li>42</li><li>54</li><li>57</li><li>73</li><li>82</li><li>100</li><li>101</li></ol>\n",
       "</li>\n",
       "\t<li><style>\n",
       ".list-inline {list-style: none; margin:0; padding: 0}\n",
       ".list-inline>li {display: inline-block}\n",
       ".list-inline>li:not(:last-child)::after {content: \"\\00b7\"; padding: 0 .5ex}\n",
       "</style>\n",
       "<ol class=list-inline><li>35</li><li>62</li><li>77</li><li>81</li><li>83</li><li>87</li><li>91</li></ol>\n",
       "</li>\n",
       "\t<li><style>\n",
       ".list-inline {list-style: none; margin:0; padding: 0}\n",
       ".list-inline>li {display: inline-block}\n",
       ".list-inline>li:not(:last-child)::after {content: \"\\00b7\"; padding: 0 .5ex}\n",
       "</style>\n",
       "<ol class=list-inline><li>27</li><li>53</li><li>77</li><li>92</li></ol>\n",
       "</li>\n",
       "\t<li><style>\n",
       ".list-inline {list-style: none; margin:0; padding: 0}\n",
       ".list-inline>li {display: inline-block}\n",
       ".list-inline>li:not(:last-child)::after {content: \"\\00b7\"; padding: 0 .5ex}\n",
       "</style>\n",
       "<ol class=list-inline><li>25</li><li>43</li><li>89</li><li>91</li><li>92</li></ol>\n",
       "</li>\n",
       "\t<li><style>\n",
       ".list-inline {list-style: none; margin:0; padding: 0}\n",
       ".list-inline>li {display: inline-block}\n",
       ".list-inline>li:not(:last-child)::after {content: \"\\00b7\"; padding: 0 .5ex}\n",
       "</style>\n",
       "<ol class=list-inline><li>14</li><li>54</li><li>63</li><li>73</li><li>77</li><li>91</li><li>92</li><li>100</li></ol>\n",
       "</li>\n",
       "\t<li><style>\n",
       ".list-inline {list-style: none; margin:0; padding: 0}\n",
       ".list-inline>li {display: inline-block}\n",
       ".list-inline>li:not(:last-child)::after {content: \"\\00b7\"; padding: 0 .5ex}\n",
       "</style>\n",
       "<ol class=list-inline><li>53</li><li>62</li><li>83</li><li>90</li></ol>\n",
       "</li>\n",
       "\t<li><style>\n",
       ".list-inline {list-style: none; margin:0; padding: 0}\n",
       ".list-inline>li {display: inline-block}\n",
       ".list-inline>li:not(:last-child)::after {content: \"\\00b7\"; padding: 0 .5ex}\n",
       "</style>\n",
       "<ol class=list-inline><li>83</li><li>87</li><li>89</li><li>98</li></ol>\n",
       "</li>\n",
       "\t<li><style>\n",
       ".list-inline {list-style: none; margin:0; padding: 0}\n",
       ".list-inline>li {display: inline-block}\n",
       ".list-inline>li:not(:last-child)::after {content: \"\\00b7\"; padding: 0 .5ex}\n",
       "</style>\n",
       "<ol class=list-inline><li>14</li><li>15</li><li>54</li><li>62</li><li>73</li><li>78</li><li>83</li><li>87</li></ol>\n",
       "</li>\n",
       "\t<li><style>\n",
       ".list-inline {list-style: none; margin:0; padding: 0}\n",
       ".list-inline>li {display: inline-block}\n",
       ".list-inline>li:not(:last-child)::after {content: \"\\00b7\"; padding: 0 .5ex}\n",
       "</style>\n",
       "<ol class=list-inline><li>25</li><li>27</li><li>89</li><li>90</li><li>98</li></ol>\n",
       "</li>\n",
       "\t<li><style>\n",
       ".list-inline {list-style: none; margin:0; padding: 0}\n",
       ".list-inline>li {display: inline-block}\n",
       ".list-inline>li:not(:last-child)::after {content: \"\\00b7\"; padding: 0 .5ex}\n",
       "</style>\n",
       "<ol class=list-inline><li>26</li><li>27</li><li>47</li><li>53</li><li>54</li><li>73</li><li>90</li><li>100</li></ol>\n",
       "</li>\n",
       "\t<li><style>\n",
       ".list-inline {list-style: none; margin:0; padding: 0}\n",
       ".list-inline>li {display: inline-block}\n",
       ".list-inline>li:not(:last-child)::after {content: \"\\00b7\"; padding: 0 .5ex}\n",
       "</style>\n",
       "<ol class=list-inline><li>43</li><li>54</li><li>73</li><li>89</li><li>98</li><li>100</li></ol>\n",
       "</li>\n",
       "</ol>\n"
      ],
      "text/latex": [
       "\\begin{enumerate}\n",
       "\\item \\begin{enumerate*}\n",
       "\\item 59\n",
       "\\item 64\n",
       "\\item 67\n",
       "\\item 96\n",
       "\\end{enumerate*}\n",
       "\n",
       "\\item \\begin{enumerate*}\n",
       "\\item 64\n",
       "\\item 67\n",
       "\\item 77\n",
       "\\item 85\n",
       "\\item 91\n",
       "\\item 92\n",
       "\\item 95\n",
       "\\end{enumerate*}\n",
       "\n",
       "\\item \\begin{enumerate*}\n",
       "\\item 62\n",
       "\\item 64\n",
       "\\item 67\n",
       "\\item 87\n",
       "\\item 93\n",
       "\\end{enumerate*}\n",
       "\n",
       "\\item \\begin{enumerate*}\n",
       "\\item 10\n",
       "\\item 50\n",
       "\\item 53\n",
       "\\item 55\n",
       "\\item 64\n",
       "\\item 67\n",
       "\\item 90\n",
       "\\item 95\n",
       "\\end{enumerate*}\n",
       "\n",
       "\\item \\begin{enumerate*}\n",
       "\\item 10\n",
       "\\item 40\n",
       "\\item 52\n",
       "\\item 64\n",
       "\\item 89\n",
       "\\item 94\n",
       "\\end{enumerate*}\n",
       "\n",
       "\\item \\begin{enumerate*}\n",
       "\\item 4\n",
       "\\item 10\n",
       "\\item 33\n",
       "\\item 54\n",
       "\\item 64\n",
       "\\item 67\n",
       "\\item 73\n",
       "\\item 100\n",
       "\\end{enumerate*}\n",
       "\n",
       "\\item \\begin{enumerate*}\n",
       "\\item 42\n",
       "\\item 57\n",
       "\\item 63\n",
       "\\item 81\n",
       "\\item 91\n",
       "\\end{enumerate*}\n",
       "\n",
       "\\item \\begin{enumerate*}\n",
       "\\item 59\n",
       "\\item 93\n",
       "\\end{enumerate*}\n",
       "\n",
       "\\item \\begin{enumerate*}\n",
       "\\item 22\n",
       "\\item 42\n",
       "\\item 53\n",
       "\\item 59\n",
       "\\item 79\n",
       "\\item 80\n",
       "\\item 90\n",
       "\\end{enumerate*}\n",
       "\n",
       "\\item \\begin{enumerate*}\n",
       "\\item 31\n",
       "\\item 42\n",
       "\\item 43\n",
       "\\item 89\n",
       "\\item 101\n",
       "\\end{enumerate*}\n",
       "\n",
       "\\item \\begin{enumerate*}\n",
       "\\item 14\n",
       "\\item 22\n",
       "\\item 42\n",
       "\\item 54\n",
       "\\item 57\n",
       "\\item 73\n",
       "\\item 82\n",
       "\\item 100\n",
       "\\item 101\n",
       "\\end{enumerate*}\n",
       "\n",
       "\\item \\begin{enumerate*}\n",
       "\\item 35\n",
       "\\item 62\n",
       "\\item 77\n",
       "\\item 81\n",
       "\\item 83\n",
       "\\item 87\n",
       "\\item 91\n",
       "\\end{enumerate*}\n",
       "\n",
       "\\item \\begin{enumerate*}\n",
       "\\item 27\n",
       "\\item 53\n",
       "\\item 77\n",
       "\\item 92\n",
       "\\end{enumerate*}\n",
       "\n",
       "\\item \\begin{enumerate*}\n",
       "\\item 25\n",
       "\\item 43\n",
       "\\item 89\n",
       "\\item 91\n",
       "\\item 92\n",
       "\\end{enumerate*}\n",
       "\n",
       "\\item \\begin{enumerate*}\n",
       "\\item 14\n",
       "\\item 54\n",
       "\\item 63\n",
       "\\item 73\n",
       "\\item 77\n",
       "\\item 91\n",
       "\\item 92\n",
       "\\item 100\n",
       "\\end{enumerate*}\n",
       "\n",
       "\\item \\begin{enumerate*}\n",
       "\\item 53\n",
       "\\item 62\n",
       "\\item 83\n",
       "\\item 90\n",
       "\\end{enumerate*}\n",
       "\n",
       "\\item \\begin{enumerate*}\n",
       "\\item 83\n",
       "\\item 87\n",
       "\\item 89\n",
       "\\item 98\n",
       "\\end{enumerate*}\n",
       "\n",
       "\\item \\begin{enumerate*}\n",
       "\\item 14\n",
       "\\item 15\n",
       "\\item 54\n",
       "\\item 62\n",
       "\\item 73\n",
       "\\item 78\n",
       "\\item 83\n",
       "\\item 87\n",
       "\\end{enumerate*}\n",
       "\n",
       "\\item \\begin{enumerate*}\n",
       "\\item 25\n",
       "\\item 27\n",
       "\\item 89\n",
       "\\item 90\n",
       "\\item 98\n",
       "\\end{enumerate*}\n",
       "\n",
       "\\item \\begin{enumerate*}\n",
       "\\item 26\n",
       "\\item 27\n",
       "\\item 47\n",
       "\\item 53\n",
       "\\item 54\n",
       "\\item 73\n",
       "\\item 90\n",
       "\\item 100\n",
       "\\end{enumerate*}\n",
       "\n",
       "\\item \\begin{enumerate*}\n",
       "\\item 43\n",
       "\\item 54\n",
       "\\item 73\n",
       "\\item 89\n",
       "\\item 98\n",
       "\\item 100\n",
       "\\end{enumerate*}\n",
       "\n",
       "\\end{enumerate}\n"
      ],
      "text/markdown": [
       "1. 1. 59\n",
       "2. 64\n",
       "3. 67\n",
       "4. 96\n",
       "\n",
       "\n",
       "\n",
       "2. 1. 64\n",
       "2. 67\n",
       "3. 77\n",
       "4. 85\n",
       "5. 91\n",
       "6. 92\n",
       "7. 95\n",
       "\n",
       "\n",
       "\n",
       "3. 1. 62\n",
       "2. 64\n",
       "3. 67\n",
       "4. 87\n",
       "5. 93\n",
       "\n",
       "\n",
       "\n",
       "4. 1. 10\n",
       "2. 50\n",
       "3. 53\n",
       "4. 55\n",
       "5. 64\n",
       "6. 67\n",
       "7. 90\n",
       "8. 95\n",
       "\n",
       "\n",
       "\n",
       "5. 1. 10\n",
       "2. 40\n",
       "3. 52\n",
       "4. 64\n",
       "5. 89\n",
       "6. 94\n",
       "\n",
       "\n",
       "\n",
       "6. 1. 4\n",
       "2. 10\n",
       "3. 33\n",
       "4. 54\n",
       "5. 64\n",
       "6. 67\n",
       "7. 73\n",
       "8. 100\n",
       "\n",
       "\n",
       "\n",
       "7. 1. 42\n",
       "2. 57\n",
       "3. 63\n",
       "4. 81\n",
       "5. 91\n",
       "\n",
       "\n",
       "\n",
       "8. 1. 59\n",
       "2. 93\n",
       "\n",
       "\n",
       "\n",
       "9. 1. 22\n",
       "2. 42\n",
       "3. 53\n",
       "4. 59\n",
       "5. 79\n",
       "6. 80\n",
       "7. 90\n",
       "\n",
       "\n",
       "\n",
       "10. 1. 31\n",
       "2. 42\n",
       "3. 43\n",
       "4. 89\n",
       "5. 101\n",
       "\n",
       "\n",
       "\n",
       "11. 1. 14\n",
       "2. 22\n",
       "3. 42\n",
       "4. 54\n",
       "5. 57\n",
       "6. 73\n",
       "7. 82\n",
       "8. 100\n",
       "9. 101\n",
       "\n",
       "\n",
       "\n",
       "12. 1. 35\n",
       "2. 62\n",
       "3. 77\n",
       "4. 81\n",
       "5. 83\n",
       "6. 87\n",
       "7. 91\n",
       "\n",
       "\n",
       "\n",
       "13. 1. 27\n",
       "2. 53\n",
       "3. 77\n",
       "4. 92\n",
       "\n",
       "\n",
       "\n",
       "14. 1. 25\n",
       "2. 43\n",
       "3. 89\n",
       "4. 91\n",
       "5. 92\n",
       "\n",
       "\n",
       "\n",
       "15. 1. 14\n",
       "2. 54\n",
       "3. 63\n",
       "4. 73\n",
       "5. 77\n",
       "6. 91\n",
       "7. 92\n",
       "8. 100\n",
       "\n",
       "\n",
       "\n",
       "16. 1. 53\n",
       "2. 62\n",
       "3. 83\n",
       "4. 90\n",
       "\n",
       "\n",
       "\n",
       "17. 1. 83\n",
       "2. 87\n",
       "3. 89\n",
       "4. 98\n",
       "\n",
       "\n",
       "\n",
       "18. 1. 14\n",
       "2. 15\n",
       "3. 54\n",
       "4. 62\n",
       "5. 73\n",
       "6. 78\n",
       "7. 83\n",
       "8. 87\n",
       "\n",
       "\n",
       "\n",
       "19. 1. 25\n",
       "2. 27\n",
       "3. 89\n",
       "4. 90\n",
       "5. 98\n",
       "\n",
       "\n",
       "\n",
       "20. 1. 26\n",
       "2. 27\n",
       "3. 47\n",
       "4. 53\n",
       "5. 54\n",
       "6. 73\n",
       "7. 90\n",
       "8. 100\n",
       "\n",
       "\n",
       "\n",
       "21. 1. 43\n",
       "2. 54\n",
       "3. 73\n",
       "4. 89\n",
       "5. 98\n",
       "6. 100\n",
       "\n",
       "\n",
       "\n",
       "\n",
       "\n"
      ],
      "text/plain": [
       "[[1]]\n",
       "[1] 59 64 67 96\n",
       "\n",
       "[[2]]\n",
       "[1] 64 67 77 85 91 92 95\n",
       "\n",
       "[[3]]\n",
       "[1] 62 64 67 87 93\n",
       "\n",
       "[[4]]\n",
       "[1] 10 50 53 55 64 67 90 95\n",
       "\n",
       "[[5]]\n",
       "[1] 10 40 52 64 89 94\n",
       "\n",
       "[[6]]\n",
       "[1]   4  10  33  54  64  67  73 100\n",
       "\n",
       "[[7]]\n",
       "[1] 42 57 63 81 91\n",
       "\n",
       "[[8]]\n",
       "[1] 59 93\n",
       "\n",
       "[[9]]\n",
       "[1] 22 42 53 59 79 80 90\n",
       "\n",
       "[[10]]\n",
       "[1]  31  42  43  89 101\n",
       "\n",
       "[[11]]\n",
       "[1]  14  22  42  54  57  73  82 100 101\n",
       "\n",
       "[[12]]\n",
       "[1] 35 62 77 81 83 87 91\n",
       "\n",
       "[[13]]\n",
       "[1] 27 53 77 92\n",
       "\n",
       "[[14]]\n",
       "[1] 25 43 89 91 92\n",
       "\n",
       "[[15]]\n",
       "[1]  14  54  63  73  77  91  92 100\n",
       "\n",
       "[[16]]\n",
       "[1] 53 62 83 90\n",
       "\n",
       "[[17]]\n",
       "[1] 83 87 89 98\n",
       "\n",
       "[[18]]\n",
       "[1] 14 15 54 62 73 78 83 87\n",
       "\n",
       "[[19]]\n",
       "[1] 25 27 89 90 98\n",
       "\n",
       "[[20]]\n",
       "[1]  26  27  47  53  54  73  90 100\n",
       "\n",
       "[[21]]\n",
       "[1]  43  54  73  89  98 100\n"
      ]
     },
     "metadata": {},
     "output_type": "display_data"
    }
   ],
   "source": [
    "svmFinal@alphaindex"
   ]
  },
  {
   "cell_type": "code",
   "execution_count": 17,
   "metadata": {
    "ExecuteTime": {
     "end_time": "2021-09-23T16:04:12.565659Z",
     "start_time": "2021-09-23T16:04:02.952Z"
    }
   },
   "outputs": [
    {
     "data": {
      "text/html": [
       "<style>\n",
       ".list-inline {list-style: none; margin:0; padding: 0}\n",
       ".list-inline>li {display: inline-block}\n",
       ".list-inline>li:not(:last-child)::after {content: \"\\00b7\"; padding: 0 .5ex}\n",
       "</style>\n",
       "<ol class=list-inline><li>59</li><li>64</li><li>67</li><li>96</li><li>77</li><li>85</li><li>91</li><li>92</li><li>95</li><li>62</li><li>87</li><li>93</li><li>10</li><li>50</li><li>53</li><li>55</li><li>90</li><li>40</li><li>52</li><li>89</li><li>94</li><li>4</li><li>33</li><li>54</li><li>73</li><li>100</li><li>42</li><li>57</li><li>63</li><li>81</li><li>22</li><li>79</li><li>80</li><li>31</li><li>43</li><li>101</li><li>14</li><li>82</li><li>35</li><li>83</li><li>27</li><li>25</li><li>98</li><li>15</li><li>78</li><li>26</li><li>47</li></ol>\n"
      ],
      "text/latex": [
       "\\begin{enumerate*}\n",
       "\\item 59\n",
       "\\item 64\n",
       "\\item 67\n",
       "\\item 96\n",
       "\\item 77\n",
       "\\item 85\n",
       "\\item 91\n",
       "\\item 92\n",
       "\\item 95\n",
       "\\item 62\n",
       "\\item 87\n",
       "\\item 93\n",
       "\\item 10\n",
       "\\item 50\n",
       "\\item 53\n",
       "\\item 55\n",
       "\\item 90\n",
       "\\item 40\n",
       "\\item 52\n",
       "\\item 89\n",
       "\\item 94\n",
       "\\item 4\n",
       "\\item 33\n",
       "\\item 54\n",
       "\\item 73\n",
       "\\item 100\n",
       "\\item 42\n",
       "\\item 57\n",
       "\\item 63\n",
       "\\item 81\n",
       "\\item 22\n",
       "\\item 79\n",
       "\\item 80\n",
       "\\item 31\n",
       "\\item 43\n",
       "\\item 101\n",
       "\\item 14\n",
       "\\item 82\n",
       "\\item 35\n",
       "\\item 83\n",
       "\\item 27\n",
       "\\item 25\n",
       "\\item 98\n",
       "\\item 15\n",
       "\\item 78\n",
       "\\item 26\n",
       "\\item 47\n",
       "\\end{enumerate*}\n"
      ],
      "text/markdown": [
       "1. 59\n",
       "2. 64\n",
       "3. 67\n",
       "4. 96\n",
       "5. 77\n",
       "6. 85\n",
       "7. 91\n",
       "8. 92\n",
       "9. 95\n",
       "10. 62\n",
       "11. 87\n",
       "12. 93\n",
       "13. 10\n",
       "14. 50\n",
       "15. 53\n",
       "16. 55\n",
       "17. 90\n",
       "18. 40\n",
       "19. 52\n",
       "20. 89\n",
       "21. 94\n",
       "22. 4\n",
       "23. 33\n",
       "24. 54\n",
       "25. 73\n",
       "26. 100\n",
       "27. 42\n",
       "28. 57\n",
       "29. 63\n",
       "30. 81\n",
       "31. 22\n",
       "32. 79\n",
       "33. 80\n",
       "34. 31\n",
       "35. 43\n",
       "36. 101\n",
       "37. 14\n",
       "38. 82\n",
       "39. 35\n",
       "40. 83\n",
       "41. 27\n",
       "42. 25\n",
       "43. 98\n",
       "44. 15\n",
       "45. 78\n",
       "46. 26\n",
       "47. 47\n",
       "\n",
       "\n"
      ],
      "text/plain": [
       " [1]  59  64  67  96  77  85  91  92  95  62  87  93  10  50  53  55  90  40  52\n",
       "[20]  89  94   4  33  54  73 100  42  57  63  81  22  79  80  31  43 101  14  82\n",
       "[39]  35  83  27  25  98  15  78  26  47"
      ]
     },
     "metadata": {},
     "output_type": "display_data"
    }
   ],
   "source": [
    "svmIndex <- unique(unlist(svmFinal@alphaindex))\n",
    "svmIndex"
   ]
  },
  {
   "cell_type": "code",
   "execution_count": 18,
   "metadata": {
    "ExecuteTime": {
     "end_time": "2021-09-23T16:04:12.660978Z",
     "start_time": "2021-09-23T16:04:02.954Z"
    }
   },
   "outputs": [
    {
     "data": {
      "text/html": [
       "<table class=\"dataframe\">\n",
       "<caption>A data.frame: 47 × 17</caption>\n",
       "<thead>\n",
       "\t<tr><th></th><th scope=col>hair</th><th scope=col>feathers</th><th scope=col>eggs</th><th scope=col>milk</th><th scope=col>airborne</th><th scope=col>aquatic</th><th scope=col>predator</th><th scope=col>toothed</th><th scope=col>backbone</th><th scope=col>breathes</th><th scope=col>venomous</th><th scope=col>fins</th><th scope=col>legs</th><th scope=col>tail</th><th scope=col>domestic</th><th scope=col>catsize</th><th scope=col>type</th></tr>\n",
       "\t<tr><th></th><th scope=col>&lt;lgl&gt;</th><th scope=col>&lt;lgl&gt;</th><th scope=col>&lt;lgl&gt;</th><th scope=col>&lt;lgl&gt;</th><th scope=col>&lt;lgl&gt;</th><th scope=col>&lt;lgl&gt;</th><th scope=col>&lt;lgl&gt;</th><th scope=col>&lt;lgl&gt;</th><th scope=col>&lt;lgl&gt;</th><th scope=col>&lt;lgl&gt;</th><th scope=col>&lt;lgl&gt;</th><th scope=col>&lt;lgl&gt;</th><th scope=col>&lt;int&gt;</th><th scope=col>&lt;lgl&gt;</th><th scope=col>&lt;lgl&gt;</th><th scope=col>&lt;lgl&gt;</th><th scope=col>&lt;fct&gt;</th></tr>\n",
       "</thead>\n",
       "<tbody>\n",
       "\t<tr><th scope=row>penguin</th><td>FALSE</td><td> TRUE</td><td> TRUE</td><td>FALSE</td><td>FALSE</td><td> TRUE</td><td> TRUE</td><td>FALSE</td><td> TRUE</td><td> TRUE</td><td>FALSE</td><td>FALSE</td><td>2</td><td> TRUE</td><td>FALSE</td><td> TRUE</td><td>bird         </td></tr>\n",
       "\t<tr><th scope=row>platypus</th><td> TRUE</td><td>FALSE</td><td> TRUE</td><td> TRUE</td><td>FALSE</td><td> TRUE</td><td> TRUE</td><td>FALSE</td><td> TRUE</td><td> TRUE</td><td>FALSE</td><td>FALSE</td><td>4</td><td> TRUE</td><td>FALSE</td><td> TRUE</td><td>mammal       </td></tr>\n",
       "\t<tr><th scope=row>porpoise</th><td>FALSE</td><td>FALSE</td><td>FALSE</td><td> TRUE</td><td>FALSE</td><td> TRUE</td><td> TRUE</td><td> TRUE</td><td> TRUE</td><td> TRUE</td><td>FALSE</td><td> TRUE</td><td>0</td><td> TRUE</td><td>FALSE</td><td> TRUE</td><td>mammal       </td></tr>\n",
       "\t<tr><th scope=row>vulture</th><td>FALSE</td><td> TRUE</td><td> TRUE</td><td>FALSE</td><td> TRUE</td><td>FALSE</td><td> TRUE</td><td>FALSE</td><td> TRUE</td><td> TRUE</td><td>FALSE</td><td>FALSE</td><td>2</td><td> TRUE</td><td>FALSE</td><td> TRUE</td><td>bird         </td></tr>\n",
       "\t<tr><th scope=row>seasnake</th><td>FALSE</td><td>FALSE</td><td>FALSE</td><td>FALSE</td><td>FALSE</td><td> TRUE</td><td> TRUE</td><td> TRUE</td><td> TRUE</td><td>FALSE</td><td> TRUE</td><td>FALSE</td><td>0</td><td> TRUE</td><td>FALSE</td><td>FALSE</td><td>reptile      </td></tr>\n",
       "\t<tr><th scope=row>squirrel</th><td> TRUE</td><td>FALSE</td><td>FALSE</td><td> TRUE</td><td>FALSE</td><td>FALSE</td><td>FALSE</td><td> TRUE</td><td> TRUE</td><td> TRUE</td><td>FALSE</td><td>FALSE</td><td>2</td><td> TRUE</td><td>FALSE</td><td>FALSE</td><td>mammal       </td></tr>\n",
       "\t<tr><th scope=row>tortoise</th><td>FALSE</td><td>FALSE</td><td> TRUE</td><td>FALSE</td><td>FALSE</td><td>FALSE</td><td>FALSE</td><td>FALSE</td><td> TRUE</td><td> TRUE</td><td>FALSE</td><td>FALSE</td><td>4</td><td> TRUE</td><td>FALSE</td><td> TRUE</td><td>reptile      </td></tr>\n",
       "\t<tr><th scope=row>tuatara</th><td>FALSE</td><td>FALSE</td><td> TRUE</td><td>FALSE</td><td>FALSE</td><td>FALSE</td><td> TRUE</td><td> TRUE</td><td> TRUE</td><td> TRUE</td><td>FALSE</td><td>FALSE</td><td>4</td><td> TRUE</td><td>FALSE</td><td>FALSE</td><td>reptile      </td></tr>\n",
       "\t<tr><th scope=row>vole</th><td> TRUE</td><td>FALSE</td><td>FALSE</td><td> TRUE</td><td>FALSE</td><td>FALSE</td><td>FALSE</td><td> TRUE</td><td> TRUE</td><td> TRUE</td><td>FALSE</td><td>FALSE</td><td>4</td><td> TRUE</td><td>FALSE</td><td>FALSE</td><td>mammal       </td></tr>\n",
       "\t<tr><th scope=row>piranha</th><td>FALSE</td><td>FALSE</td><td> TRUE</td><td>FALSE</td><td>FALSE</td><td> TRUE</td><td> TRUE</td><td> TRUE</td><td> TRUE</td><td>FALSE</td><td>FALSE</td><td> TRUE</td><td>0</td><td> TRUE</td><td>FALSE</td><td>FALSE</td><td>fish         </td></tr>\n",
       "\t<tr><th scope=row>stingray</th><td>FALSE</td><td>FALSE</td><td> TRUE</td><td>FALSE</td><td>FALSE</td><td> TRUE</td><td> TRUE</td><td> TRUE</td><td> TRUE</td><td>FALSE</td><td> TRUE</td><td> TRUE</td><td>0</td><td> TRUE</td><td>FALSE</td><td> TRUE</td><td>fish         </td></tr>\n",
       "\t<tr><th scope=row>tuna</th><td>FALSE</td><td>FALSE</td><td> TRUE</td><td>FALSE</td><td>FALSE</td><td> TRUE</td><td> TRUE</td><td> TRUE</td><td> TRUE</td><td>FALSE</td><td>FALSE</td><td> TRUE</td><td>0</td><td> TRUE</td><td>FALSE</td><td> TRUE</td><td>fish         </td></tr>\n",
       "\t<tr><th scope=row>cavy</th><td> TRUE</td><td>FALSE</td><td>FALSE</td><td> TRUE</td><td>FALSE</td><td>FALSE</td><td>FALSE</td><td> TRUE</td><td> TRUE</td><td> TRUE</td><td>FALSE</td><td>FALSE</td><td>4</td><td>FALSE</td><td> TRUE</td><td>FALSE</td><td>mammal       </td></tr>\n",
       "\t<tr><th scope=row>mole</th><td> TRUE</td><td>FALSE</td><td>FALSE</td><td> TRUE</td><td>FALSE</td><td>FALSE</td><td> TRUE</td><td> TRUE</td><td> TRUE</td><td> TRUE</td><td>FALSE</td><td>FALSE</td><td>4</td><td> TRUE</td><td>FALSE</td><td>FALSE</td><td>mammal       </td></tr>\n",
       "\t<tr><th scope=row>newt</th><td>FALSE</td><td>FALSE</td><td> TRUE</td><td>FALSE</td><td>FALSE</td><td> TRUE</td><td> TRUE</td><td> TRUE</td><td> TRUE</td><td> TRUE</td><td>FALSE</td><td>FALSE</td><td>4</td><td> TRUE</td><td>FALSE</td><td>FALSE</td><td>amphibian    </td></tr>\n",
       "\t<tr><th scope=row>opossum</th><td> TRUE</td><td>FALSE</td><td>FALSE</td><td> TRUE</td><td>FALSE</td><td>FALSE</td><td> TRUE</td><td> TRUE</td><td> TRUE</td><td> TRUE</td><td>FALSE</td><td>FALSE</td><td>4</td><td> TRUE</td><td>FALSE</td><td>FALSE</td><td>mammal       </td></tr>\n",
       "\t<tr><th scope=row>toad</th><td>FALSE</td><td>FALSE</td><td> TRUE</td><td>FALSE</td><td>FALSE</td><td> TRUE</td><td>FALSE</td><td> TRUE</td><td> TRUE</td><td> TRUE</td><td>FALSE</td><td>FALSE</td><td>4</td><td>FALSE</td><td>FALSE</td><td>FALSE</td><td>amphibian    </td></tr>\n",
       "\t<tr><th scope=row>honeybee</th><td> TRUE</td><td>FALSE</td><td> TRUE</td><td>FALSE</td><td> TRUE</td><td>FALSE</td><td>FALSE</td><td>FALSE</td><td>FALSE</td><td> TRUE</td><td> TRUE</td><td>FALSE</td><td>6</td><td>FALSE</td><td> TRUE</td><td>FALSE</td><td>insect       </td></tr>\n",
       "\t<tr><th scope=row>moth</th><td> TRUE</td><td>FALSE</td><td> TRUE</td><td>FALSE</td><td> TRUE</td><td>FALSE</td><td>FALSE</td><td>FALSE</td><td>FALSE</td><td> TRUE</td><td>FALSE</td><td>FALSE</td><td>6</td><td>FALSE</td><td>FALSE</td><td>FALSE</td><td>insect       </td></tr>\n",
       "\t<tr><th scope=row>termite</th><td>FALSE</td><td>FALSE</td><td> TRUE</td><td>FALSE</td><td>FALSE</td><td>FALSE</td><td>FALSE</td><td>FALSE</td><td>FALSE</td><td> TRUE</td><td>FALSE</td><td>FALSE</td><td>6</td><td>FALSE</td><td>FALSE</td><td>FALSE</td><td>insect       </td></tr>\n",
       "\t<tr><th scope=row>vampire</th><td> TRUE</td><td>FALSE</td><td>FALSE</td><td> TRUE</td><td> TRUE</td><td>FALSE</td><td>FALSE</td><td> TRUE</td><td> TRUE</td><td> TRUE</td><td>FALSE</td><td>FALSE</td><td>2</td><td> TRUE</td><td>FALSE</td><td>FALSE</td><td>mammal       </td></tr>\n",
       "\t<tr><th scope=row>bear</th><td> TRUE</td><td>FALSE</td><td>FALSE</td><td> TRUE</td><td>FALSE</td><td>FALSE</td><td> TRUE</td><td> TRUE</td><td> TRUE</td><td> TRUE</td><td>FALSE</td><td>FALSE</td><td>4</td><td>FALSE</td><td>FALSE</td><td> TRUE</td><td>mammal       </td></tr>\n",
       "\t<tr><th scope=row>gorilla</th><td> TRUE</td><td>FALSE</td><td>FALSE</td><td> TRUE</td><td>FALSE</td><td>FALSE</td><td>FALSE</td><td> TRUE</td><td> TRUE</td><td> TRUE</td><td>FALSE</td><td>FALSE</td><td>2</td><td>FALSE</td><td>FALSE</td><td> TRUE</td><td>mammal       </td></tr>\n",
       "\t<tr><th scope=row>octopus</th><td>FALSE</td><td>FALSE</td><td> TRUE</td><td>FALSE</td><td>FALSE</td><td> TRUE</td><td> TRUE</td><td>FALSE</td><td>FALSE</td><td>FALSE</td><td>FALSE</td><td>FALSE</td><td>8</td><td>FALSE</td><td>FALSE</td><td> TRUE</td><td>mollusc.et.al</td></tr>\n",
       "\t<tr><th scope=row>scorpion</th><td>FALSE</td><td>FALSE</td><td>FALSE</td><td>FALSE</td><td>FALSE</td><td>FALSE</td><td> TRUE</td><td>FALSE</td><td>FALSE</td><td> TRUE</td><td> TRUE</td><td>FALSE</td><td>8</td><td> TRUE</td><td>FALSE</td><td>FALSE</td><td>mollusc.et.al</td></tr>\n",
       "\t<tr><th scope=row>worm</th><td>FALSE</td><td>FALSE</td><td> TRUE</td><td>FALSE</td><td>FALSE</td><td>FALSE</td><td>FALSE</td><td>FALSE</td><td>FALSE</td><td> TRUE</td><td>FALSE</td><td>FALSE</td><td>0</td><td>FALSE</td><td>FALSE</td><td>FALSE</td><td>mollusc.et.al</td></tr>\n",
       "\t<tr><th scope=row>kiwi</th><td>FALSE</td><td> TRUE</td><td> TRUE</td><td>FALSE</td><td>FALSE</td><td>FALSE</td><td> TRUE</td><td>FALSE</td><td> TRUE</td><td> TRUE</td><td>FALSE</td><td>FALSE</td><td>2</td><td> TRUE</td><td>FALSE</td><td>FALSE</td><td>bird         </td></tr>\n",
       "\t<tr><th scope=row>ostrich</th><td>FALSE</td><td> TRUE</td><td> TRUE</td><td>FALSE</td><td>FALSE</td><td>FALSE</td><td>FALSE</td><td>FALSE</td><td> TRUE</td><td> TRUE</td><td>FALSE</td><td>FALSE</td><td>2</td><td> TRUE</td><td>FALSE</td><td> TRUE</td><td>bird         </td></tr>\n",
       "\t<tr><th scope=row>pitviper</th><td>FALSE</td><td>FALSE</td><td> TRUE</td><td>FALSE</td><td>FALSE</td><td>FALSE</td><td> TRUE</td><td> TRUE</td><td> TRUE</td><td> TRUE</td><td> TRUE</td><td>FALSE</td><td>0</td><td> TRUE</td><td>FALSE</td><td>FALSE</td><td>reptile      </td></tr>\n",
       "\t<tr><th scope=row>slowworm</th><td>FALSE</td><td>FALSE</td><td> TRUE</td><td>FALSE</td><td>FALSE</td><td>FALSE</td><td> TRUE</td><td> TRUE</td><td> TRUE</td><td> TRUE</td><td>FALSE</td><td>FALSE</td><td>0</td><td> TRUE</td><td>FALSE</td><td>FALSE</td><td>reptile      </td></tr>\n",
       "\t<tr><th scope=row>duck</th><td>FALSE</td><td> TRUE</td><td> TRUE</td><td>FALSE</td><td> TRUE</td><td> TRUE</td><td>FALSE</td><td>FALSE</td><td> TRUE</td><td> TRUE</td><td>FALSE</td><td>FALSE</td><td>2</td><td> TRUE</td><td>FALSE</td><td>FALSE</td><td>bird         </td></tr>\n",
       "\t<tr><th scope=row>skimmer</th><td>FALSE</td><td> TRUE</td><td> TRUE</td><td>FALSE</td><td> TRUE</td><td> TRUE</td><td> TRUE</td><td>FALSE</td><td> TRUE</td><td> TRUE</td><td>FALSE</td><td>FALSE</td><td>2</td><td> TRUE</td><td>FALSE</td><td>FALSE</td><td>bird         </td></tr>\n",
       "\t<tr><th scope=row>skua</th><td>FALSE</td><td> TRUE</td><td> TRUE</td><td>FALSE</td><td> TRUE</td><td> TRUE</td><td> TRUE</td><td>FALSE</td><td> TRUE</td><td> TRUE</td><td>FALSE</td><td>FALSE</td><td>2</td><td> TRUE</td><td>FALSE</td><td>FALSE</td><td>bird         </td></tr>\n",
       "\t<tr><th scope=row>gnat</th><td>FALSE</td><td>FALSE</td><td> TRUE</td><td>FALSE</td><td> TRUE</td><td>FALSE</td><td>FALSE</td><td>FALSE</td><td>FALSE</td><td> TRUE</td><td>FALSE</td><td>FALSE</td><td>6</td><td>FALSE</td><td>FALSE</td><td>FALSE</td><td>insect       </td></tr>\n",
       "\t<tr><th scope=row>ladybird</th><td>FALSE</td><td>FALSE</td><td> TRUE</td><td>FALSE</td><td> TRUE</td><td>FALSE</td><td> TRUE</td><td>FALSE</td><td>FALSE</td><td> TRUE</td><td>FALSE</td><td>FALSE</td><td>6</td><td>FALSE</td><td>FALSE</td><td>FALSE</td><td>insect       </td></tr>\n",
       "\t<tr><th scope=row>wren</th><td>FALSE</td><td> TRUE</td><td> TRUE</td><td>FALSE</td><td> TRUE</td><td>FALSE</td><td>FALSE</td><td>FALSE</td><td> TRUE</td><td> TRUE</td><td>FALSE</td><td>FALSE</td><td>2</td><td> TRUE</td><td>FALSE</td><td>FALSE</td><td>bird         </td></tr>\n",
       "\t<tr><th scope=row>clam</th><td>FALSE</td><td>FALSE</td><td> TRUE</td><td>FALSE</td><td>FALSE</td><td>FALSE</td><td> TRUE</td><td>FALSE</td><td>FALSE</td><td>FALSE</td><td>FALSE</td><td>FALSE</td><td>0</td><td>FALSE</td><td>FALSE</td><td>FALSE</td><td>mollusc.et.al</td></tr>\n",
       "\t<tr><th scope=row>slug</th><td>FALSE</td><td>FALSE</td><td> TRUE</td><td>FALSE</td><td>FALSE</td><td>FALSE</td><td>FALSE</td><td>FALSE</td><td>FALSE</td><td> TRUE</td><td>FALSE</td><td>FALSE</td><td>0</td><td>FALSE</td><td>FALSE</td><td>FALSE</td><td>mollusc.et.al</td></tr>\n",
       "\t<tr><th scope=row>haddock</th><td>FALSE</td><td>FALSE</td><td> TRUE</td><td>FALSE</td><td>FALSE</td><td> TRUE</td><td>FALSE</td><td> TRUE</td><td> TRUE</td><td>FALSE</td><td>FALSE</td><td> TRUE</td><td>0</td><td> TRUE</td><td>FALSE</td><td>FALSE</td><td>fish         </td></tr>\n",
       "\t<tr><th scope=row>sole</th><td>FALSE</td><td>FALSE</td><td> TRUE</td><td>FALSE</td><td>FALSE</td><td> TRUE</td><td>FALSE</td><td> TRUE</td><td> TRUE</td><td>FALSE</td><td>FALSE</td><td> TRUE</td><td>0</td><td> TRUE</td><td>FALSE</td><td>FALSE</td><td>fish         </td></tr>\n",
       "\t<tr><th scope=row>frog.2</th><td>FALSE</td><td>FALSE</td><td> TRUE</td><td>FALSE</td><td>FALSE</td><td> TRUE</td><td> TRUE</td><td> TRUE</td><td> TRUE</td><td> TRUE</td><td> TRUE</td><td>FALSE</td><td>4</td><td>FALSE</td><td>FALSE</td><td>FALSE</td><td>amphibian    </td></tr>\n",
       "\t<tr><th scope=row>flea</th><td>FALSE</td><td>FALSE</td><td> TRUE</td><td>FALSE</td><td>FALSE</td><td>FALSE</td><td>FALSE</td><td>FALSE</td><td>FALSE</td><td> TRUE</td><td>FALSE</td><td>FALSE</td><td>6</td><td>FALSE</td><td>FALSE</td><td>FALSE</td><td>insect       </td></tr>\n",
       "\t<tr><th scope=row>wasp</th><td> TRUE</td><td>FALSE</td><td> TRUE</td><td>FALSE</td><td> TRUE</td><td>FALSE</td><td>FALSE</td><td>FALSE</td><td>FALSE</td><td> TRUE</td><td> TRUE</td><td>FALSE</td><td>6</td><td>FALSE</td><td>FALSE</td><td>FALSE</td><td>insect       </td></tr>\n",
       "\t<tr><th scope=row>crab</th><td>FALSE</td><td>FALSE</td><td> TRUE</td><td>FALSE</td><td>FALSE</td><td> TRUE</td><td> TRUE</td><td>FALSE</td><td>FALSE</td><td>FALSE</td><td>FALSE</td><td>FALSE</td><td>4</td><td>FALSE</td><td>FALSE</td><td>FALSE</td><td>mollusc.et.al</td></tr>\n",
       "\t<tr><th scope=row>seawasp</th><td>FALSE</td><td>FALSE</td><td> TRUE</td><td>FALSE</td><td>FALSE</td><td> TRUE</td><td> TRUE</td><td>FALSE</td><td>FALSE</td><td>FALSE</td><td> TRUE</td><td>FALSE</td><td>0</td><td>FALSE</td><td>FALSE</td><td>FALSE</td><td>mollusc.et.al</td></tr>\n",
       "\t<tr><th scope=row>frog.1</th><td>FALSE</td><td>FALSE</td><td> TRUE</td><td>FALSE</td><td>FALSE</td><td> TRUE</td><td> TRUE</td><td> TRUE</td><td> TRUE</td><td> TRUE</td><td>FALSE</td><td>FALSE</td><td>4</td><td>FALSE</td><td>FALSE</td><td>FALSE</td><td>amphibian    </td></tr>\n",
       "\t<tr><th scope=row>lobster</th><td>FALSE</td><td>FALSE</td><td> TRUE</td><td>FALSE</td><td>FALSE</td><td> TRUE</td><td> TRUE</td><td>FALSE</td><td>FALSE</td><td>FALSE</td><td>FALSE</td><td>FALSE</td><td>6</td><td>FALSE</td><td>FALSE</td><td>FALSE</td><td>mollusc.et.al</td></tr>\n",
       "</tbody>\n",
       "</table>\n"
      ],
      "text/latex": [
       "A data.frame: 47 × 17\n",
       "\\begin{tabular}{r|lllllllllllllllll}\n",
       "  & hair & feathers & eggs & milk & airborne & aquatic & predator & toothed & backbone & breathes & venomous & fins & legs & tail & domestic & catsize & type\\\\\n",
       "  & <lgl> & <lgl> & <lgl> & <lgl> & <lgl> & <lgl> & <lgl> & <lgl> & <lgl> & <lgl> & <lgl> & <lgl> & <int> & <lgl> & <lgl> & <lgl> & <fct>\\\\\n",
       "\\hline\n",
       "\tpenguin & FALSE &  TRUE &  TRUE & FALSE & FALSE &  TRUE &  TRUE & FALSE &  TRUE &  TRUE & FALSE & FALSE & 2 &  TRUE & FALSE &  TRUE & bird         \\\\\n",
       "\tplatypus &  TRUE & FALSE &  TRUE &  TRUE & FALSE &  TRUE &  TRUE & FALSE &  TRUE &  TRUE & FALSE & FALSE & 4 &  TRUE & FALSE &  TRUE & mammal       \\\\\n",
       "\tporpoise & FALSE & FALSE & FALSE &  TRUE & FALSE &  TRUE &  TRUE &  TRUE &  TRUE &  TRUE & FALSE &  TRUE & 0 &  TRUE & FALSE &  TRUE & mammal       \\\\\n",
       "\tvulture & FALSE &  TRUE &  TRUE & FALSE &  TRUE & FALSE &  TRUE & FALSE &  TRUE &  TRUE & FALSE & FALSE & 2 &  TRUE & FALSE &  TRUE & bird         \\\\\n",
       "\tseasnake & FALSE & FALSE & FALSE & FALSE & FALSE &  TRUE &  TRUE &  TRUE &  TRUE & FALSE &  TRUE & FALSE & 0 &  TRUE & FALSE & FALSE & reptile      \\\\\n",
       "\tsquirrel &  TRUE & FALSE & FALSE &  TRUE & FALSE & FALSE & FALSE &  TRUE &  TRUE &  TRUE & FALSE & FALSE & 2 &  TRUE & FALSE & FALSE & mammal       \\\\\n",
       "\ttortoise & FALSE & FALSE &  TRUE & FALSE & FALSE & FALSE & FALSE & FALSE &  TRUE &  TRUE & FALSE & FALSE & 4 &  TRUE & FALSE &  TRUE & reptile      \\\\\n",
       "\ttuatara & FALSE & FALSE &  TRUE & FALSE & FALSE & FALSE &  TRUE &  TRUE &  TRUE &  TRUE & FALSE & FALSE & 4 &  TRUE & FALSE & FALSE & reptile      \\\\\n",
       "\tvole &  TRUE & FALSE & FALSE &  TRUE & FALSE & FALSE & FALSE &  TRUE &  TRUE &  TRUE & FALSE & FALSE & 4 &  TRUE & FALSE & FALSE & mammal       \\\\\n",
       "\tpiranha & FALSE & FALSE &  TRUE & FALSE & FALSE &  TRUE &  TRUE &  TRUE &  TRUE & FALSE & FALSE &  TRUE & 0 &  TRUE & FALSE & FALSE & fish         \\\\\n",
       "\tstingray & FALSE & FALSE &  TRUE & FALSE & FALSE &  TRUE &  TRUE &  TRUE &  TRUE & FALSE &  TRUE &  TRUE & 0 &  TRUE & FALSE &  TRUE & fish         \\\\\n",
       "\ttuna & FALSE & FALSE &  TRUE & FALSE & FALSE &  TRUE &  TRUE &  TRUE &  TRUE & FALSE & FALSE &  TRUE & 0 &  TRUE & FALSE &  TRUE & fish         \\\\\n",
       "\tcavy &  TRUE & FALSE & FALSE &  TRUE & FALSE & FALSE & FALSE &  TRUE &  TRUE &  TRUE & FALSE & FALSE & 4 & FALSE &  TRUE & FALSE & mammal       \\\\\n",
       "\tmole &  TRUE & FALSE & FALSE &  TRUE & FALSE & FALSE &  TRUE &  TRUE &  TRUE &  TRUE & FALSE & FALSE & 4 &  TRUE & FALSE & FALSE & mammal       \\\\\n",
       "\tnewt & FALSE & FALSE &  TRUE & FALSE & FALSE &  TRUE &  TRUE &  TRUE &  TRUE &  TRUE & FALSE & FALSE & 4 &  TRUE & FALSE & FALSE & amphibian    \\\\\n",
       "\topossum &  TRUE & FALSE & FALSE &  TRUE & FALSE & FALSE &  TRUE &  TRUE &  TRUE &  TRUE & FALSE & FALSE & 4 &  TRUE & FALSE & FALSE & mammal       \\\\\n",
       "\ttoad & FALSE & FALSE &  TRUE & FALSE & FALSE &  TRUE & FALSE &  TRUE &  TRUE &  TRUE & FALSE & FALSE & 4 & FALSE & FALSE & FALSE & amphibian    \\\\\n",
       "\thoneybee &  TRUE & FALSE &  TRUE & FALSE &  TRUE & FALSE & FALSE & FALSE & FALSE &  TRUE &  TRUE & FALSE & 6 & FALSE &  TRUE & FALSE & insect       \\\\\n",
       "\tmoth &  TRUE & FALSE &  TRUE & FALSE &  TRUE & FALSE & FALSE & FALSE & FALSE &  TRUE & FALSE & FALSE & 6 & FALSE & FALSE & FALSE & insect       \\\\\n",
       "\ttermite & FALSE & FALSE &  TRUE & FALSE & FALSE & FALSE & FALSE & FALSE & FALSE &  TRUE & FALSE & FALSE & 6 & FALSE & FALSE & FALSE & insect       \\\\\n",
       "\tvampire &  TRUE & FALSE & FALSE &  TRUE &  TRUE & FALSE & FALSE &  TRUE &  TRUE &  TRUE & FALSE & FALSE & 2 &  TRUE & FALSE & FALSE & mammal       \\\\\n",
       "\tbear &  TRUE & FALSE & FALSE &  TRUE & FALSE & FALSE &  TRUE &  TRUE &  TRUE &  TRUE & FALSE & FALSE & 4 & FALSE & FALSE &  TRUE & mammal       \\\\\n",
       "\tgorilla &  TRUE & FALSE & FALSE &  TRUE & FALSE & FALSE & FALSE &  TRUE &  TRUE &  TRUE & FALSE & FALSE & 2 & FALSE & FALSE &  TRUE & mammal       \\\\\n",
       "\toctopus & FALSE & FALSE &  TRUE & FALSE & FALSE &  TRUE &  TRUE & FALSE & FALSE & FALSE & FALSE & FALSE & 8 & FALSE & FALSE &  TRUE & mollusc.et.al\\\\\n",
       "\tscorpion & FALSE & FALSE & FALSE & FALSE & FALSE & FALSE &  TRUE & FALSE & FALSE &  TRUE &  TRUE & FALSE & 8 &  TRUE & FALSE & FALSE & mollusc.et.al\\\\\n",
       "\tworm & FALSE & FALSE &  TRUE & FALSE & FALSE & FALSE & FALSE & FALSE & FALSE &  TRUE & FALSE & FALSE & 0 & FALSE & FALSE & FALSE & mollusc.et.al\\\\\n",
       "\tkiwi & FALSE &  TRUE &  TRUE & FALSE & FALSE & FALSE &  TRUE & FALSE &  TRUE &  TRUE & FALSE & FALSE & 2 &  TRUE & FALSE & FALSE & bird         \\\\\n",
       "\tostrich & FALSE &  TRUE &  TRUE & FALSE & FALSE & FALSE & FALSE & FALSE &  TRUE &  TRUE & FALSE & FALSE & 2 &  TRUE & FALSE &  TRUE & bird         \\\\\n",
       "\tpitviper & FALSE & FALSE &  TRUE & FALSE & FALSE & FALSE &  TRUE &  TRUE &  TRUE &  TRUE &  TRUE & FALSE & 0 &  TRUE & FALSE & FALSE & reptile      \\\\\n",
       "\tslowworm & FALSE & FALSE &  TRUE & FALSE & FALSE & FALSE &  TRUE &  TRUE &  TRUE &  TRUE & FALSE & FALSE & 0 &  TRUE & FALSE & FALSE & reptile      \\\\\n",
       "\tduck & FALSE &  TRUE &  TRUE & FALSE &  TRUE &  TRUE & FALSE & FALSE &  TRUE &  TRUE & FALSE & FALSE & 2 &  TRUE & FALSE & FALSE & bird         \\\\\n",
       "\tskimmer & FALSE &  TRUE &  TRUE & FALSE &  TRUE &  TRUE &  TRUE & FALSE &  TRUE &  TRUE & FALSE & FALSE & 2 &  TRUE & FALSE & FALSE & bird         \\\\\n",
       "\tskua & FALSE &  TRUE &  TRUE & FALSE &  TRUE &  TRUE &  TRUE & FALSE &  TRUE &  TRUE & FALSE & FALSE & 2 &  TRUE & FALSE & FALSE & bird         \\\\\n",
       "\tgnat & FALSE & FALSE &  TRUE & FALSE &  TRUE & FALSE & FALSE & FALSE & FALSE &  TRUE & FALSE & FALSE & 6 & FALSE & FALSE & FALSE & insect       \\\\\n",
       "\tladybird & FALSE & FALSE &  TRUE & FALSE &  TRUE & FALSE &  TRUE & FALSE & FALSE &  TRUE & FALSE & FALSE & 6 & FALSE & FALSE & FALSE & insect       \\\\\n",
       "\twren & FALSE &  TRUE &  TRUE & FALSE &  TRUE & FALSE & FALSE & FALSE &  TRUE &  TRUE & FALSE & FALSE & 2 &  TRUE & FALSE & FALSE & bird         \\\\\n",
       "\tclam & FALSE & FALSE &  TRUE & FALSE & FALSE & FALSE &  TRUE & FALSE & FALSE & FALSE & FALSE & FALSE & 0 & FALSE & FALSE & FALSE & mollusc.et.al\\\\\n",
       "\tslug & FALSE & FALSE &  TRUE & FALSE & FALSE & FALSE & FALSE & FALSE & FALSE &  TRUE & FALSE & FALSE & 0 & FALSE & FALSE & FALSE & mollusc.et.al\\\\\n",
       "\thaddock & FALSE & FALSE &  TRUE & FALSE & FALSE &  TRUE & FALSE &  TRUE &  TRUE & FALSE & FALSE &  TRUE & 0 &  TRUE & FALSE & FALSE & fish         \\\\\n",
       "\tsole & FALSE & FALSE &  TRUE & FALSE & FALSE &  TRUE & FALSE &  TRUE &  TRUE & FALSE & FALSE &  TRUE & 0 &  TRUE & FALSE & FALSE & fish         \\\\\n",
       "\tfrog.2 & FALSE & FALSE &  TRUE & FALSE & FALSE &  TRUE &  TRUE &  TRUE &  TRUE &  TRUE &  TRUE & FALSE & 4 & FALSE & FALSE & FALSE & amphibian    \\\\\n",
       "\tflea & FALSE & FALSE &  TRUE & FALSE & FALSE & FALSE & FALSE & FALSE & FALSE &  TRUE & FALSE & FALSE & 6 & FALSE & FALSE & FALSE & insect       \\\\\n",
       "\twasp &  TRUE & FALSE &  TRUE & FALSE &  TRUE & FALSE & FALSE & FALSE & FALSE &  TRUE &  TRUE & FALSE & 6 & FALSE & FALSE & FALSE & insect       \\\\\n",
       "\tcrab & FALSE & FALSE &  TRUE & FALSE & FALSE &  TRUE &  TRUE & FALSE & FALSE & FALSE & FALSE & FALSE & 4 & FALSE & FALSE & FALSE & mollusc.et.al\\\\\n",
       "\tseawasp & FALSE & FALSE &  TRUE & FALSE & FALSE &  TRUE &  TRUE & FALSE & FALSE & FALSE &  TRUE & FALSE & 0 & FALSE & FALSE & FALSE & mollusc.et.al\\\\\n",
       "\tfrog.1 & FALSE & FALSE &  TRUE & FALSE & FALSE &  TRUE &  TRUE &  TRUE &  TRUE &  TRUE & FALSE & FALSE & 4 & FALSE & FALSE & FALSE & amphibian    \\\\\n",
       "\tlobster & FALSE & FALSE &  TRUE & FALSE & FALSE &  TRUE &  TRUE & FALSE & FALSE & FALSE & FALSE & FALSE & 6 & FALSE & FALSE & FALSE & mollusc.et.al\\\\\n",
       "\\end{tabular}\n"
      ],
      "text/markdown": [
       "\n",
       "A data.frame: 47 × 17\n",
       "\n",
       "| <!--/--> | hair &lt;lgl&gt; | feathers &lt;lgl&gt; | eggs &lt;lgl&gt; | milk &lt;lgl&gt; | airborne &lt;lgl&gt; | aquatic &lt;lgl&gt; | predator &lt;lgl&gt; | toothed &lt;lgl&gt; | backbone &lt;lgl&gt; | breathes &lt;lgl&gt; | venomous &lt;lgl&gt; | fins &lt;lgl&gt; | legs &lt;int&gt; | tail &lt;lgl&gt; | domestic &lt;lgl&gt; | catsize &lt;lgl&gt; | type &lt;fct&gt; |\n",
       "|---|---|---|---|---|---|---|---|---|---|---|---|---|---|---|---|---|---|\n",
       "| penguin | FALSE |  TRUE |  TRUE | FALSE | FALSE |  TRUE |  TRUE | FALSE |  TRUE |  TRUE | FALSE | FALSE | 2 |  TRUE | FALSE |  TRUE | bird          |\n",
       "| platypus |  TRUE | FALSE |  TRUE |  TRUE | FALSE |  TRUE |  TRUE | FALSE |  TRUE |  TRUE | FALSE | FALSE | 4 |  TRUE | FALSE |  TRUE | mammal        |\n",
       "| porpoise | FALSE | FALSE | FALSE |  TRUE | FALSE |  TRUE |  TRUE |  TRUE |  TRUE |  TRUE | FALSE |  TRUE | 0 |  TRUE | FALSE |  TRUE | mammal        |\n",
       "| vulture | FALSE |  TRUE |  TRUE | FALSE |  TRUE | FALSE |  TRUE | FALSE |  TRUE |  TRUE | FALSE | FALSE | 2 |  TRUE | FALSE |  TRUE | bird          |\n",
       "| seasnake | FALSE | FALSE | FALSE | FALSE | FALSE |  TRUE |  TRUE |  TRUE |  TRUE | FALSE |  TRUE | FALSE | 0 |  TRUE | FALSE | FALSE | reptile       |\n",
       "| squirrel |  TRUE | FALSE | FALSE |  TRUE | FALSE | FALSE | FALSE |  TRUE |  TRUE |  TRUE | FALSE | FALSE | 2 |  TRUE | FALSE | FALSE | mammal        |\n",
       "| tortoise | FALSE | FALSE |  TRUE | FALSE | FALSE | FALSE | FALSE | FALSE |  TRUE |  TRUE | FALSE | FALSE | 4 |  TRUE | FALSE |  TRUE | reptile       |\n",
       "| tuatara | FALSE | FALSE |  TRUE | FALSE | FALSE | FALSE |  TRUE |  TRUE |  TRUE |  TRUE | FALSE | FALSE | 4 |  TRUE | FALSE | FALSE | reptile       |\n",
       "| vole |  TRUE | FALSE | FALSE |  TRUE | FALSE | FALSE | FALSE |  TRUE |  TRUE |  TRUE | FALSE | FALSE | 4 |  TRUE | FALSE | FALSE | mammal        |\n",
       "| piranha | FALSE | FALSE |  TRUE | FALSE | FALSE |  TRUE |  TRUE |  TRUE |  TRUE | FALSE | FALSE |  TRUE | 0 |  TRUE | FALSE | FALSE | fish          |\n",
       "| stingray | FALSE | FALSE |  TRUE | FALSE | FALSE |  TRUE |  TRUE |  TRUE |  TRUE | FALSE |  TRUE |  TRUE | 0 |  TRUE | FALSE |  TRUE | fish          |\n",
       "| tuna | FALSE | FALSE |  TRUE | FALSE | FALSE |  TRUE |  TRUE |  TRUE |  TRUE | FALSE | FALSE |  TRUE | 0 |  TRUE | FALSE |  TRUE | fish          |\n",
       "| cavy |  TRUE | FALSE | FALSE |  TRUE | FALSE | FALSE | FALSE |  TRUE |  TRUE |  TRUE | FALSE | FALSE | 4 | FALSE |  TRUE | FALSE | mammal        |\n",
       "| mole |  TRUE | FALSE | FALSE |  TRUE | FALSE | FALSE |  TRUE |  TRUE |  TRUE |  TRUE | FALSE | FALSE | 4 |  TRUE | FALSE | FALSE | mammal        |\n",
       "| newt | FALSE | FALSE |  TRUE | FALSE | FALSE |  TRUE |  TRUE |  TRUE |  TRUE |  TRUE | FALSE | FALSE | 4 |  TRUE | FALSE | FALSE | amphibian     |\n",
       "| opossum |  TRUE | FALSE | FALSE |  TRUE | FALSE | FALSE |  TRUE |  TRUE |  TRUE |  TRUE | FALSE | FALSE | 4 |  TRUE | FALSE | FALSE | mammal        |\n",
       "| toad | FALSE | FALSE |  TRUE | FALSE | FALSE |  TRUE | FALSE |  TRUE |  TRUE |  TRUE | FALSE | FALSE | 4 | FALSE | FALSE | FALSE | amphibian     |\n",
       "| honeybee |  TRUE | FALSE |  TRUE | FALSE |  TRUE | FALSE | FALSE | FALSE | FALSE |  TRUE |  TRUE | FALSE | 6 | FALSE |  TRUE | FALSE | insect        |\n",
       "| moth |  TRUE | FALSE |  TRUE | FALSE |  TRUE | FALSE | FALSE | FALSE | FALSE |  TRUE | FALSE | FALSE | 6 | FALSE | FALSE | FALSE | insect        |\n",
       "| termite | FALSE | FALSE |  TRUE | FALSE | FALSE | FALSE | FALSE | FALSE | FALSE |  TRUE | FALSE | FALSE | 6 | FALSE | FALSE | FALSE | insect        |\n",
       "| vampire |  TRUE | FALSE | FALSE |  TRUE |  TRUE | FALSE | FALSE |  TRUE |  TRUE |  TRUE | FALSE | FALSE | 2 |  TRUE | FALSE | FALSE | mammal        |\n",
       "| bear |  TRUE | FALSE | FALSE |  TRUE | FALSE | FALSE |  TRUE |  TRUE |  TRUE |  TRUE | FALSE | FALSE | 4 | FALSE | FALSE |  TRUE | mammal        |\n",
       "| gorilla |  TRUE | FALSE | FALSE |  TRUE | FALSE | FALSE | FALSE |  TRUE |  TRUE |  TRUE | FALSE | FALSE | 2 | FALSE | FALSE |  TRUE | mammal        |\n",
       "| octopus | FALSE | FALSE |  TRUE | FALSE | FALSE |  TRUE |  TRUE | FALSE | FALSE | FALSE | FALSE | FALSE | 8 | FALSE | FALSE |  TRUE | mollusc.et.al |\n",
       "| scorpion | FALSE | FALSE | FALSE | FALSE | FALSE | FALSE |  TRUE | FALSE | FALSE |  TRUE |  TRUE | FALSE | 8 |  TRUE | FALSE | FALSE | mollusc.et.al |\n",
       "| worm | FALSE | FALSE |  TRUE | FALSE | FALSE | FALSE | FALSE | FALSE | FALSE |  TRUE | FALSE | FALSE | 0 | FALSE | FALSE | FALSE | mollusc.et.al |\n",
       "| kiwi | FALSE |  TRUE |  TRUE | FALSE | FALSE | FALSE |  TRUE | FALSE |  TRUE |  TRUE | FALSE | FALSE | 2 |  TRUE | FALSE | FALSE | bird          |\n",
       "| ostrich | FALSE |  TRUE |  TRUE | FALSE | FALSE | FALSE | FALSE | FALSE |  TRUE |  TRUE | FALSE | FALSE | 2 |  TRUE | FALSE |  TRUE | bird          |\n",
       "| pitviper | FALSE | FALSE |  TRUE | FALSE | FALSE | FALSE |  TRUE |  TRUE |  TRUE |  TRUE |  TRUE | FALSE | 0 |  TRUE | FALSE | FALSE | reptile       |\n",
       "| slowworm | FALSE | FALSE |  TRUE | FALSE | FALSE | FALSE |  TRUE |  TRUE |  TRUE |  TRUE | FALSE | FALSE | 0 |  TRUE | FALSE | FALSE | reptile       |\n",
       "| duck | FALSE |  TRUE |  TRUE | FALSE |  TRUE |  TRUE | FALSE | FALSE |  TRUE |  TRUE | FALSE | FALSE | 2 |  TRUE | FALSE | FALSE | bird          |\n",
       "| skimmer | FALSE |  TRUE |  TRUE | FALSE |  TRUE |  TRUE |  TRUE | FALSE |  TRUE |  TRUE | FALSE | FALSE | 2 |  TRUE | FALSE | FALSE | bird          |\n",
       "| skua | FALSE |  TRUE |  TRUE | FALSE |  TRUE |  TRUE |  TRUE | FALSE |  TRUE |  TRUE | FALSE | FALSE | 2 |  TRUE | FALSE | FALSE | bird          |\n",
       "| gnat | FALSE | FALSE |  TRUE | FALSE |  TRUE | FALSE | FALSE | FALSE | FALSE |  TRUE | FALSE | FALSE | 6 | FALSE | FALSE | FALSE | insect        |\n",
       "| ladybird | FALSE | FALSE |  TRUE | FALSE |  TRUE | FALSE |  TRUE | FALSE | FALSE |  TRUE | FALSE | FALSE | 6 | FALSE | FALSE | FALSE | insect        |\n",
       "| wren | FALSE |  TRUE |  TRUE | FALSE |  TRUE | FALSE | FALSE | FALSE |  TRUE |  TRUE | FALSE | FALSE | 2 |  TRUE | FALSE | FALSE | bird          |\n",
       "| clam | FALSE | FALSE |  TRUE | FALSE | FALSE | FALSE |  TRUE | FALSE | FALSE | FALSE | FALSE | FALSE | 0 | FALSE | FALSE | FALSE | mollusc.et.al |\n",
       "| slug | FALSE | FALSE |  TRUE | FALSE | FALSE | FALSE | FALSE | FALSE | FALSE |  TRUE | FALSE | FALSE | 0 | FALSE | FALSE | FALSE | mollusc.et.al |\n",
       "| haddock | FALSE | FALSE |  TRUE | FALSE | FALSE |  TRUE | FALSE |  TRUE |  TRUE | FALSE | FALSE |  TRUE | 0 |  TRUE | FALSE | FALSE | fish          |\n",
       "| sole | FALSE | FALSE |  TRUE | FALSE | FALSE |  TRUE | FALSE |  TRUE |  TRUE | FALSE | FALSE |  TRUE | 0 |  TRUE | FALSE | FALSE | fish          |\n",
       "| frog.2 | FALSE | FALSE |  TRUE | FALSE | FALSE |  TRUE |  TRUE |  TRUE |  TRUE |  TRUE |  TRUE | FALSE | 4 | FALSE | FALSE | FALSE | amphibian     |\n",
       "| flea | FALSE | FALSE |  TRUE | FALSE | FALSE | FALSE | FALSE | FALSE | FALSE |  TRUE | FALSE | FALSE | 6 | FALSE | FALSE | FALSE | insect        |\n",
       "| wasp |  TRUE | FALSE |  TRUE | FALSE |  TRUE | FALSE | FALSE | FALSE | FALSE |  TRUE |  TRUE | FALSE | 6 | FALSE | FALSE | FALSE | insect        |\n",
       "| crab | FALSE | FALSE |  TRUE | FALSE | FALSE |  TRUE |  TRUE | FALSE | FALSE | FALSE | FALSE | FALSE | 4 | FALSE | FALSE | FALSE | mollusc.et.al |\n",
       "| seawasp | FALSE | FALSE |  TRUE | FALSE | FALSE |  TRUE |  TRUE | FALSE | FALSE | FALSE |  TRUE | FALSE | 0 | FALSE | FALSE | FALSE | mollusc.et.al |\n",
       "| frog.1 | FALSE | FALSE |  TRUE | FALSE | FALSE |  TRUE |  TRUE |  TRUE |  TRUE |  TRUE | FALSE | FALSE | 4 | FALSE | FALSE | FALSE | amphibian     |\n",
       "| lobster | FALSE | FALSE |  TRUE | FALSE | FALSE |  TRUE |  TRUE | FALSE | FALSE | FALSE | FALSE | FALSE | 6 | FALSE | FALSE | FALSE | mollusc.et.al |\n",
       "\n"
      ],
      "text/plain": [
       "         hair  feathers eggs  milk  airborne aquatic predator toothed backbone\n",
       "penguin  FALSE  TRUE     TRUE FALSE FALSE     TRUE    TRUE    FALSE    TRUE   \n",
       "platypus  TRUE FALSE     TRUE  TRUE FALSE     TRUE    TRUE    FALSE    TRUE   \n",
       "porpoise FALSE FALSE    FALSE  TRUE FALSE     TRUE    TRUE     TRUE    TRUE   \n",
       "vulture  FALSE  TRUE     TRUE FALSE  TRUE    FALSE    TRUE    FALSE    TRUE   \n",
       "seasnake FALSE FALSE    FALSE FALSE FALSE     TRUE    TRUE     TRUE    TRUE   \n",
       "squirrel  TRUE FALSE    FALSE  TRUE FALSE    FALSE   FALSE     TRUE    TRUE   \n",
       "tortoise FALSE FALSE     TRUE FALSE FALSE    FALSE   FALSE    FALSE    TRUE   \n",
       "tuatara  FALSE FALSE     TRUE FALSE FALSE    FALSE    TRUE     TRUE    TRUE   \n",
       "vole      TRUE FALSE    FALSE  TRUE FALSE    FALSE   FALSE     TRUE    TRUE   \n",
       "piranha  FALSE FALSE     TRUE FALSE FALSE     TRUE    TRUE     TRUE    TRUE   \n",
       "stingray FALSE FALSE     TRUE FALSE FALSE     TRUE    TRUE     TRUE    TRUE   \n",
       "tuna     FALSE FALSE     TRUE FALSE FALSE     TRUE    TRUE     TRUE    TRUE   \n",
       "cavy      TRUE FALSE    FALSE  TRUE FALSE    FALSE   FALSE     TRUE    TRUE   \n",
       "mole      TRUE FALSE    FALSE  TRUE FALSE    FALSE    TRUE     TRUE    TRUE   \n",
       "newt     FALSE FALSE     TRUE FALSE FALSE     TRUE    TRUE     TRUE    TRUE   \n",
       "opossum   TRUE FALSE    FALSE  TRUE FALSE    FALSE    TRUE     TRUE    TRUE   \n",
       "toad     FALSE FALSE     TRUE FALSE FALSE     TRUE   FALSE     TRUE    TRUE   \n",
       "honeybee  TRUE FALSE     TRUE FALSE  TRUE    FALSE   FALSE    FALSE   FALSE   \n",
       "moth      TRUE FALSE     TRUE FALSE  TRUE    FALSE   FALSE    FALSE   FALSE   \n",
       "termite  FALSE FALSE     TRUE FALSE FALSE    FALSE   FALSE    FALSE   FALSE   \n",
       "vampire   TRUE FALSE    FALSE  TRUE  TRUE    FALSE   FALSE     TRUE    TRUE   \n",
       "bear      TRUE FALSE    FALSE  TRUE FALSE    FALSE    TRUE     TRUE    TRUE   \n",
       "gorilla   TRUE FALSE    FALSE  TRUE FALSE    FALSE   FALSE     TRUE    TRUE   \n",
       "octopus  FALSE FALSE     TRUE FALSE FALSE     TRUE    TRUE    FALSE   FALSE   \n",
       "scorpion FALSE FALSE    FALSE FALSE FALSE    FALSE    TRUE    FALSE   FALSE   \n",
       "worm     FALSE FALSE     TRUE FALSE FALSE    FALSE   FALSE    FALSE   FALSE   \n",
       "kiwi     FALSE  TRUE     TRUE FALSE FALSE    FALSE    TRUE    FALSE    TRUE   \n",
       "ostrich  FALSE  TRUE     TRUE FALSE FALSE    FALSE   FALSE    FALSE    TRUE   \n",
       "pitviper FALSE FALSE     TRUE FALSE FALSE    FALSE    TRUE     TRUE    TRUE   \n",
       "slowworm FALSE FALSE     TRUE FALSE FALSE    FALSE    TRUE     TRUE    TRUE   \n",
       "duck     FALSE  TRUE     TRUE FALSE  TRUE     TRUE   FALSE    FALSE    TRUE   \n",
       "skimmer  FALSE  TRUE     TRUE FALSE  TRUE     TRUE    TRUE    FALSE    TRUE   \n",
       "skua     FALSE  TRUE     TRUE FALSE  TRUE     TRUE    TRUE    FALSE    TRUE   \n",
       "gnat     FALSE FALSE     TRUE FALSE  TRUE    FALSE   FALSE    FALSE   FALSE   \n",
       "ladybird FALSE FALSE     TRUE FALSE  TRUE    FALSE    TRUE    FALSE   FALSE   \n",
       "wren     FALSE  TRUE     TRUE FALSE  TRUE    FALSE   FALSE    FALSE    TRUE   \n",
       "clam     FALSE FALSE     TRUE FALSE FALSE    FALSE    TRUE    FALSE   FALSE   \n",
       "slug     FALSE FALSE     TRUE FALSE FALSE    FALSE   FALSE    FALSE   FALSE   \n",
       "haddock  FALSE FALSE     TRUE FALSE FALSE     TRUE   FALSE     TRUE    TRUE   \n",
       "sole     FALSE FALSE     TRUE FALSE FALSE     TRUE   FALSE     TRUE    TRUE   \n",
       "frog.2   FALSE FALSE     TRUE FALSE FALSE     TRUE    TRUE     TRUE    TRUE   \n",
       "flea     FALSE FALSE     TRUE FALSE FALSE    FALSE   FALSE    FALSE   FALSE   \n",
       "wasp      TRUE FALSE     TRUE FALSE  TRUE    FALSE   FALSE    FALSE   FALSE   \n",
       "crab     FALSE FALSE     TRUE FALSE FALSE     TRUE    TRUE    FALSE   FALSE   \n",
       "seawasp  FALSE FALSE     TRUE FALSE FALSE     TRUE    TRUE    FALSE   FALSE   \n",
       "frog.1   FALSE FALSE     TRUE FALSE FALSE     TRUE    TRUE     TRUE    TRUE   \n",
       "lobster  FALSE FALSE     TRUE FALSE FALSE     TRUE    TRUE    FALSE   FALSE   \n",
       "         breathes venomous fins  legs tail  domestic catsize type         \n",
       "penguin   TRUE    FALSE    FALSE 2     TRUE FALSE     TRUE   bird         \n",
       "platypus  TRUE    FALSE    FALSE 4     TRUE FALSE     TRUE   mammal       \n",
       "porpoise  TRUE    FALSE     TRUE 0     TRUE FALSE     TRUE   mammal       \n",
       "vulture   TRUE    FALSE    FALSE 2     TRUE FALSE     TRUE   bird         \n",
       "seasnake FALSE     TRUE    FALSE 0     TRUE FALSE    FALSE   reptile      \n",
       "squirrel  TRUE    FALSE    FALSE 2     TRUE FALSE    FALSE   mammal       \n",
       "tortoise  TRUE    FALSE    FALSE 4     TRUE FALSE     TRUE   reptile      \n",
       "tuatara   TRUE    FALSE    FALSE 4     TRUE FALSE    FALSE   reptile      \n",
       "vole      TRUE    FALSE    FALSE 4     TRUE FALSE    FALSE   mammal       \n",
       "piranha  FALSE    FALSE     TRUE 0     TRUE FALSE    FALSE   fish         \n",
       "stingray FALSE     TRUE     TRUE 0     TRUE FALSE     TRUE   fish         \n",
       "tuna     FALSE    FALSE     TRUE 0     TRUE FALSE     TRUE   fish         \n",
       "cavy      TRUE    FALSE    FALSE 4    FALSE  TRUE    FALSE   mammal       \n",
       "mole      TRUE    FALSE    FALSE 4     TRUE FALSE    FALSE   mammal       \n",
       "newt      TRUE    FALSE    FALSE 4     TRUE FALSE    FALSE   amphibian    \n",
       "opossum   TRUE    FALSE    FALSE 4     TRUE FALSE    FALSE   mammal       \n",
       "toad      TRUE    FALSE    FALSE 4    FALSE FALSE    FALSE   amphibian    \n",
       "honeybee  TRUE     TRUE    FALSE 6    FALSE  TRUE    FALSE   insect       \n",
       "moth      TRUE    FALSE    FALSE 6    FALSE FALSE    FALSE   insect       \n",
       "termite   TRUE    FALSE    FALSE 6    FALSE FALSE    FALSE   insect       \n",
       "vampire   TRUE    FALSE    FALSE 2     TRUE FALSE    FALSE   mammal       \n",
       "bear      TRUE    FALSE    FALSE 4    FALSE FALSE     TRUE   mammal       \n",
       "gorilla   TRUE    FALSE    FALSE 2    FALSE FALSE     TRUE   mammal       \n",
       "octopus  FALSE    FALSE    FALSE 8    FALSE FALSE     TRUE   mollusc.et.al\n",
       "scorpion  TRUE     TRUE    FALSE 8     TRUE FALSE    FALSE   mollusc.et.al\n",
       "worm      TRUE    FALSE    FALSE 0    FALSE FALSE    FALSE   mollusc.et.al\n",
       "kiwi      TRUE    FALSE    FALSE 2     TRUE FALSE    FALSE   bird         \n",
       "ostrich   TRUE    FALSE    FALSE 2     TRUE FALSE     TRUE   bird         \n",
       "pitviper  TRUE     TRUE    FALSE 0     TRUE FALSE    FALSE   reptile      \n",
       "slowworm  TRUE    FALSE    FALSE 0     TRUE FALSE    FALSE   reptile      \n",
       "duck      TRUE    FALSE    FALSE 2     TRUE FALSE    FALSE   bird         \n",
       "skimmer   TRUE    FALSE    FALSE 2     TRUE FALSE    FALSE   bird         \n",
       "skua      TRUE    FALSE    FALSE 2     TRUE FALSE    FALSE   bird         \n",
       "gnat      TRUE    FALSE    FALSE 6    FALSE FALSE    FALSE   insect       \n",
       "ladybird  TRUE    FALSE    FALSE 6    FALSE FALSE    FALSE   insect       \n",
       "wren      TRUE    FALSE    FALSE 2     TRUE FALSE    FALSE   bird         \n",
       "clam     FALSE    FALSE    FALSE 0    FALSE FALSE    FALSE   mollusc.et.al\n",
       "slug      TRUE    FALSE    FALSE 0    FALSE FALSE    FALSE   mollusc.et.al\n",
       "haddock  FALSE    FALSE     TRUE 0     TRUE FALSE    FALSE   fish         \n",
       "sole     FALSE    FALSE     TRUE 0     TRUE FALSE    FALSE   fish         \n",
       "frog.2    TRUE     TRUE    FALSE 4    FALSE FALSE    FALSE   amphibian    \n",
       "flea      TRUE    FALSE    FALSE 6    FALSE FALSE    FALSE   insect       \n",
       "wasp      TRUE     TRUE    FALSE 6    FALSE FALSE    FALSE   insect       \n",
       "crab     FALSE    FALSE    FALSE 4    FALSE FALSE    FALSE   mollusc.et.al\n",
       "seawasp  FALSE     TRUE    FALSE 0    FALSE FALSE    FALSE   mollusc.et.al\n",
       "frog.1    TRUE    FALSE    FALSE 4    FALSE FALSE    FALSE   amphibian    \n",
       "lobster  FALSE    FALSE    FALSE 6    FALSE FALSE    FALSE   mollusc.et.al"
      ]
     },
     "metadata": {},
     "output_type": "display_data"
    }
   ],
   "source": [
    "Zoo[svmIndex, ]"
   ]
  },
  {
   "cell_type": "markdown",
   "metadata": {},
   "source": [
    "## The confusion matrix\n",
    "\n",
    "Note that usually we want to apply the model on new testing data, not on the same training data!"
   ]
  },
  {
   "cell_type": "code",
   "execution_count": 19,
   "metadata": {
    "ExecuteTime": {
     "end_time": "2021-09-23T16:04:12.689531Z",
     "start_time": "2021-09-23T16:04:02.978Z"
    }
   },
   "outputs": [
    {
     "data": {
      "text/plain": [
       "               pred\n",
       "                mammal bird reptile fish amphibian insect mollusc.et.al\n",
       "  mammal            41    0       0    0         0      0             0\n",
       "  bird               0   20       0    0         0      0             0\n",
       "  reptile            0    0       5    0         0      0             0\n",
       "  fish               0    0       0   13         0      0             0\n",
       "  amphibian          0    0       0    0         4      0             0\n",
       "  insect             0    0       0    0         0      8             0\n",
       "  mollusc.et.al      0    0       0    0         0      0            10"
      ]
     },
     "metadata": {},
     "output_type": "display_data"
    },
    {
     "data": {
      "text/html": [
       "1"
      ],
      "text/latex": [
       "1"
      ],
      "text/markdown": [
       "1"
      ],
      "text/plain": [
       "[1] 1"
      ]
     },
     "metadata": {},
     "output_type": "display_data"
    }
   ],
   "source": [
    "# test with train data, which is not convincing, so can you try cross-validation?\n",
    "pred <- predict(svmFit, newdata = Zoo)\n",
    "table(Zoo$type, pred) # confusion matrix\n",
    "sum(Zoo$type==pred)/nrow(Zoo) # prediction accuracy"
   ]
  },
  {
   "cell_type": "markdown",
   "metadata": {},
   "source": [
    "# Example: Non-linear SVM"
   ]
  },
  {
   "cell_type": "code",
   "execution_count": 20,
   "metadata": {
    "ExecuteTime": {
     "end_time": "2021-09-23T16:04:12.711562Z",
     "start_time": "2021-09-23T16:04:02.999Z"
    }
   },
   "outputs": [
    {
     "data": {
      "text/html": [
       "<table class=\"dataframe\">\n",
       "<caption>A matrix: 6 × 3 of type dbl</caption>\n",
       "<thead>\n",
       "\t<tr><th scope=col>x1</th><th scope=col>x2</th><th scope=col>y</th></tr>\n",
       "</thead>\n",
       "<tbody>\n",
       "\t<tr><td>0</td><td>0</td><td>0</td></tr>\n",
       "\t<tr><td>0</td><td>0</td><td>0</td></tr>\n",
       "\t<tr><td>0</td><td>0</td><td>0</td></tr>\n",
       "\t<tr><td>0</td><td>0</td><td>0</td></tr>\n",
       "\t<tr><td>0</td><td>0</td><td>0</td></tr>\n",
       "\t<tr><td>0</td><td>0</td><td>0</td></tr>\n",
       "</tbody>\n",
       "</table>\n"
      ],
      "text/latex": [
       "A matrix: 6 × 3 of type dbl\n",
       "\\begin{tabular}{lll}\n",
       " x1 & x2 & y\\\\\n",
       "\\hline\n",
       "\t 0 & 0 & 0\\\\\n",
       "\t 0 & 0 & 0\\\\\n",
       "\t 0 & 0 & 0\\\\\n",
       "\t 0 & 0 & 0\\\\\n",
       "\t 0 & 0 & 0\\\\\n",
       "\t 0 & 0 & 0\\\\\n",
       "\\end{tabular}\n"
      ],
      "text/markdown": [
       "\n",
       "A matrix: 6 × 3 of type dbl\n",
       "\n",
       "| x1 | x2 | y |\n",
       "|---|---|---|\n",
       "| 0 | 0 | 0 |\n",
       "| 0 | 0 | 0 |\n",
       "| 0 | 0 | 0 |\n",
       "| 0 | 0 | 0 |\n",
       "| 0 | 0 | 0 |\n",
       "| 0 | 0 | 0 |\n",
       "\n"
      ],
      "text/plain": [
       "     x1 x2 y\n",
       "[1,] 0  0  0\n",
       "[2,] 0  0  0\n",
       "[3,] 0  0  0\n",
       "[4,] 0  0  0\n",
       "[5,] 0  0  0\n",
       "[6,] 0  0  0"
      ]
     },
     "metadata": {},
     "output_type": "display_data"
    }
   ],
   "source": [
    "n <- 100\n",
    "nld <- matrix(0, 2*n, 3, dimnames = list(NULL, c('x1', 'x2', 'y')))\n",
    "head(nld)"
   ]
  },
  {
   "cell_type": "code",
   "execution_count": 21,
   "metadata": {
    "ExecuteTime": {
     "end_time": "2021-09-23T16:04:12.819876Z",
     "start_time": "2021-09-23T16:04:03.000Z"
    }
   },
   "outputs": [
    {
     "data": {
      "image/png": "[encoded data removed]",
      "text/plain": [
       "plot without title"
      ]
     },
     "metadata": {
      "image/png": {
       "height": 420,
       "width": 420
      }
     },
     "output_type": "display_data"
    }
   ],
   "source": [
    "theta <- runif(n, 0, 2*pi)\n",
    "one <- rnorm(n, 1, 0.1)\n",
    "two <- rnorm(n, 2, 0.1)\n",
    "nld[1:100, 1] <- one*cos(theta)\n",
    "nld[1:100, 2] <- one*sin(theta)\n",
    "nld[1:100, 3] <- 1\n",
    "nld[101:200, 1] <- two*cos(theta)\n",
    "nld[101:200, 2] <- two*sin(theta)\n",
    "nld[101:200, 3] <- 2\n",
    "plot(nld[,1:2], col=nld[,3])"
   ]
  },
  {
   "cell_type": "code",
   "execution_count": 22,
   "metadata": {
    "ExecuteTime": {
     "end_time": "2021-09-23T16:04:12.842732Z",
     "start_time": "2021-09-23T16:04:03.002Z"
    }
   },
   "outputs": [
    {
     "data": {
      "text/html": [
       "<table class=\"dataframe\">\n",
       "<caption>A data.frame: 6 × 3</caption>\n",
       "<thead>\n",
       "\t<tr><th></th><th scope=col>x1</th><th scope=col>x2</th><th scope=col>y</th></tr>\n",
       "\t<tr><th></th><th scope=col>&lt;dbl&gt;</th><th scope=col>&lt;dbl&gt;</th><th scope=col>&lt;fct&gt;</th></tr>\n",
       "</thead>\n",
       "<tbody>\n",
       "\t<tr><th scope=row>1</th><td>-0.6164225</td><td> 0.7096639</td><td>1</td></tr>\n",
       "\t<tr><th scope=row>2</th><td>-0.1492561</td><td> 0.8700074</td><td>1</td></tr>\n",
       "\t<tr><th scope=row>3</th><td>-0.7848982</td><td> 0.1701877</td><td>1</td></tr>\n",
       "\t<tr><th scope=row>4</th><td> 0.6662631</td><td> 0.6579354</td><td>1</td></tr>\n",
       "\t<tr><th scope=row>5</th><td>-0.9217363</td><td> 0.3733937</td><td>1</td></tr>\n",
       "\t<tr><th scope=row>6</th><td>-0.6409158</td><td>-0.8020568</td><td>1</td></tr>\n",
       "</tbody>\n",
       "</table>\n"
      ],
      "text/latex": [
       "A data.frame: 6 × 3\n",
       "\\begin{tabular}{r|lll}\n",
       "  & x1 & x2 & y\\\\\n",
       "  & <dbl> & <dbl> & <fct>\\\\\n",
       "\\hline\n",
       "\t1 & -0.6164225 &  0.7096639 & 1\\\\\n",
       "\t2 & -0.1492561 &  0.8700074 & 1\\\\\n",
       "\t3 & -0.7848982 &  0.1701877 & 1\\\\\n",
       "\t4 &  0.6662631 &  0.6579354 & 1\\\\\n",
       "\t5 & -0.9217363 &  0.3733937 & 1\\\\\n",
       "\t6 & -0.6409158 & -0.8020568 & 1\\\\\n",
       "\\end{tabular}\n"
      ],
      "text/markdown": [
       "\n",
       "A data.frame: 6 × 3\n",
       "\n",
       "| <!--/--> | x1 &lt;dbl&gt; | x2 &lt;dbl&gt; | y &lt;fct&gt; |\n",
       "|---|---|---|---|\n",
       "| 1 | -0.6164225 |  0.7096639 | 1 |\n",
       "| 2 | -0.1492561 |  0.8700074 | 1 |\n",
       "| 3 | -0.7848982 |  0.1701877 | 1 |\n",
       "| 4 |  0.6662631 |  0.6579354 | 1 |\n",
       "| 5 | -0.9217363 |  0.3733937 | 1 |\n",
       "| 6 | -0.6409158 | -0.8020568 | 1 |\n",
       "\n"
      ],
      "text/plain": [
       "  x1         x2         y\n",
       "1 -0.6164225  0.7096639 1\n",
       "2 -0.1492561  0.8700074 1\n",
       "3 -0.7848982  0.1701877 1\n",
       "4  0.6662631  0.6579354 1\n",
       "5 -0.9217363  0.3733937 1\n",
       "6 -0.6409158 -0.8020568 1"
      ]
     },
     "metadata": {},
     "output_type": "display_data"
    }
   ],
   "source": [
    "nld <- as.data.frame(nld)\n",
    "nld$y <- as.factor(nld$y)\n",
    "head(nld)"
   ]
  },
  {
   "cell_type": "code",
   "execution_count": 23,
   "metadata": {
    "ExecuteTime": {
     "end_time": "2021-09-23T16:04:13.675193Z",
     "start_time": "2021-09-23T16:04:03.004Z"
    }
   },
   "outputs": [
    {
     "data": {
      "text/plain": [
       "   \n",
       "     1  2\n",
       "  1 64 36\n",
       "  2 57 43"
      ]
     },
     "metadata": {},
     "output_type": "display_data"
    }
   ],
   "source": [
    "model = train(y~x1+x2, data=nld, method = \"svmLinear\")\n",
    "table(nld$y, predict(model))"
   ]
  },
  {
   "cell_type": "code",
   "execution_count": 24,
   "metadata": {
    "ExecuteTime": {
     "end_time": "2021-09-23T16:04:14.904004Z",
     "start_time": "2021-09-23T16:04:03.005Z"
    }
   },
   "outputs": [
    {
     "data": {
      "text/plain": [
       "   \n",
       "      1   2\n",
       "  1 100   0\n",
       "  2   0 100"
      ]
     },
     "metadata": {},
     "output_type": "display_data"
    }
   ],
   "source": [
    "model = train(y~x1+x2, data=nld, method = \"svmRadial\")\n",
    "table(nld$y, predict(model))"
   ]
  },
  {
   "cell_type": "code",
   "execution_count": 25,
   "metadata": {
    "ExecuteTime": {
     "end_time": "2021-09-23T16:04:14.928214Z",
     "start_time": "2021-09-23T16:04:03.006Z"
    }
   },
   "outputs": [],
   "source": [
    "grid = expand.grid(x1=seq(-2,2,0.1), x2=seq(-2,2,0.1))\n",
    "pred = predict(model, grid)"
   ]
  },
  {
   "cell_type": "code",
   "execution_count": 26,
   "metadata": {
    "ExecuteTime": {
     "end_time": "2021-09-23T16:04:15.761142Z",
     "start_time": "2021-09-23T16:04:03.007Z"
    }
   },
   "outputs": [
    {
     "data": {
      "image/png": "[encoded data removed]",
      "text/plain": [
       "plot without title"
      ]
     },
     "metadata": {
      "image/png": {
       "height": 420,
       "width": 420
      }
     },
     "output_type": "display_data"
    }
   ],
   "source": [
    "plot(nld[,1:2], col=nld[,3])\n",
    "angles = c(0, 90)\n",
    "for (n in 1:nrow(grid)) {\n",
    "  x1=grid[n,1]\n",
    "  x2=grid[n,2]  \n",
    "  rect(x1-0.05, x2-0.05, x1+0.05, x2+0.05,\n",
    "       col=pred[n], border = \"transparent\", density=10, angle=angles[pred[n]])\n",
    "}"
   ]
  },
  {
   "cell_type": "markdown",
   "metadata": {},
   "source": [
    "# Random Forest"
   ]
  },
  {
   "cell_type": "code",
   "execution_count": 27,
   "metadata": {
    "ExecuteTime": {
     "end_time": "2021-09-23T16:04:15.774843Z",
     "start_time": "2021-09-23T16:04:03.032Z"
    }
   },
   "outputs": [
    {
     "data": {
      "text/html": [
       "0.96"
      ],
      "text/latex": [
       "0.96"
      ],
      "text/markdown": [
       "0.96"
      ],
      "text/plain": [
       "[1] 0.96"
      ]
     },
     "metadata": {},
     "output_type": "display_data"
    }
   ],
   "source": [
    "1-(0.2)^2"
   ]
  },
  {
   "cell_type": "code",
   "execution_count": 28,
   "metadata": {
    "ExecuteTime": {
     "end_time": "2021-09-23T16:04:21.450173Z",
     "start_time": "2021-09-23T16:04:03.033Z"
    }
   },
   "outputs": [
    {
     "data": {
      "text/plain": [
       "Random Forest \n",
       "\n",
       "101 samples\n",
       " 16 predictor\n",
       "  7 classes: 'mammal', 'bird', 'reptile', 'fish', 'amphibian', 'insect', 'mollusc.et.al' \n",
       "\n",
       "No pre-processing\n",
       "Resampling: Cross-Validated (10 fold) \n",
       "Summary of sample sizes: 91, 90, 93, 91, 92, 90, ... \n",
       "Resampling results across tuning parameters:\n",
       "\n",
       "  mtry  Accuracy   Kappa    \n",
       "   1    0.9052525  0.8691250\n",
       "   2    0.9616162  0.9487939\n",
       "   3    0.9707071  0.9602522\n",
       "   4    0.9616162  0.9487939\n",
       "   5    0.9616162  0.9487939\n",
       "   6    0.9727273  0.9645833\n",
       "   7    0.9727273  0.9645833\n",
       "   8    0.9727273  0.9638441\n",
       "   9    0.9818182  0.9760417\n",
       "  10    0.9818182  0.9760417\n",
       "\n",
       "Accuracy was used to select the optimal model using the largest value.\n",
       "The final value used for the model was mtry = 9."
      ]
     },
     "metadata": {},
     "output_type": "display_data"
    }
   ],
   "source": [
    "set.seed(542)\n",
    "rfFit <- train(type ~ ., data = Zoo, method = \"rf\",\n",
    "    trControl = trainControl(method = \"cv\", number = 10),\n",
    "    tuneGrid = expand.grid(\n",
    "        mtry = 1:10\n",
    "    )\n",
    ")\n",
    "rfFit"
   ]
  },
  {
   "cell_type": "markdown",
   "metadata": {},
   "source": [
    "# Gradient Boosted Decision Trees (xgboost)"
   ]
  },
  {
   "cell_type": "code",
   "execution_count": 29,
   "metadata": {
    "ExecuteTime": {
     "end_time": "2021-09-23T16:04:22.639542Z",
     "start_time": "2021-09-23T16:04:03.055Z"
    }
   },
   "outputs": [
    {
     "data": {
      "text/plain": [
       "eXtreme Gradient Boosting \n",
       "\n",
       "101 samples\n",
       " 16 predictor\n",
       "  7 classes: 'mammal', 'bird', 'reptile', 'fish', 'amphibian', 'insect', 'mollusc.et.al' \n",
       "\n",
       "No pre-processing\n",
       "Resampling: Cross-Validated (10 fold) \n",
       "Summary of sample sizes: 90, 91, 91, 89, 91, 91, ... \n",
       "Resampling results:\n",
       "\n",
       "  Accuracy   Kappa    \n",
       "  0.9425758  0.9246793\n",
       "\n",
       "Tuning parameter 'nrounds' was held constant at a value of 20\n",
       "Tuning\n",
       " held constant at a value of 1\n",
       "Tuning parameter 'subsample' was held\n",
       " constant at a value of 0.5"
      ]
     },
     "metadata": {},
     "output_type": "display_data"
    }
   ],
   "source": [
    "xgbFit <- train(type ~ ., data = Zoo, method = \"xgbTree\",\n",
    "    trControl = trainControl(method = \"cv\", number = 10),\n",
    "    tuneGrid = expand.grid(\n",
    "        nrounds = 20,\n",
    "        max_depth = 3,\n",
    "        colsample_bytree = .6,\n",
    "        eta = 0.1,\n",
    "        gamma=0,\n",
    "        min_child_weight = 1,\n",
    "        subsample = .5\n",
    "    )\n",
    ")\n",
    "xgbFit"
   ]
  },
  {
   "cell_type": "markdown",
   "metadata": {},
   "source": [
    "# Artificial Neural Network"
   ]
  },
  {
   "cell_type": "code",
   "execution_count": 30,
   "metadata": {
    "ExecuteTime": {
     "end_time": "2021-09-23T16:04:29.585061Z",
     "start_time": "2021-09-23T16:04:03.080Z"
    }
   },
   "outputs": [
    {
     "data": {
      "text/plain": [
       "Neural Network \n",
       "\n",
       "101 samples\n",
       " 16 predictor\n",
       "  7 classes: 'mammal', 'bird', 'reptile', 'fish', 'amphibian', 'insect', 'mollusc.et.al' \n",
       "\n",
       "No pre-processing\n",
       "Resampling: Cross-Validated (10 fold) \n",
       "Summary of sample sizes: 91, 92, 91, 93, 91, 90, ... \n",
       "Resampling results across tuning parameters:\n",
       "\n",
       "  size  decay  Accuracy   Kappa    \n",
       "  1     0e+00  0.7738889  0.6855852\n",
       "  1     1e-04  0.6789141  0.5492423\n",
       "  1     1e-03  0.8361616  0.7722988\n",
       "  1     1e-02  0.8279798  0.7720353\n",
       "  1     1e-01  0.7391162  0.6470786\n",
       "  3     0e+00  0.8272980  0.7606187\n",
       "  3     1e-04  0.9025253  0.8688256\n",
       "  3     1e-03  0.9316162  0.9077726\n",
       "  3     1e-02  0.9697980  0.9575613\n",
       "  3     1e-01  0.9425253  0.9226960\n",
       "  5     0e+00  0.9300253  0.9053570\n",
       "  5     1e-04  0.9191162  0.8904406\n",
       "  5     1e-03  0.9507071  0.9329953\n",
       "  5     1e-02  0.9507071  0.9329953\n",
       "  5     1e-01  0.9507071  0.9329953\n",
       "  7     0e+00  0.9291162  0.9028154\n",
       "  7     1e-04  0.9382071  0.9136859\n",
       "  7     1e-03  0.9507071  0.9329953\n",
       "  7     1e-02  0.9507071  0.9329953\n",
       "  7     1e-01  0.9507071  0.9329953\n",
       "  9     0e+00  0.9382071  0.9145697\n",
       "  9     1e-04  0.9472980  0.9273584\n",
       "  9     1e-03  0.9607071  0.9459823\n",
       "  9     1e-02  0.9507071  0.9329953\n",
       "  9     1e-01  0.9507071  0.9329953\n",
       "\n",
       "Accuracy was used to select the optimal model using the largest value.\n",
       "The final values used for the model were size = 3 and decay = 0.01."
      ]
     },
     "metadata": {},
     "output_type": "display_data"
    }
   ],
   "source": [
    "nnetFit <- train(type ~ ., data = Zoo, method = \"nnet\",\n",
    "    trControl = trainControl(method = \"cv\", number = 10),\n",
    "    tuneLength = 5,\n",
    "    trace = FALSE)\n",
    "nnetFit"
   ]
  },
  {
   "cell_type": "markdown",
   "metadata": {
    "ExecuteTime": {
     "end_time": "2021-02-15T19:48:57.007841Z",
     "start_time": "2021-02-15T19:48:56.985Z"
    }
   },
   "source": [
    "# Package: randomForest"
   ]
  },
  {
   "cell_type": "code",
   "execution_count": 31,
   "metadata": {
    "ExecuteTime": {
     "end_time": "2021-09-23T16:04:29.785095Z",
     "start_time": "2021-09-23T16:04:03.105Z"
    }
   },
   "outputs": [
    {
     "name": "stderr",
     "output_type": "stream",
     "text": [
      "randomForest 4.6-14\n",
      "\n",
      "Type rfNews() to see new features/changes/bug fixes.\n",
      "\n",
      "\n",
      "Attaching package: ‘randomForest’\n",
      "\n",
      "\n",
      "The following object is masked from ‘package:dplyr’:\n",
      "\n",
      "    combine\n",
      "\n",
      "\n",
      "The following object is masked from ‘package:ggplot2’:\n",
      "\n",
      "    margin\n",
      "\n",
      "\n"
     ]
    },
    {
     "name": "stdout",
     "output_type": "stream",
     "text": [
      "\n",
      "Call:\n",
      " randomForest(x = iris[, -5], y = iris[, 5], proximity = TRUE) \n",
      "               Type of random forest: classification\n",
      "                     Number of trees: 500\n",
      "No. of variables tried at each split: 2\n",
      "\n",
      "        OOB estimate of  error rate: 4%\n",
      "Confusion matrix:\n",
      "           setosa versicolor virginica class.error\n",
      "setosa         50          0         0        0.00\n",
      "versicolor      0         47         3        0.06\n",
      "virginica       0          3        47        0.06\n"
     ]
    },
    {
     "data": {
      "image/png": "[encoded data removed]",
      "text/plain": [
       "Plot with title “Iris Data with Prototypes”"
      ]
     },
     "metadata": {
      "image/png": {
       "height": 420,
       "width": 420
      }
     },
     "output_type": "display_data"
    }
   ],
   "source": [
    "library(randomForest)\n",
    "rf <- randomForest(iris[,-5], iris[,5], prox=TRUE)\n",
    "rf.p <- classCenter(iris[,-5], iris[,5], rf$prox)\n",
    "plot(iris[,3], iris[,4], pch=21, xlab=names(iris)[3], ylab=names(iris)[4],\n",
    "     bg=c(\"red\", \"blue\", \"green\")[as.numeric(factor(iris$Species))],\n",
    "     main=\"Iris Data with Prototypes\")\n",
    "points(rf.p[,3], rf.p[,4], pch=21, cex=2, bg=c(\"red\", \"blue\", \"green\"))\n",
    "print(rf)"
   ]
  }
 ],
 "metadata": {
  "authors": [
   {
    "name": "Charles Liu"
   },
   {
    "name": "BZAN 542"
   }
  ],
  "hide_input": false,
  "kernelspec": {
   "display_name": "R",
   "language": "R",
   "name": "ir"
  },
  "language_info": {
   "codemirror_mode": "r",
   "file_extension": ".r",
   "mimetype": "text/x-r-source",
   "name": "R",
   "pygments_lexer": "r",
   "version": "4.1.1"
  },
  "toc": {
   "base_numbering": 1,
   "nav_menu": {},
   "number_sections": true,
   "sideBar": true,
   "skip_h1_title": false,
   "title_cell": "Table of Contents",
   "title_sidebar": "Contents",
   "toc_cell": false,
   "toc_position": {},
   "toc_section_display": true,
   "toc_window_display": true
  },
  "varInspector": {
   "cols": {
    "lenName": 16,
    "lenType": 16,
    "lenVar": 40
   },
   "kernels_config": {
    "python": {
     "delete_cmd_postfix": "",
     "delete_cmd_prefix": "del ",
     "library": "var_list.py",
     "varRefreshCmd": "print(var_dic_list())"
    },
    "r": {
     "delete_cmd_postfix": ") ",
     "delete_cmd_prefix": "rm(",
     "library": "var_list.r",
     "varRefreshCmd": "cat(var_dic_list()) "
    }
   },
   "types_to_exclude": [
    "module",
    "function",
    "builtin_function_or_method",
    "instance",
    "_Feature"
   ],
   "window_display": false
  }
 },
 "nbformat": 4,
 "nbformat_minor": 4
}
